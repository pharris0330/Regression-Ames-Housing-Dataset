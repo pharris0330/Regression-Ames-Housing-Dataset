{
 "cells": [
  {
   "cell_type": "markdown",
   "id": "fd3de8bf-20db-4770-a832-8e79b81db30d",
   "metadata": {},
   "source": [
    "Notes:\n",
    "-Poly into Lasso....\n",
    "-# Coefficients (pd.Series(ridge.coef_, index=features).plot.bar(figsize=(15, 7)))\n",
    "model.coef_ (3.01)\n",
    "-model intercepts...model.intercept_ (3.01)\n",
    "-What is the null score....\n",
    "-Heteroscedasticity....y_pred vs. residuals\n",
    "-RMSE sgrt(mean_squared_error(y, y_hat)) !!!! MSE(mean_squared_error(y, y_hat))!!!\n",
    "     >less error....better fit....\n",
    "-Polynomial fit?\n",
    "-scale data?\n",
    "-Normalize columns (does it impact correlation?) (natural log)\n",
    "-Correllations....\n",
    "-Regularization (Scale...)(try L1 and L2 in the LogReg ....)\n",
    "    >Ridge\n",
    "    >Lasso\n",
    "    >Elastic Net\n",
    "-Remove similar variables\n",
    "-To many variables?\n",
    "-Underfit? Overfit?\n",
    "-Cross Validation score....\n",
    "-R2 score....R2 adjusted....\n",
    "-LINEM....(bottom of 3.01)\n",
    "\n"
   ]
  },
  {
   "cell_type": "code",
   "execution_count": 6,
   "id": "ea92648d-f11d-45d8-bfd5-f2acda357d0d",
   "metadata": {},
   "outputs": [],
   "source": [
    "# Imports:\n",
    "import pandas as pd\n",
    "import numpy as np\n",
    "import matplotlib.pyplot as plt\n",
    "import math\n",
    "import seaborn as sns\n",
    "\n",
    "from sklearn.linear_model import LinearRegression, LassoCV, RidgeCV\n",
    "from sklearn.metrics import mean_squared_error\n",
    "from sklearn.model_selection import train_test_split, cross_val_score, cross_val_predict"
   ]
  },
  {
   "cell_type": "code",
   "execution_count": null,
   "id": "7232e8f3-3c4d-4fb8-80b7-f4a6cac6e799",
   "metadata": {},
   "outputs": [],
   "source": []
  },
  {
   "cell_type": "code",
   "execution_count": 7,
   "id": "3261083e-89bd-424a-ae07-0221f2fd51ea",
   "metadata": {},
   "outputs": [],
   "source": [
    "import pandas as pd\n",
    "\n",
    "train = pd.read_csv('./1- Datasets/train_general2.csv')\n"
   ]
  },
  {
   "cell_type": "code",
   "execution_count": 9,
   "id": "799747d4-153b-40f7-9914-7e8a335ca370",
   "metadata": {},
   "outputs": [],
   "source": [
    "test = pd.read_csv('1- Datasets/test.csv', keep_default_na=False, na_values=[''])"
   ]
  },
  {
   "cell_type": "code",
   "execution_count": 10,
   "id": "8b1abb04-ccf9-4ba9-8d70-54001d4d4a0f",
   "metadata": {},
   "outputs": [
    {
     "data": {
      "text/plain": [
       "(2008, 81)"
      ]
     },
     "execution_count": 10,
     "metadata": {},
     "output_type": "execute_result"
    }
   ],
   "source": [
    "train.shape"
   ]
  },
  {
   "cell_type": "code",
   "execution_count": 11,
   "id": "c6c16ec3-c734-4445-8a95-46f8ac7b4ffb",
   "metadata": {},
   "outputs": [
    {
     "data": {
      "text/html": [
       "<div>\n",
       "<style scoped>\n",
       "    .dataframe tbody tr th:only-of-type {\n",
       "        vertical-align: middle;\n",
       "    }\n",
       "\n",
       "    .dataframe tbody tr th {\n",
       "        vertical-align: top;\n",
       "    }\n",
       "\n",
       "    .dataframe thead th {\n",
       "        text-align: right;\n",
       "    }\n",
       "</style>\n",
       "<table border=\"1\" class=\"dataframe\">\n",
       "  <thead>\n",
       "    <tr style=\"text-align: right;\">\n",
       "      <th></th>\n",
       "      <th>Id</th>\n",
       "      <th>PID</th>\n",
       "      <th>MS SubClass</th>\n",
       "      <th>MS Zoning</th>\n",
       "      <th>Lot Frontage</th>\n",
       "      <th>Lot Area</th>\n",
       "      <th>Street</th>\n",
       "      <th>Alley</th>\n",
       "      <th>Lot Shape</th>\n",
       "      <th>Land Contour</th>\n",
       "      <th>...</th>\n",
       "      <th>Screen Porch</th>\n",
       "      <th>Pool Area</th>\n",
       "      <th>Pool QC</th>\n",
       "      <th>Fence</th>\n",
       "      <th>Misc Feature</th>\n",
       "      <th>Misc Val</th>\n",
       "      <th>Mo Sold</th>\n",
       "      <th>Yr Sold</th>\n",
       "      <th>Sale Type</th>\n",
       "      <th>SalePrice</th>\n",
       "    </tr>\n",
       "  </thead>\n",
       "  <tbody>\n",
       "    <tr>\n",
       "      <th>0</th>\n",
       "      <td>109</td>\n",
       "      <td>533352170</td>\n",
       "      <td>60</td>\n",
       "      <td>RL</td>\n",
       "      <td>NaN</td>\n",
       "      <td>13517</td>\n",
       "      <td>Pave</td>\n",
       "      <td>NaN</td>\n",
       "      <td>IR1</td>\n",
       "      <td>Lvl</td>\n",
       "      <td>...</td>\n",
       "      <td>0</td>\n",
       "      <td>0</td>\n",
       "      <td>NaN</td>\n",
       "      <td>NaN</td>\n",
       "      <td>NaN</td>\n",
       "      <td>0</td>\n",
       "      <td>3</td>\n",
       "      <td>2010</td>\n",
       "      <td>WD</td>\n",
       "      <td>130500</td>\n",
       "    </tr>\n",
       "    <tr>\n",
       "      <th>1</th>\n",
       "      <td>544</td>\n",
       "      <td>531379050</td>\n",
       "      <td>60</td>\n",
       "      <td>RL</td>\n",
       "      <td>43.0</td>\n",
       "      <td>11492</td>\n",
       "      <td>Pave</td>\n",
       "      <td>NaN</td>\n",
       "      <td>IR1</td>\n",
       "      <td>Lvl</td>\n",
       "      <td>...</td>\n",
       "      <td>0</td>\n",
       "      <td>0</td>\n",
       "      <td>NaN</td>\n",
       "      <td>NaN</td>\n",
       "      <td>NaN</td>\n",
       "      <td>0</td>\n",
       "      <td>4</td>\n",
       "      <td>2009</td>\n",
       "      <td>WD</td>\n",
       "      <td>220000</td>\n",
       "    </tr>\n",
       "    <tr>\n",
       "      <th>2</th>\n",
       "      <td>153</td>\n",
       "      <td>535304180</td>\n",
       "      <td>20</td>\n",
       "      <td>RL</td>\n",
       "      <td>68.0</td>\n",
       "      <td>7922</td>\n",
       "      <td>Pave</td>\n",
       "      <td>NaN</td>\n",
       "      <td>Reg</td>\n",
       "      <td>Lvl</td>\n",
       "      <td>...</td>\n",
       "      <td>0</td>\n",
       "      <td>0</td>\n",
       "      <td>NaN</td>\n",
       "      <td>NaN</td>\n",
       "      <td>NaN</td>\n",
       "      <td>0</td>\n",
       "      <td>1</td>\n",
       "      <td>2010</td>\n",
       "      <td>WD</td>\n",
       "      <td>109000</td>\n",
       "    </tr>\n",
       "  </tbody>\n",
       "</table>\n",
       "<p>3 rows × 81 columns</p>\n",
       "</div>"
      ],
      "text/plain": [
       "    Id        PID  MS SubClass MS Zoning  Lot Frontage  Lot Area Street Alley  \\\n",
       "0  109  533352170           60        RL           NaN     13517   Pave   NaN   \n",
       "1  544  531379050           60        RL          43.0     11492   Pave   NaN   \n",
       "2  153  535304180           20        RL          68.0      7922   Pave   NaN   \n",
       "\n",
       "  Lot Shape Land Contour  ... Screen Porch Pool Area Pool QC Fence  \\\n",
       "0       IR1          Lvl  ...            0         0     NaN   NaN   \n",
       "1       IR1          Lvl  ...            0         0     NaN   NaN   \n",
       "2       Reg          Lvl  ...            0         0     NaN   NaN   \n",
       "\n",
       "  Misc Feature Misc Val Mo Sold Yr Sold  Sale Type  SalePrice  \n",
       "0          NaN        0       3    2010        WD      130500  \n",
       "1          NaN        0       4    2009        WD      220000  \n",
       "2          NaN        0       1    2010        WD      109000  \n",
       "\n",
       "[3 rows x 81 columns]"
      ]
     },
     "execution_count": 11,
     "metadata": {},
     "output_type": "execute_result"
    }
   ],
   "source": [
    "train.head(3)"
   ]
  },
  {
   "cell_type": "raw",
   "id": "42d371f6-be5c-4174-97d5-e6e7c1d97128",
   "metadata": {},
   "source": []
  },
  {
   "cell_type": "markdown",
   "id": "b7d57293-16b5-4f3b-914b-319192b9b340",
   "metadata": {},
   "source": [
    "### Train-test splitting"
   ]
  },
  {
   "cell_type": "code",
   "execution_count": 12,
   "id": "f98830fc-7de5-4f28-800f-b021ae94488b",
   "metadata": {},
   "outputs": [],
   "source": [
    "from sklearn.linear_model import LinearRegression\n",
    "from sklearn.metrics import mean_squared_error\n",
    "from sklearn.model_selection import train_test_split\n",
    "\n",
    "import matplotlib.pyplot as plt"
   ]
  },
  {
   "cell_type": "code",
   "execution_count": 13,
   "id": "2e82aed0-e8f9-4a56-9df2-e1a496a40652",
   "metadata": {},
   "outputs": [],
   "source": [
    "X=train[['Overall Qual', 'Gr Liv Area','Garage Cars', 'Garage Area','Total Bsmt SF','Year Built','Full Bath']]"
   ]
  },
  {
   "cell_type": "code",
   "execution_count": 14,
   "id": "f1f343c2-23a5-4620-825b-fbee799bc471",
   "metadata": {},
   "outputs": [
    {
     "data": {
      "text/plain": [
       "(2008, 7)"
      ]
     },
     "execution_count": 14,
     "metadata": {},
     "output_type": "execute_result"
    }
   ],
   "source": [
    "X.shape"
   ]
  },
  {
   "cell_type": "code",
   "execution_count": 15,
   "id": "a7f0931c-1071-485f-98bc-e1051daf05db",
   "metadata": {},
   "outputs": [],
   "source": [
    "y = train['SalePrice']"
   ]
  },
  {
   "cell_type": "code",
   "execution_count": 16,
   "id": "94ad8669-be70-4658-a203-f3d0f91da8b5",
   "metadata": {},
   "outputs": [
    {
     "data": {
      "text/plain": [
       "(2008,)"
      ]
     },
     "execution_count": 16,
     "metadata": {},
     "output_type": "execute_result"
    }
   ],
   "source": [
    "y.shape"
   ]
  },
  {
   "cell_type": "code",
   "execution_count": 17,
   "id": "ce14c189-14b3-46aa-a365-fd967d591955",
   "metadata": {},
   "outputs": [],
   "source": [
    "# X before y; train before test\n",
    "X_train, X_test, y_train, y_test = train_test_split(X, y, random_state=42)"
   ]
  },
  {
   "cell_type": "code",
   "execution_count": 18,
   "id": "3b52b3d0-6f6f-49c3-ac69-730239a9da16",
   "metadata": {},
   "outputs": [
    {
     "name": "stdout",
     "output_type": "stream",
     "text": [
      "X Shapes:\n",
      "Train: (1506, 7)\n",
      "Test: (502, 7)\n",
      " \n",
      "y Shapes:\n",
      "Train: (1506,)\n",
      "Test: (502,)\n"
     ]
    }
   ],
   "source": [
    "# Get the shapes the training and testing subsets\n",
    "print(\"X Shapes:\")\n",
    "print(f\"Train: {X_train.shape}\")\n",
    "print(f\"Test: {X_test.shape}\")\n",
    "print(\" \")\n",
    "print(\"y Shapes:\")\n",
    "print(f\"Train: {y_train.shape}\")\n",
    "print(f\"Test: {y_test.shape}\")"
   ]
  },
  {
   "cell_type": "code",
   "execution_count": null,
   "id": "a9f6f693-fbb5-4e04-b6ff-57831d89bae3",
   "metadata": {},
   "outputs": [],
   "source": []
  },
  {
   "cell_type": "markdown",
   "id": "f57242a7-9bce-4e73-a1a6-3dbae4b7e223",
   "metadata": {},
   "source": [
    "### Linear Regression model fit"
   ]
  },
  {
   "cell_type": "code",
   "execution_count": 19,
   "id": "7bf84a3b-9562-4549-bf0b-b974677de317",
   "metadata": {},
   "outputs": [
    {
     "data": {
      "text/plain": [
       "LinearRegression()"
      ]
     },
     "execution_count": 19,
     "metadata": {},
     "output_type": "execute_result"
    }
   ],
   "source": [
    "lr = LinearRegression()\n",
    "lr.fit(X_train, y_train)"
   ]
  },
  {
   "cell_type": "code",
   "execution_count": 20,
   "id": "5482b0a3-f55a-443b-b48b-380de7ac6dfe",
   "metadata": {},
   "outputs": [
    {
     "data": {
      "text/plain": [
       "(0.8267029462628541, 0.8327039014675297)"
      ]
     },
     "execution_count": 20,
     "metadata": {},
     "output_type": "execute_result"
    }
   ],
   "source": [
    "lr.score(X_train, y_train), lr.score(X_test, y_test)"
   ]
  },
  {
   "cell_type": "code",
   "execution_count": 21,
   "id": "a58fb458-4a09-4ae1-a897-71ad9e8de6ed",
   "metadata": {},
   "outputs": [],
   "source": [
    "train_pred = lr.predict(X_train)\n",
    "test_pred = lr.predict(X_test)"
   ]
  },
  {
   "cell_type": "code",
   "execution_count": 22,
   "id": "b3dedc08-65c4-47de-a148-73fabc55c70e",
   "metadata": {},
   "outputs": [],
   "source": [
    "#check on the historical increase...."
   ]
  },
  {
   "cell_type": "code",
   "execution_count": null,
   "id": "73cd81eb-c790-41ab-86b1-d6b10d146734",
   "metadata": {},
   "outputs": [],
   "source": []
  },
  {
   "cell_type": "markdown",
   "id": "8cd0dee0-61d8-4ddd-ad81-b45e84efb389",
   "metadata": {},
   "source": [
    "### Cross Validation"
   ]
  },
  {
   "cell_type": "code",
   "execution_count": 24,
   "id": "dc16e679-8c43-40ec-80ba-23a32979e65a",
   "metadata": {},
   "outputs": [],
   "source": [
    "from sklearn.model_selection import cross_val_score, cross_val_predict"
   ]
  },
  {
   "cell_type": "code",
   "execution_count": 25,
   "id": "249d3953-443e-4abc-b4e4-bfc4cdf8a4c8",
   "metadata": {},
   "outputs": [
    {
     "data": {
      "text/plain": [
       "0.8241085244168387"
      ]
     },
     "execution_count": 25,
     "metadata": {},
     "output_type": "execute_result"
    }
   ],
   "source": [
    "lr_scores = cross_val_score(lr, X_train, y_train, cv=5)\n",
    "lr_scores.mean()"
   ]
  },
  {
   "cell_type": "code",
   "execution_count": 26,
   "id": "0aa79bff-73a2-4dde-a5e1-257c8e171b5e",
   "metadata": {},
   "outputs": [
    {
     "data": {
      "text/plain": [
       "(502, 7)"
      ]
     },
     "metadata": {},
     "output_type": "display_data"
    },
    {
     "data": {
      "text/plain": [
       "(1506, 7)"
      ]
     },
     "metadata": {},
     "output_type": "display_data"
    },
    {
     "data": {
      "text/plain": [
       "(1506,)"
      ]
     },
     "metadata": {},
     "output_type": "display_data"
    },
    {
     "data": {
      "text/plain": [
       "(502,)"
      ]
     },
     "metadata": {},
     "output_type": "display_data"
    }
   ],
   "source": [
    "display(X_test.shape, X_train.shape,y_train.shape,y_test.shape)"
   ]
  },
  {
   "cell_type": "code",
   "execution_count": 44,
   "id": "8bcf2612-6a84-4293-b843-9e50624a9635",
   "metadata": {},
   "outputs": [
    {
     "data": {
      "text/plain": [
       "array([163730.2005797 , 238979.54986879, 121152.57594008, 138827.15205693,\n",
       "       130974.74280144, 216903.34484227, 146860.94927296, 149437.24541981,\n",
       "       116215.16042808, 199627.16140108])"
      ]
     },
     "execution_count": 44,
     "metadata": {},
     "output_type": "execute_result"
    }
   ],
   "source": [
    "cross_val_predict(estimator=lr, X=X, y=y)[0:10]"
   ]
  },
  {
   "cell_type": "code",
   "execution_count": null,
   "id": "bdb12581-810c-4f04-8620-4da6900dacd0",
   "metadata": {},
   "outputs": [],
   "source": []
  },
  {
   "cell_type": "markdown",
   "id": "317c6fbb-cbdd-4e65-9226-0db027bdddd4",
   "metadata": {},
   "source": [
    "## Interpreting Slopes"
   ]
  },
  {
   "cell_type": "code",
   "execution_count": 27,
   "id": "3e90ec32-9f67-49cd-a57c-a15a84fe737f",
   "metadata": {},
   "outputs": [],
   "source": [
    "features = ['Overall Qual', 'Gr Liv Area','Garage Cars', 'Garage Area', 'Total Bsmt SF','Year Built','Full Bath']"
   ]
  },
  {
   "cell_type": "code",
   "execution_count": 28,
   "id": "6ce24a28-52fb-4e97-aa17-a288b8c3988c",
   "metadata": {},
   "outputs": [
    {
     "data": {
      "text/plain": [
       "[('Overall Qual', 18999.996650947633),\n",
       " ('Gr Liv Area', 58.558225234009534),\n",
       " ('Garage Cars', 1703.212754751269),\n",
       " ('Garage Area', 46.39793968287538),\n",
       " ('Total Bsmt SF', 32.98975317835291),\n",
       " ('Year Built', 395.43622060522455),\n",
       " ('Full Bath', -10922.620835186926)]"
      ]
     },
     "execution_count": 28,
     "metadata": {},
     "output_type": "execute_result"
    }
   ],
   "source": [
    "list(zip(features, lr.coef_))"
   ]
  },
  {
   "cell_type": "code",
   "execution_count": 29,
   "id": "a35d5361-5ec0-4097-869b-684dec64a50e",
   "metadata": {},
   "outputs": [
    {
     "data": {
      "text/plain": [
       "{'Overall Qual': 18999.996650947633,\n",
       " 'Gr Liv Area': 58.558225234009534,\n",
       " 'Garage Cars': 1703.212754751269,\n",
       " 'Garage Area': 46.39793968287538,\n",
       " 'Total Bsmt SF': 32.98975317835291,\n",
       " 'Year Built': 395.43622060522455,\n",
       " 'Full Bath': -10922.620835186926}"
      ]
     },
     "execution_count": 29,
     "metadata": {},
     "output_type": "execute_result"
    }
   ],
   "source": [
    "dict(zip(features, lr.coef_))"
   ]
  },
  {
   "cell_type": "code",
   "execution_count": 30,
   "id": "78540c4b-2b2e-4f07-8626-d4821319e014",
   "metadata": {},
   "outputs": [
    {
     "data": {
      "text/html": [
       "<div>\n",
       "<style scoped>\n",
       "    .dataframe tbody tr th:only-of-type {\n",
       "        vertical-align: middle;\n",
       "    }\n",
       "\n",
       "    .dataframe tbody tr th {\n",
       "        vertical-align: top;\n",
       "    }\n",
       "\n",
       "    .dataframe thead th {\n",
       "        text-align: right;\n",
       "    }\n",
       "</style>\n",
       "<table border=\"1\" class=\"dataframe\">\n",
       "  <thead>\n",
       "    <tr style=\"text-align: right;\">\n",
       "      <th></th>\n",
       "      <th>Coefficient</th>\n",
       "    </tr>\n",
       "  </thead>\n",
       "  <tbody>\n",
       "    <tr>\n",
       "      <th>Overall Qual</th>\n",
       "      <td>18999.996651</td>\n",
       "    </tr>\n",
       "    <tr>\n",
       "      <th>Gr Liv Area</th>\n",
       "      <td>58.558225</td>\n",
       "    </tr>\n",
       "    <tr>\n",
       "      <th>Garage Cars</th>\n",
       "      <td>1703.212755</td>\n",
       "    </tr>\n",
       "    <tr>\n",
       "      <th>Garage Area</th>\n",
       "      <td>46.397940</td>\n",
       "    </tr>\n",
       "    <tr>\n",
       "      <th>Total Bsmt SF</th>\n",
       "      <td>32.989753</td>\n",
       "    </tr>\n",
       "    <tr>\n",
       "      <th>Year Built</th>\n",
       "      <td>395.436221</td>\n",
       "    </tr>\n",
       "    <tr>\n",
       "      <th>Full Bath</th>\n",
       "      <td>-10922.620835</td>\n",
       "    </tr>\n",
       "  </tbody>\n",
       "</table>\n",
       "</div>"
      ],
      "text/plain": [
       "                Coefficient\n",
       "Overall Qual   18999.996651\n",
       "Gr Liv Area       58.558225\n",
       "Garage Cars     1703.212755\n",
       "Garage Area       46.397940\n",
       "Total Bsmt SF     32.989753\n",
       "Year Built       395.436221\n",
       "Full Bath     -10922.620835"
      ]
     },
     "execution_count": 30,
     "metadata": {},
     "output_type": "execute_result"
    }
   ],
   "source": [
    "# Use a data frame\n",
    "pd.DataFrame(lr.coef_, index=features, columns=['Coefficient'])"
   ]
  },
  {
   "cell_type": "code",
   "execution_count": 31,
   "id": "31fafdc0-3be9-445f-be03-1a75f3b282b8",
   "metadata": {
    "tags": []
   },
   "outputs": [
    {
     "data": {
      "text/plain": [
       "['Overall Qual: 18999.996650947633',\n",
       " 'Gr Liv Area: 58.558225234009534',\n",
       " 'Garage Cars: 1703.212754751269',\n",
       " 'Garage Area: 46.39793968287538',\n",
       " 'Total Bsmt SF: 32.98975317835291',\n",
       " 'Year Built: 395.43622060522455',\n",
       " 'Full Bath: -10922.620835186926']"
      ]
     },
     "execution_count": 31,
     "metadata": {},
     "output_type": "execute_result"
    }
   ],
   "source": [
    "[f'{X.columns[i]}: {lr.coef_[i]}' for i in range(len(X.columns))]"
   ]
  },
  {
   "cell_type": "code",
   "execution_count": 32,
   "id": "81438fbc-f631-48a1-9d53-15538ee1f116",
   "metadata": {},
   "outputs": [],
   "source": [
    "#Notes:\n",
    "# interpret our radio coef:\n",
    "# All else held equal, for a one-unit increase in radio advertising, we expect to see\n",
    "# a sales increase of about 0.19 units."
   ]
  },
  {
   "cell_type": "code",
   "execution_count": null,
   "id": "307b5ebd-d2c9-4f08-8286-b78bb341d439",
   "metadata": {},
   "outputs": [],
   "source": []
  },
  {
   "cell_type": "code",
   "execution_count": null,
   "id": "e6a04957-6c39-4001-b035-d8904690ffc7",
   "metadata": {},
   "outputs": [],
   "source": []
  },
  {
   "cell_type": "markdown",
   "id": "30d78fba-c726-4e22-b51d-583c6e5be6c1",
   "metadata": {},
   "source": [
    "## Making predictions"
   ]
  },
  {
   "cell_type": "code",
   "execution_count": 33,
   "id": "21374121-cce2-494d-a40d-92d288563a77",
   "metadata": {},
   "outputs": [],
   "source": [
    "# get predictions from our X data\n",
    "predictions = lr.predict(X)"
   ]
  },
  {
   "cell_type": "code",
   "execution_count": 34,
   "id": "24093257-43f7-4fc9-80c7-55cc0904a499",
   "metadata": {},
   "outputs": [
    {
     "data": {
      "text/plain": [
       "array([163802.92449459, 238464.084914  , 120543.20166924, 139887.12526858,\n",
       "       130559.87562204])"
      ]
     },
     "execution_count": 34,
     "metadata": {},
     "output_type": "execute_result"
    }
   ],
   "source": [
    "predictions[0:5]"
   ]
  },
  {
   "cell_type": "code",
   "execution_count": 35,
   "id": "7e171a18-dd34-4cd6-8efa-c37945b73d60",
   "metadata": {},
   "outputs": [
    {
     "data": {
      "text/plain": [
       "0    130500\n",
       "1    220000\n",
       "2    109000\n",
       "3    174000\n",
       "4    138500\n",
       "Name: SalePrice, dtype: int64"
      ]
     },
     "execution_count": 35,
     "metadata": {},
     "output_type": "execute_result"
    }
   ],
   "source": [
    "#Compare to actual values\n",
    "y.head()"
   ]
  },
  {
   "cell_type": "code",
   "execution_count": null,
   "id": "6db9b8d6-2d10-4887-bbe5-e59ff3b9df02",
   "metadata": {},
   "outputs": [],
   "source": []
  },
  {
   "cell_type": "markdown",
   "id": "b0477db4-cda5-4a5f-ac71-4c828e18de32",
   "metadata": {},
   "source": [
    "### Residuals"
   ]
  },
  {
   "cell_type": "code",
   "execution_count": 36,
   "id": "00d01b5e-29f8-45c2-93c6-5ff04664d581",
   "metadata": {},
   "outputs": [
    {
     "data": {
      "text/plain": [
       "0   -33302.924495\n",
       "1   -18464.084914\n",
       "2   -11543.201669\n",
       "3    34112.874731\n",
       "4     7940.124378\n",
       "Name: SalePrice, dtype: float64"
      ]
     },
     "execution_count": 36,
     "metadata": {},
     "output_type": "execute_result"
    }
   ],
   "source": [
    "# calculate residuals (y - yhat/predicted values)\n",
    "residuals = y - predictions\n",
    "residuals[0:5]"
   ]
  },
  {
   "cell_type": "code",
   "execution_count": 37,
   "id": "64e647b5-17f0-4b34-9abd-7252419d217d",
   "metadata": {},
   "outputs": [
    {
     "data": {
      "text/plain": [
       "186.87"
      ]
     },
     "execution_count": 37,
     "metadata": {},
     "output_type": "execute_result"
    }
   ],
   "source": [
    "round(np.mean(residuals),2)"
   ]
  },
  {
   "cell_type": "code",
   "execution_count": 38,
   "id": "9d83c9d0-660a-4050-84c5-256bae1c2c08",
   "metadata": {},
   "outputs": [
    {
     "data": {
      "text/plain": [
       "186.86628475913932"
      ]
     },
     "execution_count": 38,
     "metadata": {},
     "output_type": "execute_result"
    }
   ],
   "source": [
    "# mean of residuals\n",
    "residuals.mean()"
   ]
  },
  {
   "cell_type": "code",
   "execution_count": 39,
   "id": "90884bc9-1e80-443f-ae5f-1dd8bc257cb3",
   "metadata": {},
   "outputs": [
    {
     "data": {
      "text/plain": [
       "186.86628475913932"
      ]
     },
     "execution_count": 39,
     "metadata": {},
     "output_type": "execute_result"
    }
   ],
   "source": [
    "np.mean(residuals)"
   ]
  },
  {
   "cell_type": "code",
   "execution_count": null,
   "id": "d263a3b9-049c-44e1-a286-b43089576dff",
   "metadata": {},
   "outputs": [],
   "source": []
  },
  {
   "cell_type": "code",
   "execution_count": null,
   "id": "70339fe0-81d2-4ac9-b823-6e626d740b3f",
   "metadata": {},
   "outputs": [],
   "source": []
  },
  {
   "cell_type": "markdown",
   "id": "5d8dbadc-4c10-4424-89c3-6729b845b654",
   "metadata": {},
   "source": [
    "## Residuals plot"
   ]
  },
  {
   "cell_type": "code",
   "execution_count": 48,
   "id": "8feea2ed-5a2e-47fb-b44a-3157046d035c",
   "metadata": {
    "tags": []
   },
   "outputs": [],
   "source": [
    "predictions = lr.predict(X)"
   ]
  },
  {
   "cell_type": "code",
   "execution_count": null,
   "id": "049581c1-84b1-4aef-bca9-0a71da984bc7",
   "metadata": {},
   "outputs": [],
   "source": [
    "residuals = y_test - pred"
   ]
  },
  {
   "cell_type": "code",
   "execution_count": 47,
   "id": "d432eb89-f28f-429a-a349-c07e86495fa2",
   "metadata": {},
   "outputs": [
    {
     "data": {
      "text/plain": [
       "<matplotlib.collections.PathCollection at 0x2bf49e24b80>"
      ]
     },
     "execution_count": 47,
     "metadata": {},
     "output_type": "execute_result"
    },
    {
     "data": {
      "image/png": "[encoded data removed]",
      "text/plain": [
       "<Figure size 432x288 with 1 Axes>"
      ]
     },
     "metadata": {
      "needs_background": "light"
     },
     "output_type": "display_data"
    }
   ],
   "source": [
    "plt.scatter(predictions, residuals)"
   ]
  },
  {
   "cell_type": "code",
   "execution_count": null,
   "id": "b771120b-3cd2-4d7b-bc8a-9abde3913a56",
   "metadata": {},
   "outputs": [],
   "source": []
  },
  {
   "cell_type": "markdown",
   "id": "956ce24b-a73e-4b62-bb7a-d5cadd6f4a69",
   "metadata": {},
   "source": [
    "## LINE Assumptions \n",
    "\n",
    "* L - Linearity: there is a linear relationship between x and y (fix: apply non-linear transformation)\n",
    "* I - Independence of residuals (usually assumed)\n",
    "* N - Normality: residuals are normally distributed (fix: log y variable)\n",
    "* E - Equality of variance: residuals have constant variance (fix: check outliers, non-linear transformation)"
   ]
  },
  {
   "cell_type": "code",
   "execution_count": 40,
   "id": "3d268480-8622-473a-bbe0-1c47df0bd77a",
   "metadata": {},
   "outputs": [],
   "source": [
    "# I assumption:\n",
    "# true by assumption"
   ]
  },
  {
   "cell_type": "code",
   "execution_count": 41,
   "id": "ee26dd9e-6080-4cc4-bea0-659023ac6196",
   "metadata": {},
   "outputs": [
    {
     "data": {
      "image/png": "[encoded data removed]",
      "text/plain": [
       "<Figure size 432x288 with 1 Axes>"
      ]
     },
     "metadata": {
      "needs_background": "light"
     },
     "output_type": "display_data"
    }
   ],
   "source": [
    "# N assumption:\n",
    "#Check the normality (of residuals) assumption\n",
    "plt.hist(residuals, bins = 20);"
   ]
  },
  {
   "cell_type": "code",
   "execution_count": 42,
   "id": "cb5ae804-3c64-452d-8e2a-46c509047ff9",
   "metadata": {},
   "outputs": [
    {
     "data": {
      "image/png": "[encoded data removed]",
      "text/plain": [
       "<Figure size 432x288 with 1 Axes>"
      ]
     },
     "metadata": {
      "needs_background": "light"
     },
     "output_type": "display_data"
    }
   ],
   "source": [
    "# L and E assumption\n",
    "# our actual residuals\n",
    "plt.scatter(predictions, residuals)\n",
    "plt.axhline(0, color='orange');"
   ]
  },
  {
   "cell_type": "markdown",
   "id": "9b12b669-3e78-4728-93a5-51350381c9b8",
   "metadata": {},
   "source": [
    "### MSE and RMSE"
   ]
  },
  {
   "cell_type": "code",
   "execution_count": 49,
   "id": "f9af6b85-8ede-4a61-b6e8-d58ecb42af4b",
   "metadata": {},
   "outputs": [
    {
     "data": {
      "text/plain": [
       "877993398.4230669"
      ]
     },
     "execution_count": 49,
     "metadata": {},
     "output_type": "execute_result"
    }
   ],
   "source": [
    "# MSE for training\n",
    "mean_squared_error(y_true=y_train, y_pred=train_pred)"
   ]
  },
  {
   "cell_type": "code",
   "execution_count": 50,
   "id": "49be3350-e9bd-482f-9e8f-0f4fc9a452bb",
   "metadata": {},
   "outputs": [
    {
     "data": {
      "text/plain": [
       "990410385.1088078"
      ]
     },
     "execution_count": 50,
     "metadata": {},
     "output_type": "execute_result"
    }
   ],
   "source": [
    "# MSE for testing\n",
    "mean_squared_error(y_true=y_test, y_pred=test_pred)"
   ]
  },
  {
   "cell_type": "code",
   "execution_count": 51,
   "id": "2f4c40e8-816e-4166-ad60-74b7bfd008bd",
   "metadata": {},
   "outputs": [
    {
     "data": {
      "text/plain": [
       "29630.95338363359"
      ]
     },
     "execution_count": 51,
     "metadata": {},
     "output_type": "execute_result"
    }
   ],
   "source": [
    "# RMSE for training\n",
    "mean_squared_error(y_true=y_train, y_pred=train_pred, squared = False)"
   ]
  },
  {
   "cell_type": "code",
   "execution_count": 52,
   "id": "66678935-1afe-4f28-b0b7-c6258564174a",
   "metadata": {},
   "outputs": [
    {
     "data": {
      "text/plain": [
       "31470.78621688387"
      ]
     },
     "execution_count": 52,
     "metadata": {},
     "output_type": "execute_result"
    }
   ],
   "source": [
    "# RMSE for testing\n",
    "mean_squared_error(y_true=y_test, y_pred=test_pred, squared = False)"
   ]
  },
  {
   "cell_type": "code",
   "execution_count": null,
   "id": "72ec129e-94d5-4290-a020-340cd62c9324",
   "metadata": {},
   "outputs": [],
   "source": []
  },
  {
   "cell_type": "markdown",
   "id": "bae55e0d-6dc5-401c-8cf1-fccd3a684d51",
   "metadata": {},
   "source": [
    "## Coefficient of Determination, $R^2$"
   ]
  },
  {
   "cell_type": "code",
   "execution_count": 53,
   "id": "a6e55e4e-8341-489d-9570-043110f8d884",
   "metadata": {},
   "outputs": [],
   "source": [
    "# Null prediction\n",
    "null_prediction = y.mean()"
   ]
  },
  {
   "cell_type": "code",
   "execution_count": 54,
   "id": "48cb181b-119e-40b2-b1f2-e465145d55ab",
   "metadata": {},
   "outputs": [],
   "source": [
    "# Null residuals\n",
    "null_residuals = y - null_prediction"
   ]
  },
  {
   "cell_type": "code",
   "execution_count": 55,
   "id": "fbcf43ed-87a5-4d83-acb5-dd96634fc972",
   "metadata": {},
   "outputs": [],
   "source": [
    "# Null sum of squares\n",
    "null_ss = (null_residuals ** 2).sum()"
   ]
  },
  {
   "cell_type": "code",
   "execution_count": 56,
   "id": "f86ae080-b7e2-4c13-bace-c6cf570107cf",
   "metadata": {},
   "outputs": [
    {
     "data": {
      "text/plain": [
       "10617599577557.314"
      ]
     },
     "execution_count": 56,
     "metadata": {},
     "output_type": "execute_result"
    }
   ],
   "source": [
    "null_ss"
   ]
  },
  {
   "cell_type": "code",
   "execution_count": 57,
   "id": "1f8e3165-4f28-4dff-8723-56968e6482d2",
   "metadata": {},
   "outputs": [],
   "source": [
    "# # R2 by hand\n",
    "# 1 - rss / null_ss"
   ]
  },
  {
   "cell_type": "code",
   "execution_count": 58,
   "id": "cd38039c-5555-485f-958b-7d4b84baa946",
   "metadata": {},
   "outputs": [],
   "source": [
    "# # R2 from sklearn\n",
    "# metrics.r2_score(y, predictions)"
   ]
  },
  {
   "cell_type": "code",
   "execution_count": 103,
   "id": "7f4a1a4a-b763-4f3c-9a95-f9a64b8c3bd5",
   "metadata": {},
   "outputs": [
    {
     "data": {
      "text/plain": [
       "0.83"
      ]
     },
     "execution_count": 103,
     "metadata": {},
     "output_type": "execute_result"
    }
   ],
   "source": [
    "# R2 from model\n",
    "R2 = round(lr.score(X, y),2)\n",
    "R2"
   ]
  },
  {
   "cell_type": "code",
   "execution_count": 105,
   "id": "6b1806fc-148b-45f5-a6b6-a6dfc7e3be21",
   "metadata": {
    "tags": []
   },
   "outputs": [
    {
     "data": {
      "text/plain": [
       "'**Interpretation**-$0.83 of the variance/variability in our y variable is explained by the features in our model!'"
      ]
     },
     "execution_count": 105,
     "metadata": {},
     "output_type": "execute_result"
    }
   ],
   "source": [
    "f'**Interpretation**-${R2} of the variance/variability in our y variable is explained by the features in our model!'"
   ]
  },
  {
   "cell_type": "markdown",
   "id": "3d8959d0-64fc-4a3f-ac0b-afb6db838508",
   "metadata": {},
   "source": [
    "### Adjusted R-squared"
   ]
  },
  {
   "cell_type": "code",
   "execution_count": 106,
   "id": "520bcc01-086a-41bb-9437-8627a965f676",
   "metadata": {},
   "outputs": [
    {
     "data": {
      "text/plain": [
       "0.829405"
      ]
     },
     "execution_count": 106,
     "metadata": {},
     "output_type": "execute_result"
    }
   ],
   "source": [
    "#Adjusted R-squared: Adjusted R2 = 1 – [(1-R2)*(n-1)/(n-k-1)]\n",
    "\n",
    "n = len(y)\n",
    "k = len(features)\n",
    "\n",
    "1 - ((1-R2)*(n-1)/(n-k-1))"
   ]
  },
  {
   "cell_type": "markdown",
   "id": "de14fbcc-0a5e-4f29-9bca-2dbfae352ef0",
   "metadata": {},
   "source": [
    "Adjusted $R^2$ is used to compare models that have different numbers of features."
   ]
  },
  {
   "cell_type": "code",
   "execution_count": null,
   "id": "9414eeb6-9856-46c5-bf9b-2d312a62f4d1",
   "metadata": {},
   "outputs": [],
   "source": []
  },
  {
   "cell_type": "markdown",
   "id": "92785dc8-aa0d-4166-ac06-3ccd4c0a3eb6",
   "metadata": {},
   "source": [
    "### True vs. Predicted"
   ]
  },
  {
   "cell_type": "code",
   "execution_count": 65,
   "id": "ac8b9e55-7f76-4879-825a-531e843f7977",
   "metadata": {},
   "outputs": [],
   "source": [
    "#y_test vs. y_preds"
   ]
  },
  {
   "cell_type": "code",
   "execution_count": 66,
   "id": "911f79e7-8999-42dd-935e-7f79dc537afc",
   "metadata": {},
   "outputs": [
    {
     "data": {
      "image/png": "[encoded data removed]",
      "text/plain": [
       "<Figure size 432x288 with 1 Axes>"
      ]
     },
     "metadata": {
      "needs_background": "light"
     },
     "output_type": "display_data"
    }
   ],
   "source": [
    "plt.scatter(y_test, test_pred)\n",
    "plt.title('True vs. predicted');"
   ]
  },
  {
   "cell_type": "code",
   "execution_count": null,
   "id": "fe775d5d-6f7b-4010-800e-e9a773e5b808",
   "metadata": {},
   "outputs": [],
   "source": []
  },
  {
   "cell_type": "markdown",
   "id": "e282a0a5-66a1-4f9d-90b3-9b399853ebb7",
   "metadata": {},
   "source": [
    "### Cross Validation"
   ]
  },
  {
   "cell_type": "code",
   "execution_count": 68,
   "id": "b81b20c3-e29f-4132-b681-a9f4699aa9ca",
   "metadata": {},
   "outputs": [],
   "source": [
    "from sklearn.model_selection import cross_val_score, cross_val_predict"
   ]
  },
  {
   "cell_type": "code",
   "execution_count": 69,
   "id": "faa44ee4-e92c-4c85-a5b7-cc33a43522df",
   "metadata": {},
   "outputs": [
    {
     "data": {
      "text/plain": [
       "0.8236092260302383"
      ]
     },
     "execution_count": 69,
     "metadata": {},
     "output_type": "execute_result"
    }
   ],
   "source": [
    "lr_scores = cross_val_score(lr, X_train, y_train, cv=3)\n",
    "lr_scores.mean()"
   ]
  },
  {
   "cell_type": "code",
   "execution_count": 70,
   "id": "48a698f8-573e-4105-b434-9d2587a8690b",
   "metadata": {
    "collapsed": true,
    "jupyter": {
     "outputs_hidden": true
    },
    "tags": []
   },
   "outputs": [
    {
     "data": {
      "text/plain": [
       "array([ 52481.1205114 , 112263.97080315, 117592.58652228, 189232.13084332,\n",
       "       111178.38840431, 140896.5110957 , 245149.41035307, 195722.77147817,\n",
       "        79077.4763897 , 137933.53765855, 132772.09977903, 127196.27703715,\n",
       "       128623.18730397, 211143.98069822, 191650.18531236, 231308.17741025,\n",
       "       110591.46615328, 335612.40553223,  84696.32135303, 215355.70202682,\n",
       "       134169.36689311, 135774.5237083 , 128479.32699421, 241875.51138615,\n",
       "       136638.05256863, 176827.72055844, 125357.28493299, 125037.2586613 ,\n",
       "       243963.75427399, 188405.55247045, 225686.40249751, 180761.86785501,\n",
       "       115486.69070713, 115280.54698063, 164429.43845098, 174257.33488994,\n",
       "       108123.73141962, 173645.66103332, 174574.47338005, 102779.26596349,\n",
       "       251905.40497219,  76874.76395427, 304577.14477078,  95313.31236495,\n",
       "       198336.10226939, 169483.69357045, 112117.04649567, 262435.86023992,\n",
       "       225196.51007567, 314472.12376793, 318486.87855944, 297866.64567372,\n",
       "       210071.0796357 , 250282.01584862, 245261.57627578, 322055.99639806,\n",
       "       238804.70268037, 122506.96594947, 118856.59191445, 162342.94239139,\n",
       "       134547.17430516, 249619.61453301, 191578.55547694, 325968.44832407,\n",
       "       202284.81699584, 178196.62142074, 185655.72328546, 283586.8152631 ,\n",
       "       138426.95467623, 356895.61758814, 172744.92158512, 256913.42893795,\n",
       "       109383.60877504,  48987.21299529, 215498.76068016, 266933.70752395,\n",
       "       178542.51443601, 162545.59041585,  89281.56820434, 187560.90879223,\n",
       "       121899.30466736, 119805.33991095, 184302.70269373,  90116.28482652,\n",
       "       243663.10104916, 215242.18851012, 142798.92193117, 132448.25392039,\n",
       "       190006.83554286, 141858.03374587, 128739.08071616, 308139.55341228,\n",
       "       134794.36685736, 214507.63856109, 235979.37815806, 176792.19841112,\n",
       "       220953.88384415, 116025.51908518, 205625.44238969, 189906.58118689,\n",
       "       205993.11241824, 171354.35389771, 169252.58904141, 203521.79013327,\n",
       "        56848.40051098, 160727.9536715 , 104879.12308933, 148819.83601334,\n",
       "       168693.4509077 , 293482.02343135, 118895.7782786 , 151303.73939623,\n",
       "       244409.97729424, 171946.37565969, 188151.34388973, 140289.2496023 ,\n",
       "        64033.234722  , 234649.69429738, 117542.39275616, 133665.61739667,\n",
       "        60501.84420506, 210952.09603313, 365194.72626793, 168214.01739259,\n",
       "       200525.70712415, 308607.67382026, 209214.1574035 , 298438.28547106,\n",
       "       270742.85205285, 225731.39583797, 112966.57386618, 160771.05718421,\n",
       "       208359.7464395 , 173189.11594515, 166341.75027319, 198102.6659612 ,\n",
       "       175289.94792938, 197145.76621128, 139253.59600814, 109742.29867131,\n",
       "       157478.39197214, 132266.13236969, 181590.52295299,  96799.20887003,\n",
       "       246513.23828701, 196151.60527334, 109688.45969321, 104833.06479944,\n",
       "       124505.15350498, 206800.73631509, 114262.02194225, 254261.96212034,\n",
       "       218523.76737342,  -1282.56924536, 234308.01488705, 137695.04770246,\n",
       "        45199.38842836, 119710.99593626, 128874.13905945, 204306.93430454,\n",
       "       122841.69029465,  65277.25458123, 122393.82946739, 133249.65391335,\n",
       "       220241.65071606,  56057.52806976, 152512.52246484, 269849.7260347 ,\n",
       "       240445.63222505, 141086.02147247,  62655.29023925, 254776.03833191,\n",
       "       238349.59350923, 132483.27910924, 191814.8797355 , 129506.05141401,\n",
       "       121682.95814165,  42337.73368596, 150947.15558575, 196280.53865805,\n",
       "       234696.39076856, 184053.55448763, 144148.17996548, 153097.9128131 ,\n",
       "       111799.67870319, 160161.7782585 , 167517.93317015, 330258.37772646,\n",
       "       207952.44468604, 217015.79448469, 174701.70779265, 213311.33400222,\n",
       "       233595.17114304, 342396.83876423, 117025.15097499, 310692.00198451,\n",
       "       174297.17347467, 251073.19877605, 188290.61135454, 115940.59437105,\n",
       "       232519.6198391 ,  83299.39508463, 203327.96064555, 216007.55632627,\n",
       "       186686.85218331, 208591.80178985, 124050.94567764, 233062.31905037,\n",
       "       209327.10605673,  44525.03509662, 173949.7876177 , 188256.01435079,\n",
       "       165717.38562816,  62288.22937958, 188737.76621913, 240061.67511501,\n",
       "       314806.84217277, 115999.23272258, 165093.4762314 , 107417.6613276 ,\n",
       "       142522.95735618, 145835.24016088, 208217.96429617, 311195.57076032,\n",
       "       305737.26138001, 236914.89450106, 190289.17690043, 113065.8454391 ,\n",
       "       136267.29926244, 147234.6295086 , 310347.93943726, 329672.85328418,\n",
       "       151827.8010817 , 124665.61456499, 142596.71332536, 261866.05818822,\n",
       "        31456.80658446, 303701.71644761, 160716.82075086, 123269.39758031,\n",
       "       151625.15948392, 120717.7150531 , 111508.82071846, 176995.3491985 ,\n",
       "       174066.52042561,  70965.84724838, 140139.71659333, 138714.3367164 ,\n",
       "       110737.16833148, 141611.40929734, 287577.86053009,  93512.06371182,\n",
       "       290290.38191566,  52198.55952817, 129421.48734064, 175146.37390885,\n",
       "       156171.33254858, 272775.05064866, 125638.57043736, 211836.39033485,\n",
       "       261856.93227897, 189291.7836173 , 317982.24757179, 257089.92882674,\n",
       "       197797.83328119, 267553.15010819, 246764.70803393, 270000.43471022,\n",
       "       125084.59978221, 155220.93416964, 278008.07323921, 136977.24435261,\n",
       "       216905.70380032, 169616.04334816, 122056.82329283,  59344.76002016,\n",
       "       209012.0759246 , 164602.1209889 , 113728.59574838, 358592.98674369,\n",
       "       131780.34759156, 290313.32321166, 231621.63606602, 188167.27884117,\n",
       "       139807.72232454, 345631.77381133, 235479.25487429,  48427.92389713,\n",
       "       228792.01270601, 183076.91649372, 190340.4578609 ,  92462.53258004,\n",
       "       211018.21238513, 119847.09029657, 146650.28364641, 140772.06766055,\n",
       "       142552.25304717, 176797.86226628, 143767.6048274 ,  90021.28237729,\n",
       "       230154.55244857, 154370.73979357, 102277.32480755, 180189.63565141,\n",
       "       170442.15037137,  95665.4186813 , 207719.00942417, 145749.83721406,\n",
       "       280161.52974163,  93550.17174342,  85737.59886633, 297634.46549312,\n",
       "       232525.6162069 , 327430.67219566, 267415.59006838, 305037.82461583,\n",
       "       228127.97977764, 111451.19875133, 117353.63474685, 278747.42161898,\n",
       "       113059.21275945, 141908.72144887, 198110.57462774, 320524.6669343 ,\n",
       "       150088.74451155, 130135.03635973, 107480.4324805 , 152654.37107142,\n",
       "       229426.34198841, 142697.00550931, 219796.62129282,  94265.18816203,\n",
       "       313959.39489249, 221499.48450072, 206786.60141123, 155041.10060297,\n",
       "       260055.258287  , 168924.94951506,  60995.22340608, 267526.56109665,\n",
       "       215649.20440306, 144818.0731067 , 305261.38109831, 185174.97384298,\n",
       "       143394.98883048,  95407.86141895,  78850.86374278, 145201.49941183,\n",
       "       271619.07447432, 157113.50058936, 125611.89109829, 207496.10694466,\n",
       "       184789.84582758, 196399.37772653, 227158.99103204, 289116.87186673,\n",
       "       196215.15471497,  34190.37247304, 201845.6597929 , 120067.36701453,\n",
       "       156399.35994033, 117038.73517611, 144513.40841285, 137025.28783666,\n",
       "       255342.54008542, 273962.49251223, 123215.42094718, 146946.2547294 ,\n",
       "       383514.6642601 , 222634.38049384, 143915.57175564, 221417.95665396,\n",
       "       147036.73556053, 258315.64178701, 125551.27707942, 215646.62788818,\n",
       "       174041.09725392, 211157.59267897, 185443.62110747, 182420.77227312,\n",
       "       243561.97724225, 151733.2365708 , 319353.2751407 , 243147.74908073,\n",
       "       224788.43449068, 183793.96126936, 149957.93612184, 152814.72496465,\n",
       "       165226.78165418, 253016.64129592, 305224.47423154, 132371.40290566,\n",
       "       114791.28940769, 134788.7070782 , 130072.35589332, 266758.27779108,\n",
       "       290091.24957515, 252231.14161554, 186773.33601311, 193370.98818882,\n",
       "       235352.36225441, 179318.23779453, 211718.61641489, 127722.88608125,\n",
       "       120155.30168423, 229673.63947082, 207915.70380906, 191794.20995395,\n",
       "       122117.05667699, 162508.7564216 , 225994.12081076, 104400.91613554,\n",
       "       173227.60255196, 207972.63182946, 235654.58908244, 229877.85852442,\n",
       "       200918.25048978, 173772.89864695, 183517.69444358, 265088.27006685,\n",
       "       141128.37438406,  41834.13485241, 154001.34559089, 172502.17082163,\n",
       "        71555.27509923, 136971.26956171, 135665.92021595, 183690.52171304,\n",
       "       213245.07380123, 145904.69478421, 158088.70332484, 307162.37608419,\n",
       "       233829.26878228, 152091.10722008, 143234.14769958, 184093.47288234,\n",
       "       161886.74091021, 120049.88561324, 296989.11631739, 127865.08924838,\n",
       "       144953.96968932, 213035.88996341, 304326.56159817, 121688.73149684,\n",
       "       289788.73915446, 108055.48642875, 137413.59967295, 188830.87955152,\n",
       "       239474.44083307, 137930.36548693, 207290.32976165,  12185.34569949,\n",
       "       225173.22223079, 291520.99749812, 232362.76856738, 137034.40816921,\n",
       "       308381.64159658, 120543.20166924, 180879.90067227, 100868.57659991,\n",
       "       141927.47884445, 288659.78691099, 167060.45094064, 185825.81397199,\n",
       "       177332.56022706, 334253.60326997, 236190.01443321, 273314.74016009,\n",
       "        87541.57512645, 234707.97833156, 132711.10630014, 225672.77180683,\n",
       "       160651.22103393,  11186.57116562, 216666.56320383, 164656.32209707,\n",
       "       213375.38778734, 171049.95300461, 111436.90387697, 331441.15724146,\n",
       "       158807.71897548, 151393.52716493, 169861.14926752, 168529.59232872,\n",
       "       137542.74744602, 271797.52494201, 177755.52757337, 122815.32646998,\n",
       "       273595.27161005, 264975.64427982, 255097.13374983, 201217.79242366,\n",
       "       286823.62875601, 149802.89797499, 168415.82329519, 129038.07560725,\n",
       "       262079.085086  , 274265.98164495, 254455.38420569, 290332.85324689,\n",
       "       248624.84380301, 160350.82073876])"
      ]
     },
     "execution_count": 70,
     "metadata": {},
     "output_type": "execute_result"
    }
   ],
   "source": [
    "lr.predict(X_test)"
   ]
  },
  {
   "cell_type": "code",
   "execution_count": 71,
   "id": "c36802d9-0de2-428a-bf92-75b7252de259",
   "metadata": {},
   "outputs": [
    {
     "data": {
      "text/plain": [
       "array([163730.2005797 , 238979.54986879, 121152.57594008, 138827.15205693,\n",
       "       130974.74280144, 216903.34484227, 146860.94927296, 149437.24541981,\n",
       "       116215.16042808, 199627.16140108])"
      ]
     },
     "execution_count": 71,
     "metadata": {},
     "output_type": "execute_result"
    }
   ],
   "source": [
    "cross_val_predict(estimator=lr, X=X, y=y)[0:10]"
   ]
  },
  {
   "cell_type": "code",
   "execution_count": null,
   "id": "9acc5287-1f18-4e9e-b44f-9f2b9a8e0cf5",
   "metadata": {},
   "outputs": [],
   "source": []
  },
  {
   "cell_type": "code",
   "execution_count": null,
   "id": "eb7d2ded-43f7-4e4b-9705-831a1ed3bed4",
   "metadata": {},
   "outputs": [],
   "source": []
  },
  {
   "cell_type": "markdown",
   "id": "c514f0d0-5ac1-45c9-99f9-27686b64f35f",
   "metadata": {},
   "source": [
    "### Polynomial fit"
   ]
  },
  {
   "cell_type": "code",
   "execution_count": 72,
   "id": "ae95a018-60fb-4d29-a9bd-f5273417978c",
   "metadata": {},
   "outputs": [],
   "source": [
    "from sklearn.preprocessing import StandardScaler"
   ]
  },
  {
   "cell_type": "code",
   "execution_count": 73,
   "id": "48be9dc3-832a-4253-bcad-3a4a8a84e3f8",
   "metadata": {},
   "outputs": [],
   "source": [
    "from sklearn.preprocessing import PolynomialFeatures\n",
    "\n",
    "#pf = PolynomialFeatures(include_bias=False)\n",
    "\n",
    "#pf.fit(X_train)"
   ]
  },
  {
   "cell_type": "code",
   "execution_count": 74,
   "id": "29ec20ba-31e6-40d7-91d0-eb9ea2da6efc",
   "metadata": {},
   "outputs": [],
   "source": [
    "# Instantiate our PolynomialFeatures object to create all two-way terms.\n",
    "poly = PolynomialFeatures(degree=2, interaction_only=False, include_bias=False)\n",
    "\n",
    "# Fit and transform our X data.\n",
    "X_overfit = poly.fit_transform(X)"
   ]
  },
  {
   "cell_type": "code",
   "execution_count": 75,
   "id": "98d18ce6-e3be-4072-8a81-6c7b08d88711",
   "metadata": {},
   "outputs": [
    {
     "data": {
      "text/plain": [
       "(2008, 35)"
      ]
     },
     "execution_count": 75,
     "metadata": {},
     "output_type": "execute_result"
    }
   ],
   "source": [
    "# Check out the dimensions of X_overfit.\n",
    "X_overfit.shape"
   ]
  },
  {
   "cell_type": "code",
   "execution_count": 76,
   "id": "8025e349-d6bb-4de8-9fe9-783fb982ec3a",
   "metadata": {},
   "outputs": [
    {
     "data": {
      "text/plain": [
       "['Overall Qual',\n",
       " 'Gr Liv Area',\n",
       " 'Garage Cars',\n",
       " 'Garage Area',\n",
       " 'Total Bsmt SF',\n",
       " 'Year Built',\n",
       " 'Full Bath',\n",
       " 'Overall Qual^2',\n",
       " 'Overall Qual Gr Liv Area',\n",
       " 'Overall Qual Garage Cars',\n",
       " 'Overall Qual Garage Area',\n",
       " 'Overall Qual Total Bsmt SF',\n",
       " 'Overall Qual Year Built',\n",
       " 'Overall Qual Full Bath',\n",
       " 'Gr Liv Area^2',\n",
       " 'Gr Liv Area Garage Cars',\n",
       " 'Gr Liv Area Garage Area',\n",
       " 'Gr Liv Area Total Bsmt SF',\n",
       " 'Gr Liv Area Year Built',\n",
       " 'Gr Liv Area Full Bath',\n",
       " 'Garage Cars^2',\n",
       " 'Garage Cars Garage Area',\n",
       " 'Garage Cars Total Bsmt SF',\n",
       " 'Garage Cars Year Built',\n",
       " 'Garage Cars Full Bath',\n",
       " 'Garage Area^2',\n",
       " 'Garage Area Total Bsmt SF',\n",
       " 'Garage Area Year Built',\n",
       " 'Garage Area Full Bath',\n",
       " 'Total Bsmt SF^2',\n",
       " 'Total Bsmt SF Year Built',\n",
       " 'Total Bsmt SF Full Bath',\n",
       " 'Year Built^2',\n",
       " 'Year Built Full Bath',\n",
       " 'Full Bath^2']"
      ]
     },
     "execution_count": 76,
     "metadata": {},
     "output_type": "execute_result"
    }
   ],
   "source": [
    "poly.get_feature_names(X.columns)"
   ]
  },
  {
   "cell_type": "code",
   "execution_count": 77,
   "id": "fdb5d5eb-a9b4-4ce3-abd5-596f44d0a852",
   "metadata": {},
   "outputs": [],
   "source": [
    "# Create train/test splits.\n",
    "X_train, X_test, y_train, y_test = train_test_split(\n",
    "    X_overfit,\n",
    "    y,\n",
    "    test_size=0.7,\n",
    "    random_state=42\n",
    ")"
   ]
  },
  {
   "cell_type": "code",
   "execution_count": 78,
   "id": "1712ca75-29ef-408f-83a5-9108bc88ffc4",
   "metadata": {},
   "outputs": [],
   "source": [
    "# Scale our data.\n",
    "# Relabeling scaled data as \"Z\" is common.\n",
    "sc = StandardScaler()\n",
    "Z_train = sc.fit_transform(X_train)\n",
    "Z_test = sc.transform(X_test)"
   ]
  },
  {
   "cell_type": "code",
   "execution_count": 79,
   "id": "4fdfe06e-111c-4fc0-b2c1-6c271f4974b3",
   "metadata": {},
   "outputs": [
    {
     "name": "stdout",
     "output_type": "stream",
     "text": [
      "Z_train shape is: (602, 35)\n",
      "y_train shape is: (602,)\n",
      "Z_test shape is: (1406, 35)\n",
      "y_test shape is: (1406,)\n"
     ]
    }
   ],
   "source": [
    "print(f'Z_train shape is: {Z_train.shape}')\n",
    "print(f'y_train shape is: {y_train.shape}')\n",
    "print(f'Z_test shape is: {Z_test.shape}')\n",
    "print(f'y_test shape is: {y_test.shape}')"
   ]
  },
  {
   "cell_type": "code",
   "execution_count": null,
   "id": "f2d7d391-7de7-44ee-8547-16b6047fc26e",
   "metadata": {},
   "outputs": [],
   "source": []
  },
  {
   "cell_type": "markdown",
   "id": "3156262f-2e7e-42b7-938f-449c3ced26b1",
   "metadata": {},
   "source": [
    "## Polynomial transformed OLS"
   ]
  },
  {
   "cell_type": "code",
   "execution_count": 80,
   "id": "1a676679-b5fd-477f-ba9d-c2b184d88d90",
   "metadata": {},
   "outputs": [],
   "source": [
    "# Import the appropriate library and fit our OLS model.\n",
    "from sklearn.linear_model import LinearRegression"
   ]
  },
  {
   "cell_type": "code",
   "execution_count": 81,
   "id": "cc74e764-c33e-4485-9a1a-73e116abcd0d",
   "metadata": {},
   "outputs": [
    {
     "data": {
      "text/plain": [
       "LinearRegression()"
      ]
     },
     "execution_count": 81,
     "metadata": {},
     "output_type": "execute_result"
    }
   ],
   "source": [
    "ols = LinearRegression()\n",
    "ols.fit(Z_train, y_train)"
   ]
  },
  {
   "cell_type": "code",
   "execution_count": 82,
   "id": "87bb8d2a-5628-47fe-92ed-2960f5c039c1",
   "metadata": {},
   "outputs": [
    {
     "name": "stdout",
     "output_type": "stream",
     "text": [
      "0.8860280129114594\n",
      "0.8562519825480465\n"
     ]
    }
   ],
   "source": [
    "#model score on the training and test data\n",
    "print(ols.score(Z_train, y_train))\n",
    "print(ols.score(Z_test, y_test))"
   ]
  },
  {
   "cell_type": "code",
   "execution_count": 83,
   "id": "f8c8168a-cbbb-4273-8168-6d90e9399c22",
   "metadata": {},
   "outputs": [],
   "source": [
    "from sklearn.linear_model import LinearRegression, LassoCV, RidgeCV\n"
   ]
  },
  {
   "cell_type": "code",
   "execution_count": 84,
   "id": "95f8d972-e4a9-4d71-8e6d-3bb03cac6eab",
   "metadata": {},
   "outputs": [],
   "source": [
    "# Ridge regressor:\n",
    "from sklearn.linear_model import Ridge"
   ]
  },
  {
   "cell_type": "code",
   "execution_count": 85,
   "id": "22de650f-e9de-4be1-9902-25a31b6eeda4",
   "metadata": {},
   "outputs": [
    {
     "name": "stdout",
     "output_type": "stream",
     "text": [
      "0.8749469027580197\n",
      "0.8657139358433136\n"
     ]
    }
   ],
   "source": [
    "# Instantiate.\n",
    "ridge_model = Ridge(alpha=10)\n",
    "\n",
    "# Fit.\n",
    "ridge_model.fit(Z_train, y_train)\n",
    "\n",
    "# Evaluate model using R2.\n",
    "print(ridge_model.score(Z_train, y_train))\n",
    "print(ridge_model.score(Z_test, y_test))"
   ]
  },
  {
   "cell_type": "code",
   "execution_count": null,
   "id": "0e9f5ad2-a168-4049-9530-a06fcb751621",
   "metadata": {},
   "outputs": [],
   "source": []
  },
  {
   "cell_type": "code",
   "execution_count": 110,
   "id": "ce5b63f9-76bb-419c-b0a1-64b565646936",
   "metadata": {},
   "outputs": [],
   "source": [
    "# Ridge alphas to check.\n",
    "# np.logspace generates 100 values equally between 0 and 5,\n",
    "# then converts them to alphas between 10^0 and 10^5.\n",
    "r_alphas = np.logspace(0, 5, 100)\n",
    "\n",
    "# Cross-validate over list of ridge alphas.\n",
    "ridge_cv = RidgeCV(alphas=r_alphas, scoring='r2', cv=5)\n",
    "\n",
    "# Fit model using best ridge alpha!\n",
    "test_ridge_cv = ridge_cv.fit(Z_train, y_train)"
   ]
  },
  {
   "cell_type": "code",
   "execution_count": 112,
   "id": "5874071e-7bc0-401c-9baa-91eaaf637d93",
   "metadata": {},
   "outputs": [
    {
     "data": {
      "text/plain": [
       "1.0"
      ]
     },
     "execution_count": 112,
     "metadata": {},
     "output_type": "execute_result"
    }
   ],
   "source": [
    "# Here is the optimal value of alpha\n",
    "test_ridge_cv.alpha_"
   ]
  },
  {
   "cell_type": "markdown",
   "id": "402c9e7b-b138-438e-b944-c3f3b6217d3b",
   "metadata": {},
   "source": [
    "Our `ridge_model` object is actually already the model with the optimal $\\alpha$. Let's get the corresponding value of $R^2$."
   ]
  },
  {
   "cell_type": "code",
   "execution_count": 113,
   "id": "4e9ea01c-f424-4d7e-83f0-dffb46aae779",
   "metadata": {},
   "outputs": [
    {
     "name": "stdout",
     "output_type": "stream",
     "text": [
      "0.8817407249517755\n",
      "0.8629305996335539\n"
     ]
    }
   ],
   "source": [
    "print(test_ridge_cv.score(Z_train, y_train))\n",
    "print(test_ridge_cv.score(Z_test, y_test))"
   ]
  },
  {
   "cell_type": "code",
   "execution_count": null,
   "id": "cf08a175-75b2-4d8b-a238-9d8a526a006f",
   "metadata": {},
   "outputs": [],
   "source": []
  },
  {
   "cell_type": "markdown",
   "id": "4041104d-371b-435d-a8f7-292b2e368591",
   "metadata": {},
   "source": [
    "## LASSO Regression"
   ]
  },
  {
   "cell_type": "code",
   "execution_count": 114,
   "id": "c2a7f0c5-ac1a-45fa-83d9-efceca67bc4b",
   "metadata": {},
   "outputs": [
    {
     "name": "stdout",
     "output_type": "stream",
     "text": [
      "====== OLS =======\n",
      "0.8860280129114594\n",
      "0.8562519825480465\n",
      "\n",
      "===== Ridge ======\n",
      "0.8817407249517755\n",
      "0.8629305996335539\n"
     ]
    }
   ],
   "source": [
    "print(\" OLS \".center(18, \"=\"))\n",
    "print(ols.score(Z_train, y_train))\n",
    "print(ols.score(Z_test, y_test))\n",
    "print()\n",
    "print(\" Ridge \".center(18, \"=\"))\n",
    "print(ridge_cv.score(Z_train, y_train))\n",
    "print(ridge_cv.score(Z_test, y_test))"
   ]
  },
  {
   "cell_type": "code",
   "execution_count": 115,
   "id": "6ab1055d-55ee-4b0f-86be-45d3e59cd141",
   "metadata": {
    "collapsed": true,
    "jupyter": {
     "outputs_hidden": true
    },
    "tags": []
   },
   "outputs": [
    {
     "name": "stderr",
     "output_type": "stream",
     "text": [
      "C:\\Users\\pharr\\Anaconda\\lib\\site-packages\\sklearn\\linear_model\\_coordinate_descent.py:526: ConvergenceWarning: Objective did not converge. You might want to increase the number of iterations. Duality gap: 132355748491.56506, tolerance: 276053562.5134129\n",
      "  model = cd_fast.enet_coordinate_descent_gram(\n",
      "C:\\Users\\pharr\\Anaconda\\lib\\site-packages\\sklearn\\linear_model\\_coordinate_descent.py:526: ConvergenceWarning: Objective did not converge. You might want to increase the number of iterations. Duality gap: 130754638360.91138, tolerance: 276053562.5134129\n",
      "  model = cd_fast.enet_coordinate_descent_gram(\n",
      "C:\\Users\\pharr\\Anaconda\\lib\\site-packages\\sklearn\\linear_model\\_coordinate_descent.py:526: ConvergenceWarning: Objective did not converge. You might want to increase the number of iterations. Duality gap: 128692496942.9685, tolerance: 276053562.5134129\n",
      "  model = cd_fast.enet_coordinate_descent_gram(\n",
      "C:\\Users\\pharr\\Anaconda\\lib\\site-packages\\sklearn\\linear_model\\_coordinate_descent.py:526: ConvergenceWarning: Objective did not converge. You might want to increase the number of iterations. Duality gap: 126411534906.2261, tolerance: 276053562.5134129\n",
      "  model = cd_fast.enet_coordinate_descent_gram(\n",
      "C:\\Users\\pharr\\Anaconda\\lib\\site-packages\\sklearn\\linear_model\\_coordinate_descent.py:526: ConvergenceWarning: Objective did not converge. You might want to increase the number of iterations. Duality gap: 123632977080.15137, tolerance: 276053562.5134129\n",
      "  model = cd_fast.enet_coordinate_descent_gram(\n",
      "C:\\Users\\pharr\\Anaconda\\lib\\site-packages\\sklearn\\linear_model\\_coordinate_descent.py:526: ConvergenceWarning: Objective did not converge. You might want to increase the number of iterations. Duality gap: 123555849529.53952, tolerance: 276053562.5134129\n",
      "  model = cd_fast.enet_coordinate_descent_gram(\n",
      "C:\\Users\\pharr\\Anaconda\\lib\\site-packages\\sklearn\\linear_model\\_coordinate_descent.py:526: ConvergenceWarning: Objective did not converge. You might want to increase the number of iterations. Duality gap: 122555841031.78537, tolerance: 276053562.5134129\n",
      "  model = cd_fast.enet_coordinate_descent_gram(\n",
      "C:\\Users\\pharr\\Anaconda\\lib\\site-packages\\sklearn\\linear_model\\_coordinate_descent.py:526: ConvergenceWarning: Objective did not converge. You might want to increase the number of iterations. Duality gap: 122203160571.50888, tolerance: 276053562.5134129\n",
      "  model = cd_fast.enet_coordinate_descent_gram(\n",
      "C:\\Users\\pharr\\Anaconda\\lib\\site-packages\\sklearn\\linear_model\\_coordinate_descent.py:526: ConvergenceWarning: Objective did not converge. You might want to increase the number of iterations. Duality gap: 121746023030.32318, tolerance: 276053562.5134129\n",
      "  model = cd_fast.enet_coordinate_descent_gram(\n",
      "C:\\Users\\pharr\\Anaconda\\lib\\site-packages\\sklearn\\linear_model\\_coordinate_descent.py:526: ConvergenceWarning: Objective did not converge. You might want to increase the number of iterations. Duality gap: 121127438480.5676, tolerance: 276053562.5134129\n",
      "  model = cd_fast.enet_coordinate_descent_gram(\n",
      "C:\\Users\\pharr\\Anaconda\\lib\\site-packages\\sklearn\\linear_model\\_coordinate_descent.py:526: ConvergenceWarning: Objective did not converge. You might want to increase the number of iterations. Duality gap: 118120433230.03714, tolerance: 276053562.5134129\n",
      "  model = cd_fast.enet_coordinate_descent_gram(\n",
      "C:\\Users\\pharr\\Anaconda\\lib\\site-packages\\sklearn\\linear_model\\_coordinate_descent.py:526: ConvergenceWarning: Objective did not converge. You might want to increase the number of iterations. Duality gap: 114794658697.44272, tolerance: 276053562.5134129\n",
      "  model = cd_fast.enet_coordinate_descent_gram(\n",
      "C:\\Users\\pharr\\Anaconda\\lib\\site-packages\\sklearn\\linear_model\\_coordinate_descent.py:526: ConvergenceWarning: Objective did not converge. You might want to increase the number of iterations. Duality gap: 112372288372.5701, tolerance: 276053562.5134129\n",
      "  model = cd_fast.enet_coordinate_descent_gram(\n",
      "C:\\Users\\pharr\\Anaconda\\lib\\site-packages\\sklearn\\linear_model\\_coordinate_descent.py:526: ConvergenceWarning: Objective did not converge. You might want to increase the number of iterations. Duality gap: 110481666311.03561, tolerance: 276053562.5134129\n",
      "  model = cd_fast.enet_coordinate_descent_gram(\n",
      "C:\\Users\\pharr\\Anaconda\\lib\\site-packages\\sklearn\\linear_model\\_coordinate_descent.py:526: ConvergenceWarning: Objective did not converge. You might want to increase the number of iterations. Duality gap: 108352254658.10095, tolerance: 276053562.5134129\n",
      "  model = cd_fast.enet_coordinate_descent_gram(\n",
      "C:\\Users\\pharr\\Anaconda\\lib\\site-packages\\sklearn\\linear_model\\_coordinate_descent.py:526: ConvergenceWarning: Objective did not converge. You might want to increase the number of iterations. Duality gap: 106060812556.5307, tolerance: 276053562.5134129\n",
      "  model = cd_fast.enet_coordinate_descent_gram(\n",
      "C:\\Users\\pharr\\Anaconda\\lib\\site-packages\\sklearn\\linear_model\\_coordinate_descent.py:526: ConvergenceWarning: Objective did not converge. You might want to increase the number of iterations. Duality gap: 105306714555.60724, tolerance: 276053562.5134129\n",
      "  model = cd_fast.enet_coordinate_descent_gram(\n",
      "C:\\Users\\pharr\\Anaconda\\lib\\site-packages\\sklearn\\linear_model\\_coordinate_descent.py:526: ConvergenceWarning: Objective did not converge. You might want to increase the number of iterations. Duality gap: 105636998133.61237, tolerance: 276053562.5134129\n",
      "  model = cd_fast.enet_coordinate_descent_gram(\n",
      "C:\\Users\\pharr\\Anaconda\\lib\\site-packages\\sklearn\\linear_model\\_coordinate_descent.py:526: ConvergenceWarning: Objective did not converge. You might want to increase the number of iterations. Duality gap: 105715604468.26437, tolerance: 276053562.5134129\n",
      "  model = cd_fast.enet_coordinate_descent_gram(\n",
      "C:\\Users\\pharr\\Anaconda\\lib\\site-packages\\sklearn\\linear_model\\_coordinate_descent.py:526: ConvergenceWarning: Objective did not converge. You might want to increase the number of iterations. Duality gap: 105568788157.08182, tolerance: 276053562.5134129\n",
      "  model = cd_fast.enet_coordinate_descent_gram(\n",
      "C:\\Users\\pharr\\Anaconda\\lib\\site-packages\\sklearn\\linear_model\\_coordinate_descent.py:526: ConvergenceWarning: Objective did not converge. You might want to increase the number of iterations. Duality gap: 104997052119.95169, tolerance: 276053562.5134129\n",
      "  model = cd_fast.enet_coordinate_descent_gram(\n",
      "C:\\Users\\pharr\\Anaconda\\lib\\site-packages\\sklearn\\linear_model\\_coordinate_descent.py:526: ConvergenceWarning: Objective did not converge. You might want to increase the number of iterations. Duality gap: 104099728506.30801, tolerance: 276053562.5134129\n",
      "  model = cd_fast.enet_coordinate_descent_gram(\n",
      "C:\\Users\\pharr\\Anaconda\\lib\\site-packages\\sklearn\\linear_model\\_coordinate_descent.py:526: ConvergenceWarning: Objective did not converge. You might want to increase the number of iterations. Duality gap: 103267927253.12747, tolerance: 276053562.5134129\n",
      "  model = cd_fast.enet_coordinate_descent_gram(\n",
      "C:\\Users\\pharr\\Anaconda\\lib\\site-packages\\sklearn\\linear_model\\_coordinate_descent.py:526: ConvergenceWarning: Objective did not converge. You might want to increase the number of iterations. Duality gap: 102482677704.84308, tolerance: 276053562.5134129\n",
      "  model = cd_fast.enet_coordinate_descent_gram(\n",
      "C:\\Users\\pharr\\Anaconda\\lib\\site-packages\\sklearn\\linear_model\\_coordinate_descent.py:526: ConvergenceWarning: Objective did not converge. You might want to increase the number of iterations. Duality gap: 101743245190.37796, tolerance: 276053562.5134129\n",
      "  model = cd_fast.enet_coordinate_descent_gram(\n",
      "C:\\Users\\pharr\\Anaconda\\lib\\site-packages\\sklearn\\linear_model\\_coordinate_descent.py:526: ConvergenceWarning: Objective did not converge. You might want to increase the number of iterations. Duality gap: 100892836515.01581, tolerance: 276053562.5134129\n",
      "  model = cd_fast.enet_coordinate_descent_gram(\n",
      "C:\\Users\\pharr\\Anaconda\\lib\\site-packages\\sklearn\\linear_model\\_coordinate_descent.py:526: ConvergenceWarning: Objective did not converge. You might want to increase the number of iterations. Duality gap: 99970858899.17886, tolerance: 276053562.5134129\n",
      "  model = cd_fast.enet_coordinate_descent_gram(\n",
      "C:\\Users\\pharr\\Anaconda\\lib\\site-packages\\sklearn\\linear_model\\_coordinate_descent.py:526: ConvergenceWarning: Objective did not converge. You might want to increase the number of iterations. Duality gap: 99020037883.02078, tolerance: 276053562.5134129\n",
      "  model = cd_fast.enet_coordinate_descent_gram(\n",
      "C:\\Users\\pharr\\Anaconda\\lib\\site-packages\\sklearn\\linear_model\\_coordinate_descent.py:526: ConvergenceWarning: Objective did not converge. You might want to increase the number of iterations. Duality gap: 99259940634.18488, tolerance: 276053562.5134129\n",
      "  model = cd_fast.enet_coordinate_descent_gram(\n",
      "C:\\Users\\pharr\\Anaconda\\lib\\site-packages\\sklearn\\linear_model\\_coordinate_descent.py:526: ConvergenceWarning: Objective did not converge. You might want to increase the number of iterations. Duality gap: 99358799230.54642, tolerance: 276053562.5134129\n",
      "  model = cd_fast.enet_coordinate_descent_gram(\n",
      "C:\\Users\\pharr\\Anaconda\\lib\\site-packages\\sklearn\\linear_model\\_coordinate_descent.py:526: ConvergenceWarning: Objective did not converge. You might want to increase the number of iterations. Duality gap: 99307250476.63959, tolerance: 276053562.5134129\n",
      "  model = cd_fast.enet_coordinate_descent_gram(\n",
      "C:\\Users\\pharr\\Anaconda\\lib\\site-packages\\sklearn\\linear_model\\_coordinate_descent.py:526: ConvergenceWarning: Objective did not converge. You might want to increase the number of iterations. Duality gap: 99122083460.92728, tolerance: 276053562.5134129\n",
      "  model = cd_fast.enet_coordinate_descent_gram(\n",
      "C:\\Users\\pharr\\Anaconda\\lib\\site-packages\\sklearn\\linear_model\\_coordinate_descent.py:526: ConvergenceWarning: Objective did not converge. You might want to increase the number of iterations. Duality gap: 98818222803.97513, tolerance: 276053562.5134129\n",
      "  model = cd_fast.enet_coordinate_descent_gram(\n",
      "C:\\Users\\pharr\\Anaconda\\lib\\site-packages\\sklearn\\linear_model\\_coordinate_descent.py:526: ConvergenceWarning: Objective did not converge. You might want to increase the number of iterations. Duality gap: 98409511108.67313, tolerance: 276053562.5134129\n",
      "  model = cd_fast.enet_coordinate_descent_gram(\n",
      "C:\\Users\\pharr\\Anaconda\\lib\\site-packages\\sklearn\\linear_model\\_coordinate_descent.py:526: ConvergenceWarning: Objective did not converge. You might want to increase the number of iterations. Duality gap: 97909306311.60794, tolerance: 276053562.5134129\n",
      "  model = cd_fast.enet_coordinate_descent_gram(\n",
      "C:\\Users\\pharr\\Anaconda\\lib\\site-packages\\sklearn\\linear_model\\_coordinate_descent.py:526: ConvergenceWarning: Objective did not converge. You might want to increase the number of iterations. Duality gap: 99977001140.3844, tolerance: 276053562.5134129\n",
      "  model = cd_fast.enet_coordinate_descent_gram(\n",
      "C:\\Users\\pharr\\Anaconda\\lib\\site-packages\\sklearn\\linear_model\\_coordinate_descent.py:526: ConvergenceWarning: Objective did not converge. You might want to increase the number of iterations. Duality gap: 101717029192.25201, tolerance: 276053562.5134129\n",
      "  model = cd_fast.enet_coordinate_descent_gram(\n",
      "C:\\Users\\pharr\\Anaconda\\lib\\site-packages\\sklearn\\linear_model\\_coordinate_descent.py:526: ConvergenceWarning: Objective did not converge. You might want to increase the number of iterations. Duality gap: 103167738654.71274, tolerance: 276053562.5134129\n",
      "  model = cd_fast.enet_coordinate_descent_gram(\n",
      "C:\\Users\\pharr\\Anaconda\\lib\\site-packages\\sklearn\\linear_model\\_coordinate_descent.py:526: ConvergenceWarning: Objective did not converge. You might want to increase the number of iterations. Duality gap: 104376968726.83704, tolerance: 276053562.5134129\n",
      "  model = cd_fast.enet_coordinate_descent_gram(\n",
      "C:\\Users\\pharr\\Anaconda\\lib\\site-packages\\sklearn\\linear_model\\_coordinate_descent.py:526: ConvergenceWarning: Objective did not converge. You might want to increase the number of iterations. Duality gap: 105382950630.68979, tolerance: 276053562.5134129\n",
      "  model = cd_fast.enet_coordinate_descent_gram(\n",
      "C:\\Users\\pharr\\Anaconda\\lib\\site-packages\\sklearn\\linear_model\\_coordinate_descent.py:526: ConvergenceWarning: Objective did not converge. You might want to increase the number of iterations. Duality gap: 106382690283.06888, tolerance: 276053562.5134129\n",
      "  model = cd_fast.enet_coordinate_descent_gram(\n",
      "C:\\Users\\pharr\\Anaconda\\lib\\site-packages\\sklearn\\linear_model\\_coordinate_descent.py:526: ConvergenceWarning: Objective did not converge. You might want to increase the number of iterations. Duality gap: 109029134129.47266, tolerance: 276053562.5134129\n",
      "  model = cd_fast.enet_coordinate_descent_gram(\n",
      "C:\\Users\\pharr\\Anaconda\\lib\\site-packages\\sklearn\\linear_model\\_coordinate_descent.py:526: ConvergenceWarning: Objective did not converge. You might want to increase the number of iterations. Duality gap: 111309942720.50845, tolerance: 276053562.5134129\n",
      "  model = cd_fast.enet_coordinate_descent_gram(\n",
      "C:\\Users\\pharr\\Anaconda\\lib\\site-packages\\sklearn\\linear_model\\_coordinate_descent.py:526: ConvergenceWarning: Objective did not converge. You might want to increase the number of iterations. Duality gap: 113278742063.38193, tolerance: 276053562.5134129\n",
      "  model = cd_fast.enet_coordinate_descent_gram(\n",
      "C:\\Users\\pharr\\Anaconda\\lib\\site-packages\\sklearn\\linear_model\\_coordinate_descent.py:526: ConvergenceWarning: Objective did not converge. You might want to increase the number of iterations. Duality gap: 114996675305.2489, tolerance: 276053562.5134129\n",
      "  model = cd_fast.enet_coordinate_descent_gram(\n",
      "C:\\Users\\pharr\\Anaconda\\lib\\site-packages\\sklearn\\linear_model\\_coordinate_descent.py:526: ConvergenceWarning: Objective did not converge. You might want to increase the number of iterations. Duality gap: 116510134297.56357, tolerance: 276053562.5134129\n",
      "  model = cd_fast.enet_coordinate_descent_gram(\n",
      "C:\\Users\\pharr\\Anaconda\\lib\\site-packages\\sklearn\\linear_model\\_coordinate_descent.py:526: ConvergenceWarning: Objective did not converge. You might want to increase the number of iterations. Duality gap: 117854741535.84549, tolerance: 276053562.5134129\n",
      "  model = cd_fast.enet_coordinate_descent_gram(\n",
      "C:\\Users\\pharr\\Anaconda\\lib\\site-packages\\sklearn\\linear_model\\_coordinate_descent.py:526: ConvergenceWarning: Objective did not converge. You might want to increase the number of iterations. Duality gap: 119058217808.91516, tolerance: 276053562.5134129\n",
      "  model = cd_fast.enet_coordinate_descent_gram(\n",
      "C:\\Users\\pharr\\Anaconda\\lib\\site-packages\\sklearn\\linear_model\\_coordinate_descent.py:526: ConvergenceWarning: Objective did not converge. You might want to increase the number of iterations. Duality gap: 120142444412.49985, tolerance: 276053562.5134129\n",
      "  model = cd_fast.enet_coordinate_descent_gram(\n",
      "C:\\Users\\pharr\\Anaconda\\lib\\site-packages\\sklearn\\linear_model\\_coordinate_descent.py:526: ConvergenceWarning: Objective did not converge. You might want to increase the number of iterations. Duality gap: 121124947650.41724, tolerance: 276053562.5134129\n",
      "  model = cd_fast.enet_coordinate_descent_gram(\n",
      "C:\\Users\\pharr\\Anaconda\\lib\\site-packages\\sklearn\\linear_model\\_coordinate_descent.py:526: ConvergenceWarning: Objective did not converge. You might want to increase the number of iterations. Duality gap: 122019966653.64392, tolerance: 276053562.5134129\n",
      "  model = cd_fast.enet_coordinate_descent_gram(\n",
      "C:\\Users\\pharr\\Anaconda\\lib\\site-packages\\sklearn\\linear_model\\_coordinate_descent.py:526: ConvergenceWarning: Objective did not converge. You might want to increase the number of iterations. Duality gap: 122839233315.49628, tolerance: 276053562.5134129\n",
      "  model = cd_fast.enet_coordinate_descent_gram(\n",
      "C:\\Users\\pharr\\Anaconda\\lib\\site-packages\\sklearn\\linear_model\\_coordinate_descent.py:526: ConvergenceWarning: Objective did not converge. You might want to increase the number of iterations. Duality gap: 123592535898.31601, tolerance: 276053562.5134129\n",
      "  model = cd_fast.enet_coordinate_descent_gram(\n",
      "C:\\Users\\pharr\\Anaconda\\lib\\site-packages\\sklearn\\linear_model\\_coordinate_descent.py:526: ConvergenceWarning: Objective did not converge. You might want to increase the number of iterations. Duality gap: 124288138917.06921, tolerance: 276053562.5134129\n",
      "  model = cd_fast.enet_coordinate_descent_gram(\n",
      "C:\\Users\\pharr\\Anaconda\\lib\\site-packages\\sklearn\\linear_model\\_coordinate_descent.py:526: ConvergenceWarning: Objective did not converge. You might want to increase the number of iterations. Duality gap: 124933091501.00455, tolerance: 276053562.5134129\n",
      "  model = cd_fast.enet_coordinate_descent_gram(\n",
      "C:\\Users\\pharr\\Anaconda\\lib\\site-packages\\sklearn\\linear_model\\_coordinate_descent.py:526: ConvergenceWarning: Objective did not converge. You might want to increase the number of iterations. Duality gap: 125533457883.02884, tolerance: 276053562.5134129\n",
      "  model = cd_fast.enet_coordinate_descent_gram(\n",
      "C:\\Users\\pharr\\Anaconda\\lib\\site-packages\\sklearn\\linear_model\\_coordinate_descent.py:526: ConvergenceWarning: Objective did not converge. You might want to increase the number of iterations. Duality gap: 126094495433.36139, tolerance: 276053562.5134129\n",
      "  model = cd_fast.enet_coordinate_descent_gram(\n",
      "C:\\Users\\pharr\\Anaconda\\lib\\site-packages\\sklearn\\linear_model\\_coordinate_descent.py:526: ConvergenceWarning: Objective did not converge. You might want to increase the number of iterations. Duality gap: 126620784377.28284, tolerance: 276053562.5134129\n",
      "  model = cd_fast.enet_coordinate_descent_gram(\n",
      "C:\\Users\\pharr\\Anaconda\\lib\\site-packages\\sklearn\\linear_model\\_coordinate_descent.py:526: ConvergenceWarning: Objective did not converge. You might want to increase the number of iterations. Duality gap: 127116335210.58011, tolerance: 276053562.5134129\n",
      "  model = cd_fast.enet_coordinate_descent_gram(\n",
      "C:\\Users\\pharr\\Anaconda\\lib\\site-packages\\sklearn\\linear_model\\_coordinate_descent.py:526: ConvergenceWarning: Objective did not converge. You might want to increase the number of iterations. Duality gap: 127584666395.6861, tolerance: 276053562.5134129\n",
      "  model = cd_fast.enet_coordinate_descent_gram(\n",
      "C:\\Users\\pharr\\Anaconda\\lib\\site-packages\\sklearn\\linear_model\\_coordinate_descent.py:526: ConvergenceWarning: Objective did not converge. You might want to increase the number of iterations. Duality gap: 128028872815.20148, tolerance: 276053562.5134129\n",
      "  model = cd_fast.enet_coordinate_descent_gram(\n",
      "C:\\Users\\pharr\\Anaconda\\lib\\site-packages\\sklearn\\linear_model\\_coordinate_descent.py:526: ConvergenceWarning: Objective did not converge. You might want to increase the number of iterations. Duality gap: 128451674070.29901, tolerance: 276053562.5134129\n",
      "  model = cd_fast.enet_coordinate_descent_gram(\n",
      "C:\\Users\\pharr\\Anaconda\\lib\\site-packages\\sklearn\\linear_model\\_coordinate_descent.py:526: ConvergenceWarning: Objective did not converge. You might want to increase the number of iterations. Duality gap: 128855460205.02666, tolerance: 276053562.5134129\n",
      "  model = cd_fast.enet_coordinate_descent_gram(\n",
      "C:\\Users\\pharr\\Anaconda\\lib\\site-packages\\sklearn\\linear_model\\_coordinate_descent.py:526: ConvergenceWarning: Objective did not converge. You might want to increase the number of iterations. Duality gap: 129242325744.7556, tolerance: 276053562.5134129\n",
      "  model = cd_fast.enet_coordinate_descent_gram(\n",
      "C:\\Users\\pharr\\Anaconda\\lib\\site-packages\\sklearn\\linear_model\\_coordinate_descent.py:526: ConvergenceWarning: Objective did not converge. You might want to increase the number of iterations. Duality gap: 129614101032.61743, tolerance: 276053562.5134129\n",
      "  model = cd_fast.enet_coordinate_descent_gram(\n",
      "C:\\Users\\pharr\\Anaconda\\lib\\site-packages\\sklearn\\linear_model\\_coordinate_descent.py:526: ConvergenceWarning: Objective did not converge. You might want to increase the number of iterations. Duality gap: 129972378646.11159, tolerance: 276053562.5134129\n",
      "  model = cd_fast.enet_coordinate_descent_gram(\n",
      "C:\\Users\\pharr\\Anaconda\\lib\\site-packages\\sklearn\\linear_model\\_coordinate_descent.py:526: ConvergenceWarning: Objective did not converge. You might want to increase the number of iterations. Duality gap: 130318537675.1933, tolerance: 276053562.5134129\n",
      "  model = cd_fast.enet_coordinate_descent_gram(\n",
      "C:\\Users\\pharr\\Anaconda\\lib\\site-packages\\sklearn\\linear_model\\_coordinate_descent.py:526: ConvergenceWarning: Objective did not converge. You might want to increase the number of iterations. Duality gap: 130653763322.57736, tolerance: 276053562.5134129\n",
      "  model = cd_fast.enet_coordinate_descent_gram(\n",
      "C:\\Users\\pharr\\Anaconda\\lib\\site-packages\\sklearn\\linear_model\\_coordinate_descent.py:526: ConvergenceWarning: Objective did not converge. You might want to increase the number of iterations. Duality gap: 130979068508.13678, tolerance: 276053562.5134129\n",
      "  model = cd_fast.enet_coordinate_descent_gram(\n",
      "C:\\Users\\pharr\\Anaconda\\lib\\site-packages\\sklearn\\linear_model\\_coordinate_descent.py:526: ConvergenceWarning: Objective did not converge. You might want to increase the number of iterations. Duality gap: 131295310017.64073, tolerance: 276053562.5134129\n",
      "  model = cd_fast.enet_coordinate_descent_gram(\n",
      "C:\\Users\\pharr\\Anaconda\\lib\\site-packages\\sklearn\\linear_model\\_coordinate_descent.py:526: ConvergenceWarning: Objective did not converge. You might want to increase the number of iterations. Duality gap: 131603207815.69785, tolerance: 276053562.5134129\n",
      "  model = cd_fast.enet_coordinate_descent_gram(\n",
      "C:\\Users\\pharr\\Anaconda\\lib\\site-packages\\sklearn\\linear_model\\_coordinate_descent.py:526: ConvergenceWarning: Objective did not converge. You might want to increase the number of iterations. Duality gap: 131903357422.83278, tolerance: 276053562.5134129\n",
      "  model = cd_fast.enet_coordinate_descent_gram(\n",
      "C:\\Users\\pharr\\Anaconda\\lib\\site-packages\\sklearn\\linear_model\\_coordinate_descent.py:526: ConvergenceWarning: Objective did not converge. You might want to increase the number of iterations. Duality gap: 132196248623.21342, tolerance: 276053562.5134129\n",
      "  model = cd_fast.enet_coordinate_descent_gram(\n",
      "C:\\Users\\pharr\\Anaconda\\lib\\site-packages\\sklearn\\linear_model\\_coordinate_descent.py:526: ConvergenceWarning: Objective did not converge. You might want to increase the number of iterations. Duality gap: 132482277492.62376, tolerance: 276053562.5134129\n",
      "  model = cd_fast.enet_coordinate_descent_gram(\n",
      "C:\\Users\\pharr\\Anaconda\\lib\\site-packages\\sklearn\\linear_model\\_coordinate_descent.py:526: ConvergenceWarning: Objective did not converge. You might want to increase the number of iterations. Duality gap: 132761759548.72246, tolerance: 276053562.5134129\n",
      "  model = cd_fast.enet_coordinate_descent_gram(\n",
      "C:\\Users\\pharr\\Anaconda\\lib\\site-packages\\sklearn\\linear_model\\_coordinate_descent.py:526: ConvergenceWarning: Objective did not converge. You might want to increase the number of iterations. Duality gap: 133034943011.97041, tolerance: 276053562.5134129\n",
      "  model = cd_fast.enet_coordinate_descent_gram(\n",
      "C:\\Users\\pharr\\Anaconda\\lib\\site-packages\\sklearn\\linear_model\\_coordinate_descent.py:526: ConvergenceWarning: Objective did not converge. You might want to increase the number of iterations. Duality gap: 133302020433.74925, tolerance: 276053562.5134129\n",
      "  model = cd_fast.enet_coordinate_descent_gram(\n",
      "C:\\Users\\pharr\\Anaconda\\lib\\site-packages\\sklearn\\linear_model\\_coordinate_descent.py:526: ConvergenceWarning: Objective did not converge. You might want to increase the number of iterations. Duality gap: 133586359419.3333, tolerance: 276053562.5134129\n",
      "  model = cd_fast.enet_coordinate_descent_gram(\n",
      "C:\\Users\\pharr\\Anaconda\\lib\\site-packages\\sklearn\\linear_model\\_coordinate_descent.py:526: ConvergenceWarning: Objective did not converge. You might want to increase the number of iterations. Duality gap: 133861952214.06842, tolerance: 276053562.5134129\n",
      "  model = cd_fast.enet_coordinate_descent_gram(\n",
      "C:\\Users\\pharr\\Anaconda\\lib\\site-packages\\sklearn\\linear_model\\_coordinate_descent.py:526: ConvergenceWarning: Objective did not converge. You might want to increase the number of iterations. Duality gap: 134129117167.78867, tolerance: 276053562.5134129\n",
      "  model = cd_fast.enet_coordinate_descent_gram(\n",
      "C:\\Users\\pharr\\Anaconda\\lib\\site-packages\\sklearn\\linear_model\\_coordinate_descent.py:526: ConvergenceWarning: Objective did not converge. You might want to increase the number of iterations. Duality gap: 134388307765.37158, tolerance: 276053562.5134129\n",
      "  model = cd_fast.enet_coordinate_descent_gram(\n",
      "C:\\Users\\pharr\\Anaconda\\lib\\site-packages\\sklearn\\linear_model\\_coordinate_descent.py:526: ConvergenceWarning: Objective did not converge. You might want to increase the number of iterations. Duality gap: 134639920024.3287, tolerance: 276053562.5134129\n",
      "  model = cd_fast.enet_coordinate_descent_gram(\n",
      "C:\\Users\\pharr\\Anaconda\\lib\\site-packages\\sklearn\\linear_model\\_coordinate_descent.py:526: ConvergenceWarning: Objective did not converge. You might want to increase the number of iterations. Duality gap: 134884300464.8073, tolerance: 276053562.5134129\n",
      "  model = cd_fast.enet_coordinate_descent_gram(\n",
      "C:\\Users\\pharr\\Anaconda\\lib\\site-packages\\sklearn\\linear_model\\_coordinate_descent.py:526: ConvergenceWarning: Objective did not converge. You might want to increase the number of iterations. Duality gap: 135121753176.55591, tolerance: 276053562.5134129\n",
      "  model = cd_fast.enet_coordinate_descent_gram(\n",
      "C:\\Users\\pharr\\Anaconda\\lib\\site-packages\\sklearn\\linear_model\\_coordinate_descent.py:526: ConvergenceWarning: Objective did not converge. You might want to increase the number of iterations. Duality gap: 135352544439.31866, tolerance: 276053562.5134129\n",
      "  model = cd_fast.enet_coordinate_descent_gram(\n",
      "C:\\Users\\pharr\\Anaconda\\lib\\site-packages\\sklearn\\linear_model\\_coordinate_descent.py:526: ConvergenceWarning: Objective did not converge. You might want to increase the number of iterations. Duality gap: 135576910407.17128, tolerance: 276053562.5134129\n",
      "  model = cd_fast.enet_coordinate_descent_gram(\n",
      "C:\\Users\\pharr\\Anaconda\\lib\\site-packages\\sklearn\\linear_model\\_coordinate_descent.py:526: ConvergenceWarning: Objective did not converge. You might want to increase the number of iterations. Duality gap: 135795061443.90463, tolerance: 276053562.5134129\n",
      "  model = cd_fast.enet_coordinate_descent_gram(\n",
      "C:\\Users\\pharr\\Anaconda\\lib\\site-packages\\sklearn\\linear_model\\_coordinate_descent.py:526: ConvergenceWarning: Objective did not converge. You might want to increase the number of iterations. Duality gap: 136007185035.96576, tolerance: 276053562.5134129\n",
      "  model = cd_fast.enet_coordinate_descent_gram(\n",
      "C:\\Users\\pharr\\Anaconda\\lib\\site-packages\\sklearn\\linear_model\\_coordinate_descent.py:526: ConvergenceWarning: Objective did not converge. You might want to increase the number of iterations. Duality gap: 136213453036.10321, tolerance: 276053562.5134129\n",
      "  model = cd_fast.enet_coordinate_descent_gram(\n",
      "C:\\Users\\pharr\\Anaconda\\lib\\site-packages\\sklearn\\linear_model\\_coordinate_descent.py:526: ConvergenceWarning: Objective did not converge. You might want to increase the number of iterations. Duality gap: 136414021070.77588, tolerance: 276053562.5134129\n",
      "  model = cd_fast.enet_coordinate_descent_gram(\n",
      "C:\\Users\\pharr\\Anaconda\\lib\\site-packages\\sklearn\\linear_model\\_coordinate_descent.py:526: ConvergenceWarning: Objective did not converge. You might want to increase the number of iterations. Duality gap: 136609035537.7974, tolerance: 276053562.5134129\n",
      "  model = cd_fast.enet_coordinate_descent_gram(\n",
      "C:\\Users\\pharr\\Anaconda\\lib\\site-packages\\sklearn\\linear_model\\_coordinate_descent.py:526: ConvergenceWarning: Objective did not converge. You might want to increase the number of iterations. Duality gap: 136798632700.12549, tolerance: 276053562.5134129\n",
      "  model = cd_fast.enet_coordinate_descent_gram(\n",
      "C:\\Users\\pharr\\Anaconda\\lib\\site-packages\\sklearn\\linear_model\\_coordinate_descent.py:526: ConvergenceWarning: Objective did not converge. You might want to increase the number of iterations. Duality gap: 136982943490.85973, tolerance: 276053562.5134129\n",
      "  model = cd_fast.enet_coordinate_descent_gram(\n",
      "C:\\Users\\pharr\\Anaconda\\lib\\site-packages\\sklearn\\linear_model\\_coordinate_descent.py:526: ConvergenceWarning: Objective did not converge. You might want to increase the number of iterations. Duality gap: 137162093940.47093, tolerance: 276053562.5134129\n",
      "  model = cd_fast.enet_coordinate_descent_gram(\n",
      "C:\\Users\\pharr\\Anaconda\\lib\\site-packages\\sklearn\\linear_model\\_coordinate_descent.py:526: ConvergenceWarning: Objective did not converge. You might want to increase the number of iterations. Duality gap: 137336205481.16, tolerance: 276053562.5134129\n",
      "  model = cd_fast.enet_coordinate_descent_gram(\n",
      "C:\\Users\\pharr\\Anaconda\\lib\\site-packages\\sklearn\\linear_model\\_coordinate_descent.py:526: ConvergenceWarning: Objective did not converge. You might want to increase the number of iterations. Duality gap: 137505399291.24146, tolerance: 276053562.5134129\n",
      "  model = cd_fast.enet_coordinate_descent_gram(\n",
      "C:\\Users\\pharr\\Anaconda\\lib\\site-packages\\sklearn\\linear_model\\_coordinate_descent.py:526: ConvergenceWarning: Objective did not converge. You might want to increase the number of iterations. Duality gap: 137669793206.75644, tolerance: 276053562.5134129\n",
      "  model = cd_fast.enet_coordinate_descent_gram(\n",
      "C:\\Users\\pharr\\Anaconda\\lib\\site-packages\\sklearn\\linear_model\\_coordinate_descent.py:526: ConvergenceWarning: Objective did not converge. You might want to increase the number of iterations. Duality gap: 137829505905.74512, tolerance: 276053562.5134129\n",
      "  model = cd_fast.enet_coordinate_descent_gram(\n",
      "C:\\Users\\pharr\\Anaconda\\lib\\site-packages\\sklearn\\linear_model\\_coordinate_descent.py:526: ConvergenceWarning: Objective did not converge. You might want to increase the number of iterations. Duality gap: 137984653437.35022, tolerance: 276053562.5134129\n",
      "  model = cd_fast.enet_coordinate_descent_gram(\n",
      "C:\\Users\\pharr\\Anaconda\\lib\\site-packages\\sklearn\\linear_model\\_coordinate_descent.py:526: ConvergenceWarning: Objective did not converge. You might want to increase the number of iterations. Duality gap: 138135354156.74933, tolerance: 276053562.5134129\n",
      "  model = cd_fast.enet_coordinate_descent_gram(\n",
      "C:\\Users\\pharr\\Anaconda\\lib\\site-packages\\sklearn\\linear_model\\_coordinate_descent.py:526: ConvergenceWarning: Objective did not converge. You might want to increase the number of iterations. Duality gap: 124485417191.00946, tolerance: 251885690.7930641\n",
      "  model = cd_fast.enet_coordinate_descent_gram(\n",
      "C:\\Users\\pharr\\Anaconda\\lib\\site-packages\\sklearn\\linear_model\\_coordinate_descent.py:526: ConvergenceWarning: Objective did not converge. You might want to increase the number of iterations. Duality gap: 122465952075.81825, tolerance: 251885690.7930641\n",
      "  model = cd_fast.enet_coordinate_descent_gram(\n",
      "C:\\Users\\pharr\\Anaconda\\lib\\site-packages\\sklearn\\linear_model\\_coordinate_descent.py:526: ConvergenceWarning: Objective did not converge. You might want to increase the number of iterations. Duality gap: 120526384436.94336, tolerance: 251885690.7930641\n",
      "  model = cd_fast.enet_coordinate_descent_gram(\n",
      "C:\\Users\\pharr\\Anaconda\\lib\\site-packages\\sklearn\\linear_model\\_coordinate_descent.py:526: ConvergenceWarning: Objective did not converge. You might want to increase the number of iterations. Duality gap: 118471797833.02747, tolerance: 251885690.7930641\n",
      "  model = cd_fast.enet_coordinate_descent_gram(\n",
      "C:\\Users\\pharr\\Anaconda\\lib\\site-packages\\sklearn\\linear_model\\_coordinate_descent.py:526: ConvergenceWarning: Objective did not converge. You might want to increase the number of iterations. Duality gap: 116154634410.86615, tolerance: 251885690.7930641\n",
      "  model = cd_fast.enet_coordinate_descent_gram(\n",
      "C:\\Users\\pharr\\Anaconda\\lib\\site-packages\\sklearn\\linear_model\\_coordinate_descent.py:526: ConvergenceWarning: Objective did not converge. You might want to increase the number of iterations. Duality gap: 114386590553.51103, tolerance: 251885690.7930641\n",
      "  model = cd_fast.enet_coordinate_descent_gram(\n",
      "C:\\Users\\pharr\\Anaconda\\lib\\site-packages\\sklearn\\linear_model\\_coordinate_descent.py:526: ConvergenceWarning: Objective did not converge. You might want to increase the number of iterations. Duality gap: 114674075316.79556, tolerance: 251885690.7930641\n",
      "  model = cd_fast.enet_coordinate_descent_gram(\n",
      "C:\\Users\\pharr\\Anaconda\\lib\\site-packages\\sklearn\\linear_model\\_coordinate_descent.py:526: ConvergenceWarning: Objective did not converge. You might want to increase the number of iterations. Duality gap: 112998845895.68446, tolerance: 251885690.7930641\n",
      "  model = cd_fast.enet_coordinate_descent_gram(\n",
      "C:\\Users\\pharr\\Anaconda\\lib\\site-packages\\sklearn\\linear_model\\_coordinate_descent.py:526: ConvergenceWarning: Objective did not converge. You might want to increase the number of iterations. Duality gap: 110651155754.49336, tolerance: 251885690.7930641\n",
      "  model = cd_fast.enet_coordinate_descent_gram(\n",
      "C:\\Users\\pharr\\Anaconda\\lib\\site-packages\\sklearn\\linear_model\\_coordinate_descent.py:526: ConvergenceWarning: Objective did not converge. You might want to increase the number of iterations. Duality gap: 108864551426.85747, tolerance: 251885690.7930641\n",
      "  model = cd_fast.enet_coordinate_descent_gram(\n",
      "C:\\Users\\pharr\\Anaconda\\lib\\site-packages\\sklearn\\linear_model\\_coordinate_descent.py:526: ConvergenceWarning: Objective did not converge. You might want to increase the number of iterations. Duality gap: 106718148634.52647, tolerance: 251885690.7930641\n",
      "  model = cd_fast.enet_coordinate_descent_gram(\n",
      "C:\\Users\\pharr\\Anaconda\\lib\\site-packages\\sklearn\\linear_model\\_coordinate_descent.py:526: ConvergenceWarning: Objective did not converge. You might want to increase the number of iterations. Duality gap: 104462421950.85309, tolerance: 251885690.7930641\n",
      "  model = cd_fast.enet_coordinate_descent_gram(\n",
      "C:\\Users\\pharr\\Anaconda\\lib\\site-packages\\sklearn\\linear_model\\_coordinate_descent.py:526: ConvergenceWarning: Objective did not converge. You might want to increase the number of iterations. Duality gap: 102359057585.26872, tolerance: 251885690.7930641\n",
      "  model = cd_fast.enet_coordinate_descent_gram(\n",
      "C:\\Users\\pharr\\Anaconda\\lib\\site-packages\\sklearn\\linear_model\\_coordinate_descent.py:526: ConvergenceWarning: Objective did not converge. You might want to increase the number of iterations. Duality gap: 98628126861.88246, tolerance: 251885690.7930641\n",
      "  model = cd_fast.enet_coordinate_descent_gram(\n",
      "C:\\Users\\pharr\\Anaconda\\lib\\site-packages\\sklearn\\linear_model\\_coordinate_descent.py:526: ConvergenceWarning: Objective did not converge. You might want to increase the number of iterations. Duality gap: 95820422564.9824, tolerance: 251885690.7930641\n",
      "  model = cd_fast.enet_coordinate_descent_gram(\n",
      "C:\\Users\\pharr\\Anaconda\\lib\\site-packages\\sklearn\\linear_model\\_coordinate_descent.py:526: ConvergenceWarning: Objective did not converge. You might want to increase the number of iterations. Duality gap: 92783377059.77597, tolerance: 251885690.7930641\n",
      "  model = cd_fast.enet_coordinate_descent_gram(\n",
      "C:\\Users\\pharr\\Anaconda\\lib\\site-packages\\sklearn\\linear_model\\_coordinate_descent.py:526: ConvergenceWarning: Objective did not converge. You might want to increase the number of iterations. Duality gap: 89631649305.27866, tolerance: 251885690.7930641\n",
      "  model = cd_fast.enet_coordinate_descent_gram(\n",
      "C:\\Users\\pharr\\Anaconda\\lib\\site-packages\\sklearn\\linear_model\\_coordinate_descent.py:526: ConvergenceWarning: Objective did not converge. You might want to increase the number of iterations. Duality gap: 85753183606.55838, tolerance: 251885690.7930641\n",
      "  model = cd_fast.enet_coordinate_descent_gram(\n",
      "C:\\Users\\pharr\\Anaconda\\lib\\site-packages\\sklearn\\linear_model\\_coordinate_descent.py:526: ConvergenceWarning: Objective did not converge. You might want to increase the number of iterations. Duality gap: 82113023496.96973, tolerance: 251885690.7930641\n",
      "  model = cd_fast.enet_coordinate_descent_gram(\n",
      "C:\\Users\\pharr\\Anaconda\\lib\\site-packages\\sklearn\\linear_model\\_coordinate_descent.py:526: ConvergenceWarning: Objective did not converge. You might want to increase the number of iterations. Duality gap: 78364908347.43103, tolerance: 251885690.7930641\n",
      "  model = cd_fast.enet_coordinate_descent_gram(\n",
      "C:\\Users\\pharr\\Anaconda\\lib\\site-packages\\sklearn\\linear_model\\_coordinate_descent.py:526: ConvergenceWarning: Objective did not converge. You might want to increase the number of iterations. Duality gap: 74566860411.30228, tolerance: 251885690.7930641\n",
      "  model = cd_fast.enet_coordinate_descent_gram(\n",
      "C:\\Users\\pharr\\Anaconda\\lib\\site-packages\\sklearn\\linear_model\\_coordinate_descent.py:526: ConvergenceWarning: Objective did not converge. You might want to increase the number of iterations. Duality gap: 71466299089.02118, tolerance: 251885690.7930641\n",
      "  model = cd_fast.enet_coordinate_descent_gram(\n",
      "C:\\Users\\pharr\\Anaconda\\lib\\site-packages\\sklearn\\linear_model\\_coordinate_descent.py:526: ConvergenceWarning: Objective did not converge. You might want to increase the number of iterations. Duality gap: 69130664963.23068, tolerance: 251885690.7930641\n",
      "  model = cd_fast.enet_coordinate_descent_gram(\n",
      "C:\\Users\\pharr\\Anaconda\\lib\\site-packages\\sklearn\\linear_model\\_coordinate_descent.py:526: ConvergenceWarning: Objective did not converge. You might want to increase the number of iterations. Duality gap: 66882925813.18817, tolerance: 251885690.7930641\n",
      "  model = cd_fast.enet_coordinate_descent_gram(\n",
      "C:\\Users\\pharr\\Anaconda\\lib\\site-packages\\sklearn\\linear_model\\_coordinate_descent.py:526: ConvergenceWarning: Objective did not converge. You might want to increase the number of iterations. Duality gap: 64749328329.123566, tolerance: 251885690.7930641\n",
      "  model = cd_fast.enet_coordinate_descent_gram(\n",
      "C:\\Users\\pharr\\Anaconda\\lib\\site-packages\\sklearn\\linear_model\\_coordinate_descent.py:526: ConvergenceWarning: Objective did not converge. You might want to increase the number of iterations. Duality gap: 62753325323.57318, tolerance: 251885690.7930641\n",
      "  model = cd_fast.enet_coordinate_descent_gram(\n",
      "C:\\Users\\pharr\\Anaconda\\lib\\site-packages\\sklearn\\linear_model\\_coordinate_descent.py:526: ConvergenceWarning: Objective did not converge. You might want to increase the number of iterations. Duality gap: 63162241153.90323, tolerance: 251885690.7930641\n",
      "  model = cd_fast.enet_coordinate_descent_gram(\n",
      "C:\\Users\\pharr\\Anaconda\\lib\\site-packages\\sklearn\\linear_model\\_coordinate_descent.py:526: ConvergenceWarning: Objective did not converge. You might want to increase the number of iterations. Duality gap: 63874458109.1767, tolerance: 251885690.7930641\n",
      "  model = cd_fast.enet_coordinate_descent_gram(\n",
      "C:\\Users\\pharr\\Anaconda\\lib\\site-packages\\sklearn\\linear_model\\_coordinate_descent.py:526: ConvergenceWarning: Objective did not converge. You might want to increase the number of iterations. Duality gap: 64310043455.234375, tolerance: 251885690.7930641\n",
      "  model = cd_fast.enet_coordinate_descent_gram(\n",
      "C:\\Users\\pharr\\Anaconda\\lib\\site-packages\\sklearn\\linear_model\\_coordinate_descent.py:526: ConvergenceWarning: Objective did not converge. You might want to increase the number of iterations. Duality gap: 64508968916.79263, tolerance: 251885690.7930641\n",
      "  model = cd_fast.enet_coordinate_descent_gram(\n",
      "C:\\Users\\pharr\\Anaconda\\lib\\site-packages\\sklearn\\linear_model\\_coordinate_descent.py:526: ConvergenceWarning: Objective did not converge. You might want to increase the number of iterations. Duality gap: 64504831734.54654, tolerance: 251885690.7930641\n",
      "  model = cd_fast.enet_coordinate_descent_gram(\n",
      "C:\\Users\\pharr\\Anaconda\\lib\\site-packages\\sklearn\\linear_model\\_coordinate_descent.py:526: ConvergenceWarning: Objective did not converge. You might want to increase the number of iterations. Duality gap: 64326429446.096954, tolerance: 251885690.7930641\n",
      "  model = cd_fast.enet_coordinate_descent_gram(\n",
      "C:\\Users\\pharr\\Anaconda\\lib\\site-packages\\sklearn\\linear_model\\_coordinate_descent.py:526: ConvergenceWarning: Objective did not converge. You might want to increase the number of iterations. Duality gap: 64015534474.5715, tolerance: 251885690.7930641\n",
      "  model = cd_fast.enet_coordinate_descent_gram(\n",
      "C:\\Users\\pharr\\Anaconda\\lib\\site-packages\\sklearn\\linear_model\\_coordinate_descent.py:526: ConvergenceWarning: Objective did not converge. You might want to increase the number of iterations. Duality gap: 63620320240.68738, tolerance: 251885690.7930641\n",
      "  model = cd_fast.enet_coordinate_descent_gram(\n",
      "C:\\Users\\pharr\\Anaconda\\lib\\site-packages\\sklearn\\linear_model\\_coordinate_descent.py:526: ConvergenceWarning: Objective did not converge. You might want to increase the number of iterations. Duality gap: 63113516220.61078, tolerance: 251885690.7930641\n",
      "  model = cd_fast.enet_coordinate_descent_gram(\n",
      "C:\\Users\\pharr\\Anaconda\\lib\\site-packages\\sklearn\\linear_model\\_coordinate_descent.py:526: ConvergenceWarning: Objective did not converge. You might want to increase the number of iterations. Duality gap: 62462506037.622314, tolerance: 251885690.7930641\n",
      "  model = cd_fast.enet_coordinate_descent_gram(\n",
      "C:\\Users\\pharr\\Anaconda\\lib\\site-packages\\sklearn\\linear_model\\_coordinate_descent.py:526: ConvergenceWarning: Objective did not converge. You might want to increase the number of iterations. Duality gap: 61735644585.963715, tolerance: 251885690.7930641\n",
      "  model = cd_fast.enet_coordinate_descent_gram(\n",
      "C:\\Users\\pharr\\Anaconda\\lib\\site-packages\\sklearn\\linear_model\\_coordinate_descent.py:526: ConvergenceWarning: Objective did not converge. You might want to increase the number of iterations. Duality gap: 60950746675.609436, tolerance: 251885690.7930641\n",
      "  model = cd_fast.enet_coordinate_descent_gram(\n",
      "C:\\Users\\pharr\\Anaconda\\lib\\site-packages\\sklearn\\linear_model\\_coordinate_descent.py:526: ConvergenceWarning: Objective did not converge. You might want to increase the number of iterations. Duality gap: 60124029469.96481, tolerance: 251885690.7930641\n",
      "  model = cd_fast.enet_coordinate_descent_gram(\n",
      "C:\\Users\\pharr\\Anaconda\\lib\\site-packages\\sklearn\\linear_model\\_coordinate_descent.py:526: ConvergenceWarning: Objective did not converge. You might want to increase the number of iterations. Duality gap: 59270486692.20148, tolerance: 251885690.7930641\n",
      "  model = cd_fast.enet_coordinate_descent_gram(\n",
      "C:\\Users\\pharr\\Anaconda\\lib\\site-packages\\sklearn\\linear_model\\_coordinate_descent.py:526: ConvergenceWarning: Objective did not converge. You might want to increase the number of iterations. Duality gap: 58404054566.45349, tolerance: 251885690.7930641\n",
      "  model = cd_fast.enet_coordinate_descent_gram(\n",
      "C:\\Users\\pharr\\Anaconda\\lib\\site-packages\\sklearn\\linear_model\\_coordinate_descent.py:526: ConvergenceWarning: Objective did not converge. You might want to increase the number of iterations. Duality gap: 57537633743.79852, tolerance: 251885690.7930641\n",
      "  model = cd_fast.enet_coordinate_descent_gram(\n",
      "C:\\Users\\pharr\\Anaconda\\lib\\site-packages\\sklearn\\linear_model\\_coordinate_descent.py:526: ConvergenceWarning: Objective did not converge. You might want to increase the number of iterations. Duality gap: 56683063461.72223, tolerance: 251885690.7930641\n",
      "  model = cd_fast.enet_coordinate_descent_gram(\n",
      "C:\\Users\\pharr\\Anaconda\\lib\\site-packages\\sklearn\\linear_model\\_coordinate_descent.py:526: ConvergenceWarning: Objective did not converge. You might want to increase the number of iterations. Duality gap: 57060215504.92117, tolerance: 251885690.7930641\n",
      "  model = cd_fast.enet_coordinate_descent_gram(\n",
      "C:\\Users\\pharr\\Anaconda\\lib\\site-packages\\sklearn\\linear_model\\_coordinate_descent.py:526: ConvergenceWarning: Objective did not converge. You might want to increase the number of iterations. Duality gap: 58601316261.73151, tolerance: 251885690.7930641\n",
      "  model = cd_fast.enet_coordinate_descent_gram(\n",
      "C:\\Users\\pharr\\Anaconda\\lib\\site-packages\\sklearn\\linear_model\\_coordinate_descent.py:526: ConvergenceWarning: Objective did not converge. You might want to increase the number of iterations. Duality gap: 59878568406.01459, tolerance: 251885690.7930641\n",
      "  model = cd_fast.enet_coordinate_descent_gram(\n",
      "C:\\Users\\pharr\\Anaconda\\lib\\site-packages\\sklearn\\linear_model\\_coordinate_descent.py:526: ConvergenceWarning: Objective did not converge. You might want to increase the number of iterations. Duality gap: 60926408585.80139, tolerance: 251885690.7930641\n",
      "  model = cd_fast.enet_coordinate_descent_gram(\n",
      "C:\\Users\\pharr\\Anaconda\\lib\\site-packages\\sklearn\\linear_model\\_coordinate_descent.py:526: ConvergenceWarning: Objective did not converge. You might want to increase the number of iterations. Duality gap: 61774611619.15814, tolerance: 251885690.7930641\n",
      "  model = cd_fast.enet_coordinate_descent_gram(\n",
      "C:\\Users\\pharr\\Anaconda\\lib\\site-packages\\sklearn\\linear_model\\_coordinate_descent.py:526: ConvergenceWarning: Objective did not converge. You might want to increase the number of iterations. Duality gap: 62449071130.28412, tolerance: 251885690.7930641\n",
      "  model = cd_fast.enet_coordinate_descent_gram(\n",
      "C:\\Users\\pharr\\Anaconda\\lib\\site-packages\\sklearn\\linear_model\\_coordinate_descent.py:526: ConvergenceWarning: Objective did not converge. You might want to increase the number of iterations. Duality gap: 62972475968.0625, tolerance: 251885690.7930641\n",
      "  model = cd_fast.enet_coordinate_descent_gram(\n",
      "C:\\Users\\pharr\\Anaconda\\lib\\site-packages\\sklearn\\linear_model\\_coordinate_descent.py:526: ConvergenceWarning: Objective did not converge. You might want to increase the number of iterations. Duality gap: 63364858557.82834, tolerance: 251885690.7930641\n",
      "  model = cd_fast.enet_coordinate_descent_gram(\n",
      "C:\\Users\\pharr\\Anaconda\\lib\\site-packages\\sklearn\\linear_model\\_coordinate_descent.py:526: ConvergenceWarning: Objective did not converge. You might want to increase the number of iterations. Duality gap: 63644043959.61661, tolerance: 251885690.7930641\n",
      "  model = cd_fast.enet_coordinate_descent_gram(\n",
      "C:\\Users\\pharr\\Anaconda\\lib\\site-packages\\sklearn\\linear_model\\_coordinate_descent.py:526: ConvergenceWarning: Objective did not converge. You might want to increase the number of iterations. Duality gap: 63825991713.89801, tolerance: 251885690.7930641\n",
      "  model = cd_fast.enet_coordinate_descent_gram(\n",
      "C:\\Users\\pharr\\Anaconda\\lib\\site-packages\\sklearn\\linear_model\\_coordinate_descent.py:526: ConvergenceWarning: Objective did not converge. You might want to increase the number of iterations. Duality gap: 63925094168.40286, tolerance: 251885690.7930641\n",
      "  model = cd_fast.enet_coordinate_descent_gram(\n",
      "C:\\Users\\pharr\\Anaconda\\lib\\site-packages\\sklearn\\linear_model\\_coordinate_descent.py:526: ConvergenceWarning: Objective did not converge. You might want to increase the number of iterations. Duality gap: 63954380334.78708, tolerance: 251885690.7930641\n",
      "  model = cd_fast.enet_coordinate_descent_gram(\n",
      "C:\\Users\\pharr\\Anaconda\\lib\\site-packages\\sklearn\\linear_model\\_coordinate_descent.py:526: ConvergenceWarning: Objective did not converge. You might want to increase the number of iterations. Duality gap: 63925703501.517975, tolerance: 251885690.7930641\n",
      "  model = cd_fast.enet_coordinate_descent_gram(\n",
      "C:\\Users\\pharr\\Anaconda\\lib\\site-packages\\sklearn\\linear_model\\_coordinate_descent.py:526: ConvergenceWarning: Objective did not converge. You might want to increase the number of iterations. Duality gap: 63849859418.8085, tolerance: 251885690.7930641\n",
      "  model = cd_fast.enet_coordinate_descent_gram(\n",
      "C:\\Users\\pharr\\Anaconda\\lib\\site-packages\\sklearn\\linear_model\\_coordinate_descent.py:526: ConvergenceWarning: Objective did not converge. You might want to increase the number of iterations. Duality gap: 63736692275.046814, tolerance: 251885690.7930641\n",
      "  model = cd_fast.enet_coordinate_descent_gram(\n",
      "C:\\Users\\pharr\\Anaconda\\lib\\site-packages\\sklearn\\linear_model\\_coordinate_descent.py:526: ConvergenceWarning: Objective did not converge. You might want to increase the number of iterations. Duality gap: 63595147397.02539, tolerance: 251885690.7930641\n",
      "  model = cd_fast.enet_coordinate_descent_gram(\n",
      "C:\\Users\\pharr\\Anaconda\\lib\\site-packages\\sklearn\\linear_model\\_coordinate_descent.py:526: ConvergenceWarning: Objective did not converge. You might want to increase the number of iterations. Duality gap: 63433357713.15631, tolerance: 251885690.7930641\n",
      "  model = cd_fast.enet_coordinate_descent_gram(\n",
      "C:\\Users\\pharr\\Anaconda\\lib\\site-packages\\sklearn\\linear_model\\_coordinate_descent.py:526: ConvergenceWarning: Objective did not converge. You might want to increase the number of iterations. Duality gap: 63258629622.39221, tolerance: 251885690.7930641\n",
      "  model = cd_fast.enet_coordinate_descent_gram(\n",
      "C:\\Users\\pharr\\Anaconda\\lib\\site-packages\\sklearn\\linear_model\\_coordinate_descent.py:526: ConvergenceWarning: Objective did not converge. You might want to increase the number of iterations. Duality gap: 63077528824.665436, tolerance: 251885690.7930641\n",
      "  model = cd_fast.enet_coordinate_descent_gram(\n",
      "C:\\Users\\pharr\\Anaconda\\lib\\site-packages\\sklearn\\linear_model\\_coordinate_descent.py:526: ConvergenceWarning: Objective did not converge. You might want to increase the number of iterations. Duality gap: 62895858654.9267, tolerance: 251885690.7930641\n",
      "  model = cd_fast.enet_coordinate_descent_gram(\n",
      "C:\\Users\\pharr\\Anaconda\\lib\\site-packages\\sklearn\\linear_model\\_coordinate_descent.py:526: ConvergenceWarning: Objective did not converge. You might want to increase the number of iterations. Duality gap: 62718709714.72168, tolerance: 251885690.7930641\n",
      "  model = cd_fast.enet_coordinate_descent_gram(\n",
      "C:\\Users\\pharr\\Anaconda\\lib\\site-packages\\sklearn\\linear_model\\_coordinate_descent.py:526: ConvergenceWarning: Objective did not converge. You might want to increase the number of iterations. Duality gap: 62550453828.80835, tolerance: 251885690.7930641\n",
      "  model = cd_fast.enet_coordinate_descent_gram(\n",
      "C:\\Users\\pharr\\Anaconda\\lib\\site-packages\\sklearn\\linear_model\\_coordinate_descent.py:526: ConvergenceWarning: Objective did not converge. You might want to increase the number of iterations. Duality gap: 62394802721.845, tolerance: 251885690.7930641\n",
      "  model = cd_fast.enet_coordinate_descent_gram(\n",
      "C:\\Users\\pharr\\Anaconda\\lib\\site-packages\\sklearn\\linear_model\\_coordinate_descent.py:526: ConvergenceWarning: Objective did not converge. You might want to increase the number of iterations. Duality gap: 62254770617.34601, tolerance: 251885690.7930641\n",
      "  model = cd_fast.enet_coordinate_descent_gram(\n",
      "C:\\Users\\pharr\\Anaconda\\lib\\site-packages\\sklearn\\linear_model\\_coordinate_descent.py:526: ConvergenceWarning: Objective did not converge. You might want to increase the number of iterations. Duality gap: 62132805891.006134, tolerance: 251885690.7930641\n",
      "  model = cd_fast.enet_coordinate_descent_gram(\n",
      "C:\\Users\\pharr\\Anaconda\\lib\\site-packages\\sklearn\\linear_model\\_coordinate_descent.py:526: ConvergenceWarning: Objective did not converge. You might want to increase the number of iterations. Duality gap: 62030745396.52731, tolerance: 251885690.7930641\n",
      "  model = cd_fast.enet_coordinate_descent_gram(\n",
      "C:\\Users\\pharr\\Anaconda\\lib\\site-packages\\sklearn\\linear_model\\_coordinate_descent.py:526: ConvergenceWarning: Objective did not converge. You might want to increase the number of iterations. Duality gap: 61949861594.772125, tolerance: 251885690.7930641\n",
      "  model = cd_fast.enet_coordinate_descent_gram(\n",
      "C:\\Users\\pharr\\Anaconda\\lib\\site-packages\\sklearn\\linear_model\\_coordinate_descent.py:526: ConvergenceWarning: Objective did not converge. You might want to increase the number of iterations. Duality gap: 61890950326.32291, tolerance: 251885690.7930641\n",
      "  model = cd_fast.enet_coordinate_descent_gram(\n",
      "C:\\Users\\pharr\\Anaconda\\lib\\site-packages\\sklearn\\linear_model\\_coordinate_descent.py:526: ConvergenceWarning: Objective did not converge. You might want to increase the number of iterations. Duality gap: 61854362340.32001, tolerance: 251885690.7930641\n",
      "  model = cd_fast.enet_coordinate_descent_gram(\n",
      "C:\\Users\\pharr\\Anaconda\\lib\\site-packages\\sklearn\\linear_model\\_coordinate_descent.py:526: ConvergenceWarning: Objective did not converge. You might want to increase the number of iterations. Duality gap: 61840045705.58017, tolerance: 251885690.7930641\n",
      "  model = cd_fast.enet_coordinate_descent_gram(\n",
      "C:\\Users\\pharr\\Anaconda\\lib\\site-packages\\sklearn\\linear_model\\_coordinate_descent.py:526: ConvergenceWarning: Objective did not converge. You might want to increase the number of iterations. Duality gap: 61847563137.53912, tolerance: 251885690.7930641\n",
      "  model = cd_fast.enet_coordinate_descent_gram(\n",
      "C:\\Users\\pharr\\Anaconda\\lib\\site-packages\\sklearn\\linear_model\\_coordinate_descent.py:526: ConvergenceWarning: Objective did not converge. You might want to increase the number of iterations. Duality gap: 61876240070.07272, tolerance: 251885690.7930641\n",
      "  model = cd_fast.enet_coordinate_descent_gram(\n",
      "C:\\Users\\pharr\\Anaconda\\lib\\site-packages\\sklearn\\linear_model\\_coordinate_descent.py:526: ConvergenceWarning: Objective did not converge. You might want to increase the number of iterations. Duality gap: 61925120993.05115, tolerance: 251885690.7930641\n",
      "  model = cd_fast.enet_coordinate_descent_gram(\n",
      "C:\\Users\\pharr\\Anaconda\\lib\\site-packages\\sklearn\\linear_model\\_coordinate_descent.py:526: ConvergenceWarning: Objective did not converge. You might want to increase the number of iterations. Duality gap: 61993070617.21289, tolerance: 251885690.7930641\n",
      "  model = cd_fast.enet_coordinate_descent_gram(\n",
      "C:\\Users\\pharr\\Anaconda\\lib\\site-packages\\sklearn\\linear_model\\_coordinate_descent.py:526: ConvergenceWarning: Objective did not converge. You might want to increase the number of iterations. Duality gap: 62078795874.850525, tolerance: 251885690.7930641\n",
      "  model = cd_fast.enet_coordinate_descent_gram(\n",
      "C:\\Users\\pharr\\Anaconda\\lib\\site-packages\\sklearn\\linear_model\\_coordinate_descent.py:526: ConvergenceWarning: Objective did not converge. You might want to increase the number of iterations. Duality gap: 62180913827.48605, tolerance: 251885690.7930641\n",
      "  model = cd_fast.enet_coordinate_descent_gram(\n",
      "C:\\Users\\pharr\\Anaconda\\lib\\site-packages\\sklearn\\linear_model\\_coordinate_descent.py:526: ConvergenceWarning: Objective did not converge. You might want to increase the number of iterations. Duality gap: 62297988145.100006, tolerance: 251885690.7930641\n",
      "  model = cd_fast.enet_coordinate_descent_gram(\n",
      "C:\\Users\\pharr\\Anaconda\\lib\\site-packages\\sklearn\\linear_model\\_coordinate_descent.py:526: ConvergenceWarning: Objective did not converge. You might want to increase the number of iterations. Duality gap: 62428471370.3089, tolerance: 251885690.7930641\n",
      "  model = cd_fast.enet_coordinate_descent_gram(\n",
      "C:\\Users\\pharr\\Anaconda\\lib\\site-packages\\sklearn\\linear_model\\_coordinate_descent.py:526: ConvergenceWarning: Objective did not converge. You might want to increase the number of iterations. Duality gap: 62570951127.90494, tolerance: 251885690.7930641\n",
      "  model = cd_fast.enet_coordinate_descent_gram(\n",
      "C:\\Users\\pharr\\Anaconda\\lib\\site-packages\\sklearn\\linear_model\\_coordinate_descent.py:526: ConvergenceWarning: Objective did not converge. You might want to increase the number of iterations. Duality gap: 62723865996.993256, tolerance: 251885690.7930641\n",
      "  model = cd_fast.enet_coordinate_descent_gram(\n",
      "C:\\Users\\pharr\\Anaconda\\lib\\site-packages\\sklearn\\linear_model\\_coordinate_descent.py:526: ConvergenceWarning: Objective did not converge. You might want to increase the number of iterations. Duality gap: 62885908001.2258, tolerance: 251885690.7930641\n",
      "  model = cd_fast.enet_coordinate_descent_gram(\n",
      "C:\\Users\\pharr\\Anaconda\\lib\\site-packages\\sklearn\\linear_model\\_coordinate_descent.py:526: ConvergenceWarning: Objective did not converge. You might want to increase the number of iterations. Duality gap: 63055624750.14682, tolerance: 251885690.7930641\n",
      "  model = cd_fast.enet_coordinate_descent_gram(\n",
      "C:\\Users\\pharr\\Anaconda\\lib\\site-packages\\sklearn\\linear_model\\_coordinate_descent.py:526: ConvergenceWarning: Objective did not converge. You might want to increase the number of iterations. Duality gap: 63231846031.308044, tolerance: 251885690.7930641\n",
      "  model = cd_fast.enet_coordinate_descent_gram(\n",
      "C:\\Users\\pharr\\Anaconda\\lib\\site-packages\\sklearn\\linear_model\\_coordinate_descent.py:526: ConvergenceWarning: Objective did not converge. You might want to increase the number of iterations. Duality gap: 63413290698.100494, tolerance: 251885690.7930641\n",
      "  model = cd_fast.enet_coordinate_descent_gram(\n",
      "C:\\Users\\pharr\\Anaconda\\lib\\site-packages\\sklearn\\linear_model\\_coordinate_descent.py:526: ConvergenceWarning: Objective did not converge. You might want to increase the number of iterations. Duality gap: 63598924179.80713, tolerance: 251885690.7930641\n",
      "  model = cd_fast.enet_coordinate_descent_gram(\n",
      "C:\\Users\\pharr\\Anaconda\\lib\\site-packages\\sklearn\\linear_model\\_coordinate_descent.py:526: ConvergenceWarning: Objective did not converge. You might want to increase the number of iterations. Duality gap: 63787745073.58057, tolerance: 251885690.7930641\n",
      "  model = cd_fast.enet_coordinate_descent_gram(\n",
      "C:\\Users\\pharr\\Anaconda\\lib\\site-packages\\sklearn\\linear_model\\_coordinate_descent.py:526: ConvergenceWarning: Objective did not converge. You might want to increase the number of iterations. Duality gap: 63978848831.24945, tolerance: 251885690.7930641\n",
      "  model = cd_fast.enet_coordinate_descent_gram(\n",
      "C:\\Users\\pharr\\Anaconda\\lib\\site-packages\\sklearn\\linear_model\\_coordinate_descent.py:526: ConvergenceWarning: Objective did not converge. You might want to increase the number of iterations. Duality gap: 64171487049.186005, tolerance: 251885690.7930641\n",
      "  model = cd_fast.enet_coordinate_descent_gram(\n",
      "C:\\Users\\pharr\\Anaconda\\lib\\site-packages\\sklearn\\linear_model\\_coordinate_descent.py:526: ConvergenceWarning: Objective did not converge. You might want to increase the number of iterations. Duality gap: 64364936420.67444, tolerance: 251885690.7930641\n",
      "  model = cd_fast.enet_coordinate_descent_gram(\n",
      "C:\\Users\\pharr\\Anaconda\\lib\\site-packages\\sklearn\\linear_model\\_coordinate_descent.py:526: ConvergenceWarning: Objective did not converge. You might want to increase the number of iterations. Duality gap: 64558517424.08865, tolerance: 251885690.7930641\n",
      "  model = cd_fast.enet_coordinate_descent_gram(\n",
      "C:\\Users\\pharr\\Anaconda\\lib\\site-packages\\sklearn\\linear_model\\_coordinate_descent.py:526: ConvergenceWarning: Objective did not converge. You might want to increase the number of iterations. Duality gap: 64751926530.36847, tolerance: 251885690.7930641\n",
      "  model = cd_fast.enet_coordinate_descent_gram(\n",
      "C:\\Users\\pharr\\Anaconda\\lib\\site-packages\\sklearn\\linear_model\\_coordinate_descent.py:526: ConvergenceWarning: Objective did not converge. You might want to increase the number of iterations. Duality gap: 64944604217.39938, tolerance: 251885690.7930641\n",
      "  model = cd_fast.enet_coordinate_descent_gram(\n",
      "C:\\Users\\pharr\\Anaconda\\lib\\site-packages\\sklearn\\linear_model\\_coordinate_descent.py:526: ConvergenceWarning: Objective did not converge. You might want to increase the number of iterations. Duality gap: 65136188156.934265, tolerance: 251885690.7930641\n",
      "  model = cd_fast.enet_coordinate_descent_gram(\n",
      "C:\\Users\\pharr\\Anaconda\\lib\\site-packages\\sklearn\\linear_model\\_coordinate_descent.py:526: ConvergenceWarning: Objective did not converge. You might want to increase the number of iterations. Duality gap: 65326500131.66882, tolerance: 251885690.7930641\n",
      "  model = cd_fast.enet_coordinate_descent_gram(\n",
      "C:\\Users\\pharr\\Anaconda\\lib\\site-packages\\sklearn\\linear_model\\_coordinate_descent.py:526: ConvergenceWarning: Objective did not converge. You might want to increase the number of iterations. Duality gap: 65515201445.307495, tolerance: 251885690.7930641\n",
      "  model = cd_fast.enet_coordinate_descent_gram(\n",
      "C:\\Users\\pharr\\Anaconda\\lib\\site-packages\\sklearn\\linear_model\\_coordinate_descent.py:526: ConvergenceWarning: Objective did not converge. You might want to increase the number of iterations. Duality gap: 65702272157.75195, tolerance: 251885690.7930641\n",
      "  model = cd_fast.enet_coordinate_descent_gram(\n",
      "C:\\Users\\pharr\\Anaconda\\lib\\site-packages\\sklearn\\linear_model\\_coordinate_descent.py:526: ConvergenceWarning: Objective did not converge. You might want to increase the number of iterations. Duality gap: 65887550334.123474, tolerance: 251885690.7930641\n",
      "  model = cd_fast.enet_coordinate_descent_gram(\n",
      "C:\\Users\\pharr\\Anaconda\\lib\\site-packages\\sklearn\\linear_model\\_coordinate_descent.py:526: ConvergenceWarning: Objective did not converge. You might want to increase the number of iterations. Duality gap: 144282985017.06308, tolerance: 265039344.74136204\n",
      "  model = cd_fast.enet_coordinate_descent_gram(\n",
      "C:\\Users\\pharr\\Anaconda\\lib\\site-packages\\sklearn\\linear_model\\_coordinate_descent.py:526: ConvergenceWarning: Objective did not converge. You might want to increase the number of iterations. Duality gap: 140590236896.72824, tolerance: 265039344.74136204\n",
      "  model = cd_fast.enet_coordinate_descent_gram(\n",
      "C:\\Users\\pharr\\Anaconda\\lib\\site-packages\\sklearn\\linear_model\\_coordinate_descent.py:526: ConvergenceWarning: Objective did not converge. You might want to increase the number of iterations. Duality gap: 138034585956.74072, tolerance: 265039344.74136204\n",
      "  model = cd_fast.enet_coordinate_descent_gram(\n",
      "C:\\Users\\pharr\\Anaconda\\lib\\site-packages\\sklearn\\linear_model\\_coordinate_descent.py:526: ConvergenceWarning: Objective did not converge. You might want to increase the number of iterations. Duality gap: 136569704195.45892, tolerance: 265039344.74136204\n",
      "  model = cd_fast.enet_coordinate_descent_gram(\n",
      "C:\\Users\\pharr\\Anaconda\\lib\\site-packages\\sklearn\\linear_model\\_coordinate_descent.py:526: ConvergenceWarning: Objective did not converge. You might want to increase the number of iterations. Duality gap: 135642426594.17679, tolerance: 265039344.74136204\n",
      "  model = cd_fast.enet_coordinate_descent_gram(\n",
      "C:\\Users\\pharr\\Anaconda\\lib\\site-packages\\sklearn\\linear_model\\_coordinate_descent.py:526: ConvergenceWarning: Objective did not converge. You might want to increase the number of iterations. Duality gap: 134231506123.69543, tolerance: 265039344.74136204\n",
      "  model = cd_fast.enet_coordinate_descent_gram(\n",
      "C:\\Users\\pharr\\Anaconda\\lib\\site-packages\\sklearn\\linear_model\\_coordinate_descent.py:526: ConvergenceWarning: Objective did not converge. You might want to increase the number of iterations. Duality gap: 132715448380.42004, tolerance: 265039344.74136204\n",
      "  model = cd_fast.enet_coordinate_descent_gram(\n",
      "C:\\Users\\pharr\\Anaconda\\lib\\site-packages\\sklearn\\linear_model\\_coordinate_descent.py:526: ConvergenceWarning: Objective did not converge. You might want to increase the number of iterations. Duality gap: 129480818798.34323, tolerance: 265039344.74136204\n",
      "  model = cd_fast.enet_coordinate_descent_gram(\n",
      "C:\\Users\\pharr\\Anaconda\\lib\\site-packages\\sklearn\\linear_model\\_coordinate_descent.py:526: ConvergenceWarning: Objective did not converge. You might want to increase the number of iterations. Duality gap: 126935359874.76028, tolerance: 265039344.74136204\n",
      "  model = cd_fast.enet_coordinate_descent_gram(\n",
      "C:\\Users\\pharr\\Anaconda\\lib\\site-packages\\sklearn\\linear_model\\_coordinate_descent.py:526: ConvergenceWarning: Objective did not converge. You might want to increase the number of iterations. Duality gap: 124021331289.99384, tolerance: 265039344.74136204\n",
      "  model = cd_fast.enet_coordinate_descent_gram(\n",
      "C:\\Users\\pharr\\Anaconda\\lib\\site-packages\\sklearn\\linear_model\\_coordinate_descent.py:526: ConvergenceWarning: Objective did not converge. You might want to increase the number of iterations. Duality gap: 120801534084.9739, tolerance: 265039344.74136204\n",
      "  model = cd_fast.enet_coordinate_descent_gram(\n",
      "C:\\Users\\pharr\\Anaconda\\lib\\site-packages\\sklearn\\linear_model\\_coordinate_descent.py:526: ConvergenceWarning: Objective did not converge. You might want to increase the number of iterations. Duality gap: 115055600456.24124, tolerance: 265039344.74136204\n",
      "  model = cd_fast.enet_coordinate_descent_gram(\n",
      "C:\\Users\\pharr\\Anaconda\\lib\\site-packages\\sklearn\\linear_model\\_coordinate_descent.py:526: ConvergenceWarning: Objective did not converge. You might want to increase the number of iterations. Duality gap: 109554467647.42963, tolerance: 265039344.74136204\n",
      "  model = cd_fast.enet_coordinate_descent_gram(\n",
      "C:\\Users\\pharr\\Anaconda\\lib\\site-packages\\sklearn\\linear_model\\_coordinate_descent.py:526: ConvergenceWarning: Objective did not converge. You might want to increase the number of iterations. Duality gap: 104141395668.6836, tolerance: 265039344.74136204\n",
      "  model = cd_fast.enet_coordinate_descent_gram(\n",
      "C:\\Users\\pharr\\Anaconda\\lib\\site-packages\\sklearn\\linear_model\\_coordinate_descent.py:526: ConvergenceWarning: Objective did not converge. You might want to increase the number of iterations. Duality gap: 98093194226.44412, tolerance: 265039344.74136204\n",
      "  model = cd_fast.enet_coordinate_descent_gram(\n",
      "C:\\Users\\pharr\\Anaconda\\lib\\site-packages\\sklearn\\linear_model\\_coordinate_descent.py:526: ConvergenceWarning: Objective did not converge. You might want to increase the number of iterations. Duality gap: 91550358559.53363, tolerance: 265039344.74136204\n",
      "  model = cd_fast.enet_coordinate_descent_gram(\n",
      "C:\\Users\\pharr\\Anaconda\\lib\\site-packages\\sklearn\\linear_model\\_coordinate_descent.py:526: ConvergenceWarning: Objective did not converge. You might want to increase the number of iterations. Duality gap: 85992426654.69955, tolerance: 265039344.74136204\n",
      "  model = cd_fast.enet_coordinate_descent_gram(\n",
      "C:\\Users\\pharr\\Anaconda\\lib\\site-packages\\sklearn\\linear_model\\_coordinate_descent.py:526: ConvergenceWarning: Objective did not converge. You might want to increase the number of iterations. Duality gap: 79501303923.25275, tolerance: 265039344.74136204\n",
      "  model = cd_fast.enet_coordinate_descent_gram(\n",
      "C:\\Users\\pharr\\Anaconda\\lib\\site-packages\\sklearn\\linear_model\\_coordinate_descent.py:526: ConvergenceWarning: Objective did not converge. You might want to increase the number of iterations. Duality gap: 72791573451.85449, tolerance: 265039344.74136204\n",
      "  model = cd_fast.enet_coordinate_descent_gram(\n",
      "C:\\Users\\pharr\\Anaconda\\lib\\site-packages\\sklearn\\linear_model\\_coordinate_descent.py:526: ConvergenceWarning: Objective did not converge. You might want to increase the number of iterations. Duality gap: 68724703562.3027, tolerance: 265039344.74136204\n",
      "  model = cd_fast.enet_coordinate_descent_gram(\n",
      "C:\\Users\\pharr\\Anaconda\\lib\\site-packages\\sklearn\\linear_model\\_coordinate_descent.py:526: ConvergenceWarning: Objective did not converge. You might want to increase the number of iterations. Duality gap: 65483769957.680115, tolerance: 265039344.74136204\n",
      "  model = cd_fast.enet_coordinate_descent_gram(\n",
      "C:\\Users\\pharr\\Anaconda\\lib\\site-packages\\sklearn\\linear_model\\_coordinate_descent.py:526: ConvergenceWarning: Objective did not converge. You might want to increase the number of iterations. Duality gap: 69310673039.14111, tolerance: 265039344.74136204\n",
      "  model = cd_fast.enet_coordinate_descent_gram(\n",
      "C:\\Users\\pharr\\Anaconda\\lib\\site-packages\\sklearn\\linear_model\\_coordinate_descent.py:526: ConvergenceWarning: Objective did not converge. You might want to increase the number of iterations. Duality gap: 73229143930.93076, tolerance: 265039344.74136204\n",
      "  model = cd_fast.enet_coordinate_descent_gram(\n",
      "C:\\Users\\pharr\\Anaconda\\lib\\site-packages\\sklearn\\linear_model\\_coordinate_descent.py:526: ConvergenceWarning: Objective did not converge. You might want to increase the number of iterations. Duality gap: 75814358899.78183, tolerance: 265039344.74136204\n",
      "  model = cd_fast.enet_coordinate_descent_gram(\n",
      "C:\\Users\\pharr\\Anaconda\\lib\\site-packages\\sklearn\\linear_model\\_coordinate_descent.py:526: ConvergenceWarning: Objective did not converge. You might want to increase the number of iterations. Duality gap: 77651894122.86996, tolerance: 265039344.74136204\n",
      "  model = cd_fast.enet_coordinate_descent_gram(\n",
      "C:\\Users\\pharr\\Anaconda\\lib\\site-packages\\sklearn\\linear_model\\_coordinate_descent.py:526: ConvergenceWarning: Objective did not converge. You might want to increase the number of iterations. Duality gap: 78897652761.38608, tolerance: 265039344.74136204\n",
      "  model = cd_fast.enet_coordinate_descent_gram(\n",
      "C:\\Users\\pharr\\Anaconda\\lib\\site-packages\\sklearn\\linear_model\\_coordinate_descent.py:526: ConvergenceWarning: Objective did not converge. You might want to increase the number of iterations. Duality gap: 79679213143.57898, tolerance: 265039344.74136204\n",
      "  model = cd_fast.enet_coordinate_descent_gram(\n",
      "C:\\Users\\pharr\\Anaconda\\lib\\site-packages\\sklearn\\linear_model\\_coordinate_descent.py:526: ConvergenceWarning: Objective did not converge. You might want to increase the number of iterations. Duality gap: 80093721223.84818, tolerance: 265039344.74136204\n",
      "  model = cd_fast.enet_coordinate_descent_gram(\n",
      "C:\\Users\\pharr\\Anaconda\\lib\\site-packages\\sklearn\\linear_model\\_coordinate_descent.py:526: ConvergenceWarning: Objective did not converge. You might want to increase the number of iterations. Duality gap: 80217683396.60608, tolerance: 265039344.74136204\n",
      "  model = cd_fast.enet_coordinate_descent_gram(\n",
      "C:\\Users\\pharr\\Anaconda\\lib\\site-packages\\sklearn\\linear_model\\_coordinate_descent.py:526: ConvergenceWarning: Objective did not converge. You might want to increase the number of iterations. Duality gap: 80113384086.21289, tolerance: 265039344.74136204\n",
      "  model = cd_fast.enet_coordinate_descent_gram(\n",
      "C:\\Users\\pharr\\Anaconda\\lib\\site-packages\\sklearn\\linear_model\\_coordinate_descent.py:526: ConvergenceWarning: Objective did not converge. You might want to increase the number of iterations. Duality gap: 79833153270.97818, tolerance: 265039344.74136204\n",
      "  model = cd_fast.enet_coordinate_descent_gram(\n",
      "C:\\Users\\pharr\\Anaconda\\lib\\site-packages\\sklearn\\linear_model\\_coordinate_descent.py:526: ConvergenceWarning: Objective did not converge. You might want to increase the number of iterations. Duality gap: 79422146965.65375, tolerance: 265039344.74136204\n",
      "  model = cd_fast.enet_coordinate_descent_gram(\n",
      "C:\\Users\\pharr\\Anaconda\\lib\\site-packages\\sklearn\\linear_model\\_coordinate_descent.py:526: ConvergenceWarning: Objective did not converge. You might want to increase the number of iterations. Duality gap: 78920113152.10754, tolerance: 265039344.74136204\n",
      "  model = cd_fast.enet_coordinate_descent_gram(\n",
      "C:\\Users\\pharr\\Anaconda\\lib\\site-packages\\sklearn\\linear_model\\_coordinate_descent.py:526: ConvergenceWarning: Objective did not converge. You might want to increase the number of iterations. Duality gap: 78362453149.77316, tolerance: 265039344.74136204\n",
      "  model = cd_fast.enet_coordinate_descent_gram(\n",
      "C:\\Users\\pharr\\Anaconda\\lib\\site-packages\\sklearn\\linear_model\\_coordinate_descent.py:526: ConvergenceWarning: Objective did not converge. You might want to increase the number of iterations. Duality gap: 77780779314.86987, tolerance: 265039344.74136204\n",
      "  model = cd_fast.enet_coordinate_descent_gram(\n",
      "C:\\Users\\pharr\\Anaconda\\lib\\site-packages\\sklearn\\linear_model\\_coordinate_descent.py:526: ConvergenceWarning: Objective did not converge. You might want to increase the number of iterations. Duality gap: 77203138227.32526, tolerance: 265039344.74136204\n",
      "  model = cd_fast.enet_coordinate_descent_gram(\n",
      "C:\\Users\\pharr\\Anaconda\\lib\\site-packages\\sklearn\\linear_model\\_coordinate_descent.py:526: ConvergenceWarning: Objective did not converge. You might want to increase the number of iterations. Duality gap: 76654023100.84961, tolerance: 265039344.74136204\n",
      "  model = cd_fast.enet_coordinate_descent_gram(\n",
      "C:\\Users\\pharr\\Anaconda\\lib\\site-packages\\sklearn\\linear_model\\_coordinate_descent.py:526: ConvergenceWarning: Objective did not converge. You might want to increase the number of iterations. Duality gap: 76154262026.82654, tolerance: 265039344.74136204\n",
      "  model = cd_fast.enet_coordinate_descent_gram(\n",
      "C:\\Users\\pharr\\Anaconda\\lib\\site-packages\\sklearn\\linear_model\\_coordinate_descent.py:526: ConvergenceWarning: Objective did not converge. You might want to increase the number of iterations. Duality gap: 75720889311.42679, tolerance: 265039344.74136204\n",
      "  model = cd_fast.enet_coordinate_descent_gram(\n",
      "C:\\Users\\pharr\\Anaconda\\lib\\site-packages\\sklearn\\linear_model\\_coordinate_descent.py:526: ConvergenceWarning: Objective did not converge. You might want to increase the number of iterations. Duality gap: 75367052322.86792, tolerance: 265039344.74136204\n",
      "  model = cd_fast.enet_coordinate_descent_gram(\n",
      "C:\\Users\\pharr\\Anaconda\\lib\\site-packages\\sklearn\\linear_model\\_coordinate_descent.py:526: ConvergenceWarning: Objective did not converge. You might want to increase the number of iterations. Duality gap: 76720271945.73941, tolerance: 265039344.74136204\n",
      "  model = cd_fast.enet_coordinate_descent_gram(\n",
      "C:\\Users\\pharr\\Anaconda\\lib\\site-packages\\sklearn\\linear_model\\_coordinate_descent.py:526: ConvergenceWarning: Objective did not converge. You might want to increase the number of iterations. Duality gap: 78078492172.91837, tolerance: 265039344.74136204\n",
      "  model = cd_fast.enet_coordinate_descent_gram(\n",
      "C:\\Users\\pharr\\Anaconda\\lib\\site-packages\\sklearn\\linear_model\\_coordinate_descent.py:526: ConvergenceWarning: Objective did not converge. You might want to increase the number of iterations. Duality gap: 79179105763.7945, tolerance: 265039344.74136204\n",
      "  model = cd_fast.enet_coordinate_descent_gram(\n",
      "C:\\Users\\pharr\\Anaconda\\lib\\site-packages\\sklearn\\linear_model\\_coordinate_descent.py:526: ConvergenceWarning: Objective did not converge. You might want to increase the number of iterations. Duality gap: 80062868550.121, tolerance: 265039344.74136204\n",
      "  model = cd_fast.enet_coordinate_descent_gram(\n",
      "C:\\Users\\pharr\\Anaconda\\lib\\site-packages\\sklearn\\linear_model\\_coordinate_descent.py:526: ConvergenceWarning: Objective did not converge. You might want to increase the number of iterations. Duality gap: 80765244656.98477, tolerance: 265039344.74136204\n",
      "  model = cd_fast.enet_coordinate_descent_gram(\n",
      "C:\\Users\\pharr\\Anaconda\\lib\\site-packages\\sklearn\\linear_model\\_coordinate_descent.py:526: ConvergenceWarning: Objective did not converge. You might want to increase the number of iterations. Duality gap: 81317385120.2327, tolerance: 265039344.74136204\n",
      "  model = cd_fast.enet_coordinate_descent_gram(\n",
      "C:\\Users\\pharr\\Anaconda\\lib\\site-packages\\sklearn\\linear_model\\_coordinate_descent.py:526: ConvergenceWarning: Objective did not converge. You might want to increase the number of iterations. Duality gap: 81746854128.87988, tolerance: 265039344.74136204\n",
      "  model = cd_fast.enet_coordinate_descent_gram(\n",
      "C:\\Users\\pharr\\Anaconda\\lib\\site-packages\\sklearn\\linear_model\\_coordinate_descent.py:526: ConvergenceWarning: Objective did not converge. You might want to increase the number of iterations. Duality gap: 82078187163.64902, tolerance: 265039344.74136204\n",
      "  model = cd_fast.enet_coordinate_descent_gram(\n",
      "C:\\Users\\pharr\\Anaconda\\lib\\site-packages\\sklearn\\linear_model\\_coordinate_descent.py:526: ConvergenceWarning: Objective did not converge. You might want to increase the number of iterations. Duality gap: 82333283646.95404, tolerance: 265039344.74136204\n",
      "  model = cd_fast.enet_coordinate_descent_gram(\n",
      "C:\\Users\\pharr\\Anaconda\\lib\\site-packages\\sklearn\\linear_model\\_coordinate_descent.py:526: ConvergenceWarning: Objective did not converge. You might want to increase the number of iterations. Duality gap: 82531694303.08054, tolerance: 265039344.74136204\n",
      "  model = cd_fast.enet_coordinate_descent_gram(\n",
      "C:\\Users\\pharr\\Anaconda\\lib\\site-packages\\sklearn\\linear_model\\_coordinate_descent.py:526: ConvergenceWarning: Objective did not converge. You might want to increase the number of iterations. Duality gap: 82690792260.03165, tolerance: 265039344.74136204\n",
      "  model = cd_fast.enet_coordinate_descent_gram(\n",
      "C:\\Users\\pharr\\Anaconda\\lib\\site-packages\\sklearn\\linear_model\\_coordinate_descent.py:526: ConvergenceWarning: Objective did not converge. You might want to increase the number of iterations. Duality gap: 82825897171.6889, tolerance: 265039344.74136204\n",
      "  model = cd_fast.enet_coordinate_descent_gram(\n",
      "C:\\Users\\pharr\\Anaconda\\lib\\site-packages\\sklearn\\linear_model\\_coordinate_descent.py:526: ConvergenceWarning: Objective did not converge. You might want to increase the number of iterations. Duality gap: 82950366496.87311, tolerance: 265039344.74136204\n",
      "  model = cd_fast.enet_coordinate_descent_gram(\n",
      "C:\\Users\\pharr\\Anaconda\\lib\\site-packages\\sklearn\\linear_model\\_coordinate_descent.py:526: ConvergenceWarning: Objective did not converge. You might want to increase the number of iterations. Duality gap: 83075628196.40234, tolerance: 265039344.74136204\n",
      "  model = cd_fast.enet_coordinate_descent_gram(\n",
      "C:\\Users\\pharr\\Anaconda\\lib\\site-packages\\sklearn\\linear_model\\_coordinate_descent.py:526: ConvergenceWarning: Objective did not converge. You might want to increase the number of iterations. Duality gap: 83211241846.65125, tolerance: 265039344.74136204\n",
      "  model = cd_fast.enet_coordinate_descent_gram(\n",
      "C:\\Users\\pharr\\Anaconda\\lib\\site-packages\\sklearn\\linear_model\\_coordinate_descent.py:526: ConvergenceWarning: Objective did not converge. You might want to increase the number of iterations. Duality gap: 83364945977.9949, tolerance: 265039344.74136204\n",
      "  model = cd_fast.enet_coordinate_descent_gram(\n",
      "C:\\Users\\pharr\\Anaconda\\lib\\site-packages\\sklearn\\linear_model\\_coordinate_descent.py:526: ConvergenceWarning: Objective did not converge. You might want to increase the number of iterations. Duality gap: 83542743023.22592, tolerance: 265039344.74136204\n",
      "  model = cd_fast.enet_coordinate_descent_gram(\n",
      "C:\\Users\\pharr\\Anaconda\\lib\\site-packages\\sklearn\\linear_model\\_coordinate_descent.py:526: ConvergenceWarning: Objective did not converge. You might want to increase the number of iterations. Duality gap: 83748976905.41373, tolerance: 265039344.74136204\n",
      "  model = cd_fast.enet_coordinate_descent_gram(\n",
      "C:\\Users\\pharr\\Anaconda\\lib\\site-packages\\sklearn\\linear_model\\_coordinate_descent.py:526: ConvergenceWarning: Objective did not converge. You might want to increase the number of iterations. Duality gap: 83986451504.66748, tolerance: 265039344.74136204\n",
      "  model = cd_fast.enet_coordinate_descent_gram(\n",
      "C:\\Users\\pharr\\Anaconda\\lib\\site-packages\\sklearn\\linear_model\\_coordinate_descent.py:526: ConvergenceWarning: Objective did not converge. You might want to increase the number of iterations. Duality gap: 84256586052.16382, tolerance: 265039344.74136204\n",
      "  model = cd_fast.enet_coordinate_descent_gram(\n",
      "C:\\Users\\pharr\\Anaconda\\lib\\site-packages\\sklearn\\linear_model\\_coordinate_descent.py:526: ConvergenceWarning: Objective did not converge. You might want to increase the number of iterations. Duality gap: 84559533051.91946, tolerance: 265039344.74136204\n",
      "  model = cd_fast.enet_coordinate_descent_gram(\n",
      "C:\\Users\\pharr\\Anaconda\\lib\\site-packages\\sklearn\\linear_model\\_coordinate_descent.py:526: ConvergenceWarning: Objective did not converge. You might want to increase the number of iterations. Duality gap: 84894435460.68854, tolerance: 265039344.74136204\n",
      "  model = cd_fast.enet_coordinate_descent_gram(\n",
      "C:\\Users\\pharr\\Anaconda\\lib\\site-packages\\sklearn\\linear_model\\_coordinate_descent.py:526: ConvergenceWarning: Objective did not converge. You might want to increase the number of iterations. Duality gap: 85259511554.90753, tolerance: 265039344.74136204\n",
      "  model = cd_fast.enet_coordinate_descent_gram(\n",
      "C:\\Users\\pharr\\Anaconda\\lib\\site-packages\\sklearn\\linear_model\\_coordinate_descent.py:526: ConvergenceWarning: Objective did not converge. You might want to increase the number of iterations. Duality gap: 85652314245.44418, tolerance: 265039344.74136204\n",
      "  model = cd_fast.enet_coordinate_descent_gram(\n",
      "C:\\Users\\pharr\\Anaconda\\lib\\site-packages\\sklearn\\linear_model\\_coordinate_descent.py:526: ConvergenceWarning: Objective did not converge. You might want to increase the number of iterations. Duality gap: 86069864033.28442, tolerance: 265039344.74136204\n",
      "  model = cd_fast.enet_coordinate_descent_gram(\n",
      "C:\\Users\\pharr\\Anaconda\\lib\\site-packages\\sklearn\\linear_model\\_coordinate_descent.py:526: ConvergenceWarning: Objective did not converge. You might want to increase the number of iterations. Duality gap: 86508870754.83273, tolerance: 265039344.74136204\n",
      "  model = cd_fast.enet_coordinate_descent_gram(\n",
      "C:\\Users\\pharr\\Anaconda\\lib\\site-packages\\sklearn\\linear_model\\_coordinate_descent.py:526: ConvergenceWarning: Objective did not converge. You might want to increase the number of iterations. Duality gap: 86965814308.25693, tolerance: 265039344.74136204\n",
      "  model = cd_fast.enet_coordinate_descent_gram(\n",
      "C:\\Users\\pharr\\Anaconda\\lib\\site-packages\\sklearn\\linear_model\\_coordinate_descent.py:526: ConvergenceWarning: Objective did not converge. You might want to increase the number of iterations. Duality gap: 87437149257.44583, tolerance: 265039344.74136204\n",
      "  model = cd_fast.enet_coordinate_descent_gram(\n",
      "C:\\Users\\pharr\\Anaconda\\lib\\site-packages\\sklearn\\linear_model\\_coordinate_descent.py:526: ConvergenceWarning: Objective did not converge. You might want to increase the number of iterations. Duality gap: 87919343490.06735, tolerance: 265039344.74136204\n",
      "  model = cd_fast.enet_coordinate_descent_gram(\n",
      "C:\\Users\\pharr\\Anaconda\\lib\\site-packages\\sklearn\\linear_model\\_coordinate_descent.py:526: ConvergenceWarning: Objective did not converge. You might want to increase the number of iterations. Duality gap: 88409083858.64969, tolerance: 265039344.74136204\n",
      "  model = cd_fast.enet_coordinate_descent_gram(\n",
      "C:\\Users\\pharr\\Anaconda\\lib\\site-packages\\sklearn\\linear_model\\_coordinate_descent.py:526: ConvergenceWarning: Objective did not converge. You might want to increase the number of iterations. Duality gap: 88903216428.09155, tolerance: 265039344.74136204\n",
      "  model = cd_fast.enet_coordinate_descent_gram(\n",
      "C:\\Users\\pharr\\Anaconda\\lib\\site-packages\\sklearn\\linear_model\\_coordinate_descent.py:526: ConvergenceWarning: Objective did not converge. You might want to increase the number of iterations. Duality gap: 89398898518.37921, tolerance: 265039344.74136204\n",
      "  model = cd_fast.enet_coordinate_descent_gram(\n",
      "C:\\Users\\pharr\\Anaconda\\lib\\site-packages\\sklearn\\linear_model\\_coordinate_descent.py:526: ConvergenceWarning: Objective did not converge. You might want to increase the number of iterations. Duality gap: 89893593501.16867, tolerance: 265039344.74136204\n",
      "  model = cd_fast.enet_coordinate_descent_gram(\n",
      "C:\\Users\\pharr\\Anaconda\\lib\\site-packages\\sklearn\\linear_model\\_coordinate_descent.py:526: ConvergenceWarning: Objective did not converge. You might want to increase the number of iterations. Duality gap: 90385054159.87134, tolerance: 265039344.74136204\n",
      "  model = cd_fast.enet_coordinate_descent_gram(\n",
      "C:\\Users\\pharr\\Anaconda\\lib\\site-packages\\sklearn\\linear_model\\_coordinate_descent.py:526: ConvergenceWarning: Objective did not converge. You might want to increase the number of iterations. Duality gap: 90871435224.9195, tolerance: 265039344.74136204\n",
      "  model = cd_fast.enet_coordinate_descent_gram(\n",
      "C:\\Users\\pharr\\Anaconda\\lib\\site-packages\\sklearn\\linear_model\\_coordinate_descent.py:526: ConvergenceWarning: Objective did not converge. You might want to increase the number of iterations. Duality gap: 91351194813.87756, tolerance: 265039344.74136204\n",
      "  model = cd_fast.enet_coordinate_descent_gram(\n",
      "C:\\Users\\pharr\\Anaconda\\lib\\site-packages\\sklearn\\linear_model\\_coordinate_descent.py:526: ConvergenceWarning: Objective did not converge. You might want to increase the number of iterations. Duality gap: 91823064323.7732, tolerance: 265039344.74136204\n",
      "  model = cd_fast.enet_coordinate_descent_gram(\n",
      "C:\\Users\\pharr\\Anaconda\\lib\\site-packages\\sklearn\\linear_model\\_coordinate_descent.py:526: ConvergenceWarning: Objective did not converge. You might want to increase the number of iterations. Duality gap: 92286151009.82379, tolerance: 265039344.74136204\n",
      "  model = cd_fast.enet_coordinate_descent_gram(\n",
      "C:\\Users\\pharr\\Anaconda\\lib\\site-packages\\sklearn\\linear_model\\_coordinate_descent.py:526: ConvergenceWarning: Objective did not converge. You might want to increase the number of iterations. Duality gap: 92739806127.10263, tolerance: 265039344.74136204\n",
      "  model = cd_fast.enet_coordinate_descent_gram(\n",
      "C:\\Users\\pharr\\Anaconda\\lib\\site-packages\\sklearn\\linear_model\\_coordinate_descent.py:526: ConvergenceWarning: Objective did not converge. You might want to increase the number of iterations. Duality gap: 93183621968.68, tolerance: 265039344.74136204\n",
      "  model = cd_fast.enet_coordinate_descent_gram(\n",
      "C:\\Users\\pharr\\Anaconda\\lib\\site-packages\\sklearn\\linear_model\\_coordinate_descent.py:526: ConvergenceWarning: Objective did not converge. You might want to increase the number of iterations. Duality gap: 94175112032.65909, tolerance: 265039344.74136204\n",
      "  model = cd_fast.enet_coordinate_descent_gram(\n",
      "C:\\Users\\pharr\\Anaconda\\lib\\site-packages\\sklearn\\linear_model\\_coordinate_descent.py:526: ConvergenceWarning: Objective did not converge. You might want to increase the number of iterations. Duality gap: 95262411790.47589, tolerance: 265039344.74136204\n",
      "  model = cd_fast.enet_coordinate_descent_gram(\n",
      "C:\\Users\\pharr\\Anaconda\\lib\\site-packages\\sklearn\\linear_model\\_coordinate_descent.py:526: ConvergenceWarning: Objective did not converge. You might want to increase the number of iterations. Duality gap: 96317670460.47812, tolerance: 265039344.74136204\n",
      "  model = cd_fast.enet_coordinate_descent_gram(\n",
      "C:\\Users\\pharr\\Anaconda\\lib\\site-packages\\sklearn\\linear_model\\_coordinate_descent.py:526: ConvergenceWarning: Objective did not converge. You might want to increase the number of iterations. Duality gap: 97342743198.275, tolerance: 265039344.74136204\n",
      "  model = cd_fast.enet_coordinate_descent_gram(\n",
      "C:\\Users\\pharr\\Anaconda\\lib\\site-packages\\sklearn\\linear_model\\_coordinate_descent.py:526: ConvergenceWarning: Objective did not converge. You might want to increase the number of iterations. Duality gap: 98339341605.46399, tolerance: 265039344.74136204\n",
      "  model = cd_fast.enet_coordinate_descent_gram(\n",
      "C:\\Users\\pharr\\Anaconda\\lib\\site-packages\\sklearn\\linear_model\\_coordinate_descent.py:526: ConvergenceWarning: Objective did not converge. You might want to increase the number of iterations. Duality gap: 99309114915.41077, tolerance: 265039344.74136204\n",
      "  model = cd_fast.enet_coordinate_descent_gram(\n",
      "C:\\Users\\pharr\\Anaconda\\lib\\site-packages\\sklearn\\linear_model\\_coordinate_descent.py:526: ConvergenceWarning: Objective did not converge. You might want to increase the number of iterations. Duality gap: 100253536054.50433, tolerance: 265039344.74136204\n",
      "  model = cd_fast.enet_coordinate_descent_gram(\n",
      "C:\\Users\\pharr\\Anaconda\\lib\\site-packages\\sklearn\\linear_model\\_coordinate_descent.py:526: ConvergenceWarning: Objective did not converge. You might want to increase the number of iterations. Duality gap: 101174008818.81079, tolerance: 265039344.74136204\n",
      "  model = cd_fast.enet_coordinate_descent_gram(\n",
      "C:\\Users\\pharr\\Anaconda\\lib\\site-packages\\sklearn\\linear_model\\_coordinate_descent.py:526: ConvergenceWarning: Objective did not converge. You might want to increase the number of iterations. Duality gap: 102071771725.83786, tolerance: 265039344.74136204\n",
      "  model = cd_fast.enet_coordinate_descent_gram(\n",
      "C:\\Users\\pharr\\Anaconda\\lib\\site-packages\\sklearn\\linear_model\\_coordinate_descent.py:526: ConvergenceWarning: Objective did not converge. You might want to increase the number of iterations. Duality gap: 102947959633.14325, tolerance: 265039344.74136204\n",
      "  model = cd_fast.enet_coordinate_descent_gram(\n",
      "C:\\Users\\pharr\\Anaconda\\lib\\site-packages\\sklearn\\linear_model\\_coordinate_descent.py:526: ConvergenceWarning: Objective did not converge. You might want to increase the number of iterations. Duality gap: 103803634190.40173, tolerance: 265039344.74136204\n",
      "  model = cd_fast.enet_coordinate_descent_gram(\n",
      "C:\\Users\\pharr\\Anaconda\\lib\\site-packages\\sklearn\\linear_model\\_coordinate_descent.py:526: ConvergenceWarning: Objective did not converge. You might want to increase the number of iterations. Duality gap: 104639740281.78796, tolerance: 265039344.74136204\n",
      "  model = cd_fast.enet_coordinate_descent_gram(\n",
      "C:\\Users\\pharr\\Anaconda\\lib\\site-packages\\sklearn\\linear_model\\_coordinate_descent.py:526: ConvergenceWarning: Objective did not converge. You might want to increase the number of iterations. Duality gap: 105457099660.41733, tolerance: 265039344.74136204\n",
      "  model = cd_fast.enet_coordinate_descent_gram(\n",
      "C:\\Users\\pharr\\Anaconda\\lib\\site-packages\\sklearn\\linear_model\\_coordinate_descent.py:526: ConvergenceWarning: Objective did not converge. You might want to increase the number of iterations. Duality gap: 106256492224.2767, tolerance: 265039344.74136204\n",
      "  model = cd_fast.enet_coordinate_descent_gram(\n",
      "C:\\Users\\pharr\\Anaconda\\lib\\site-packages\\sklearn\\linear_model\\_coordinate_descent.py:526: ConvergenceWarning: Objective did not converge. You might want to increase the number of iterations. Duality gap: 107038570497.45038, tolerance: 265039344.74136204\n",
      "  model = cd_fast.enet_coordinate_descent_gram(\n",
      "C:\\Users\\pharr\\Anaconda\\lib\\site-packages\\sklearn\\linear_model\\_coordinate_descent.py:526: ConvergenceWarning: Objective did not converge. You might want to increase the number of iterations. Duality gap: 107804001790.57663, tolerance: 265039344.74136204\n",
      "  model = cd_fast.enet_coordinate_descent_gram(\n",
      "C:\\Users\\pharr\\Anaconda\\lib\\site-packages\\sklearn\\linear_model\\_coordinate_descent.py:526: ConvergenceWarning: Objective did not converge. You might want to increase the number of iterations. Duality gap: 108553284904.36923, tolerance: 265039344.74136204\n",
      "  model = cd_fast.enet_coordinate_descent_gram(\n",
      "C:\\Users\\pharr\\Anaconda\\lib\\site-packages\\sklearn\\linear_model\\_coordinate_descent.py:526: ConvergenceWarning: Objective did not converge. You might want to increase the number of iterations. Duality gap: 109286945613.47858, tolerance: 265039344.74136204\n",
      "  model = cd_fast.enet_coordinate_descent_gram(\n",
      "C:\\Users\\pharr\\Anaconda\\lib\\site-packages\\sklearn\\linear_model\\_coordinate_descent.py:526: ConvergenceWarning: Objective did not converge. You might want to increase the number of iterations. Duality gap: 110005438532.64288, tolerance: 265039344.74136204\n",
      "  model = cd_fast.enet_coordinate_descent_gram(\n",
      "C:\\Users\\pharr\\Anaconda\\lib\\site-packages\\sklearn\\linear_model\\_coordinate_descent.py:526: ConvergenceWarning: Objective did not converge. You might want to increase the number of iterations. Duality gap: 110709184470.80313, tolerance: 265039344.74136204\n",
      "  model = cd_fast.enet_coordinate_descent_gram(\n",
      "C:\\Users\\pharr\\Anaconda\\lib\\site-packages\\sklearn\\linear_model\\_coordinate_descent.py:526: ConvergenceWarning: Objective did not converge. You might want to increase the number of iterations. Duality gap: 151914109845.1859, tolerance: 270141003.6796797\n",
      "  model = cd_fast.enet_coordinate_descent_gram(\n",
      "C:\\Users\\pharr\\Anaconda\\lib\\site-packages\\sklearn\\linear_model\\_coordinate_descent.py:526: ConvergenceWarning: Objective did not converge. You might want to increase the number of iterations. Duality gap: 149185816862.83313, tolerance: 270141003.6796797\n",
      "  model = cd_fast.enet_coordinate_descent_gram(\n",
      "C:\\Users\\pharr\\Anaconda\\lib\\site-packages\\sklearn\\linear_model\\_coordinate_descent.py:526: ConvergenceWarning: Objective did not converge. You might want to increase the number of iterations. Duality gap: 146183856204.6503, tolerance: 270141003.6796797\n",
      "  model = cd_fast.enet_coordinate_descent_gram(\n",
      "C:\\Users\\pharr\\Anaconda\\lib\\site-packages\\sklearn\\linear_model\\_coordinate_descent.py:526: ConvergenceWarning: Objective did not converge. You might want to increase the number of iterations. Duality gap: 143024408290.75247, tolerance: 270141003.6796797\n",
      "  model = cd_fast.enet_coordinate_descent_gram(\n",
      "C:\\Users\\pharr\\Anaconda\\lib\\site-packages\\sklearn\\linear_model\\_coordinate_descent.py:526: ConvergenceWarning: Objective did not converge. You might want to increase the number of iterations. Duality gap: 139348761387.33383, tolerance: 270141003.6796797\n",
      "  model = cd_fast.enet_coordinate_descent_gram(\n",
      "C:\\Users\\pharr\\Anaconda\\lib\\site-packages\\sklearn\\linear_model\\_coordinate_descent.py:526: ConvergenceWarning: Objective did not converge. You might want to increase the number of iterations. Duality gap: 138267997658.44928, tolerance: 270141003.6796797\n",
      "  model = cd_fast.enet_coordinate_descent_gram(\n",
      "C:\\Users\\pharr\\Anaconda\\lib\\site-packages\\sklearn\\linear_model\\_coordinate_descent.py:526: ConvergenceWarning: Objective did not converge. You might want to increase the number of iterations. Duality gap: 136507911022.82455, tolerance: 270141003.6796797\n",
      "  model = cd_fast.enet_coordinate_descent_gram(\n",
      "C:\\Users\\pharr\\Anaconda\\lib\\site-packages\\sklearn\\linear_model\\_coordinate_descent.py:526: ConvergenceWarning: Objective did not converge. You might want to increase the number of iterations. Duality gap: 134639306577.54144, tolerance: 270141003.6796797\n",
      "  model = cd_fast.enet_coordinate_descent_gram(\n",
      "C:\\Users\\pharr\\Anaconda\\lib\\site-packages\\sklearn\\linear_model\\_coordinate_descent.py:526: ConvergenceWarning: Objective did not converge. You might want to increase the number of iterations. Duality gap: 132401488038.7219, tolerance: 270141003.6796797\n",
      "  model = cd_fast.enet_coordinate_descent_gram(\n",
      "C:\\Users\\pharr\\Anaconda\\lib\\site-packages\\sklearn\\linear_model\\_coordinate_descent.py:526: ConvergenceWarning: Objective did not converge. You might want to increase the number of iterations. Duality gap: 129743491913.72797, tolerance: 270141003.6796797\n",
      "  model = cd_fast.enet_coordinate_descent_gram(\n",
      "C:\\Users\\pharr\\Anaconda\\lib\\site-packages\\sklearn\\linear_model\\_coordinate_descent.py:526: ConvergenceWarning: Objective did not converge. You might want to increase the number of iterations. Duality gap: 126986283334.663, tolerance: 270141003.6796797\n",
      "  model = cd_fast.enet_coordinate_descent_gram(\n",
      "C:\\Users\\pharr\\Anaconda\\lib\\site-packages\\sklearn\\linear_model\\_coordinate_descent.py:526: ConvergenceWarning: Objective did not converge. You might want to increase the number of iterations. Duality gap: 124902469899.81253, tolerance: 270141003.6796797\n",
      "  model = cd_fast.enet_coordinate_descent_gram(\n",
      "C:\\Users\\pharr\\Anaconda\\lib\\site-packages\\sklearn\\linear_model\\_coordinate_descent.py:526: ConvergenceWarning: Objective did not converge. You might want to increase the number of iterations. Duality gap: 122586186656.78342, tolerance: 270141003.6796797\n",
      "  model = cd_fast.enet_coordinate_descent_gram(\n",
      "C:\\Users\\pharr\\Anaconda\\lib\\site-packages\\sklearn\\linear_model\\_coordinate_descent.py:526: ConvergenceWarning: Objective did not converge. You might want to increase the number of iterations. Duality gap: 116234291379.70279, tolerance: 270141003.6796797\n",
      "  model = cd_fast.enet_coordinate_descent_gram(\n",
      "C:\\Users\\pharr\\Anaconda\\lib\\site-packages\\sklearn\\linear_model\\_coordinate_descent.py:526: ConvergenceWarning: Objective did not converge. You might want to increase the number of iterations. Duality gap: 113296952008.5015, tolerance: 270141003.6796797\n",
      "  model = cd_fast.enet_coordinate_descent_gram(\n",
      "C:\\Users\\pharr\\Anaconda\\lib\\site-packages\\sklearn\\linear_model\\_coordinate_descent.py:526: ConvergenceWarning: Objective did not converge. You might want to increase the number of iterations. Duality gap: 116325836173.63504, tolerance: 270141003.6796797\n",
      "  model = cd_fast.enet_coordinate_descent_gram(\n",
      "C:\\Users\\pharr\\Anaconda\\lib\\site-packages\\sklearn\\linear_model\\_coordinate_descent.py:526: ConvergenceWarning: Objective did not converge. You might want to increase the number of iterations. Duality gap: 113137053188.29803, tolerance: 270141003.6796797\n",
      "  model = cd_fast.enet_coordinate_descent_gram(\n",
      "C:\\Users\\pharr\\Anaconda\\lib\\site-packages\\sklearn\\linear_model\\_coordinate_descent.py:526: ConvergenceWarning: Objective did not converge. You might want to increase the number of iterations. Duality gap: 111432852863.00189, tolerance: 270141003.6796797\n",
      "  model = cd_fast.enet_coordinate_descent_gram(\n",
      "C:\\Users\\pharr\\Anaconda\\lib\\site-packages\\sklearn\\linear_model\\_coordinate_descent.py:526: ConvergenceWarning: Objective did not converge. You might want to increase the number of iterations. Duality gap: 110456424016.26181, tolerance: 270141003.6796797\n",
      "  model = cd_fast.enet_coordinate_descent_gram(\n",
      "C:\\Users\\pharr\\Anaconda\\lib\\site-packages\\sklearn\\linear_model\\_coordinate_descent.py:526: ConvergenceWarning: Objective did not converge. You might want to increase the number of iterations. Duality gap: 109876862186.91138, tolerance: 270141003.6796797\n",
      "  model = cd_fast.enet_coordinate_descent_gram(\n",
      "C:\\Users\\pharr\\Anaconda\\lib\\site-packages\\sklearn\\linear_model\\_coordinate_descent.py:526: ConvergenceWarning: Objective did not converge. You might want to increase the number of iterations. Duality gap: 109505506219.81781, tolerance: 270141003.6796797\n",
      "  model = cd_fast.enet_coordinate_descent_gram(\n",
      "C:\\Users\\pharr\\Anaconda\\lib\\site-packages\\sklearn\\linear_model\\_coordinate_descent.py:526: ConvergenceWarning: Objective did not converge. You might want to increase the number of iterations. Duality gap: 109240281720.53165, tolerance: 270141003.6796797\n",
      "  model = cd_fast.enet_coordinate_descent_gram(\n",
      "C:\\Users\\pharr\\Anaconda\\lib\\site-packages\\sklearn\\linear_model\\_coordinate_descent.py:526: ConvergenceWarning: Objective did not converge. You might want to increase the number of iterations. Duality gap: 109027720238.34009, tolerance: 270141003.6796797\n",
      "  model = cd_fast.enet_coordinate_descent_gram(\n",
      "C:\\Users\\pharr\\Anaconda\\lib\\site-packages\\sklearn\\linear_model\\_coordinate_descent.py:526: ConvergenceWarning: Objective did not converge. You might want to increase the number of iterations. Duality gap: 108840784516.86316, tolerance: 270141003.6796797\n",
      "  model = cd_fast.enet_coordinate_descent_gram(\n",
      "C:\\Users\\pharr\\Anaconda\\lib\\site-packages\\sklearn\\linear_model\\_coordinate_descent.py:526: ConvergenceWarning: Objective did not converge. You might want to increase the number of iterations. Duality gap: 108666693895.45416, tolerance: 270141003.6796797\n",
      "  model = cd_fast.enet_coordinate_descent_gram(\n",
      "C:\\Users\\pharr\\Anaconda\\lib\\site-packages\\sklearn\\linear_model\\_coordinate_descent.py:526: ConvergenceWarning: Objective did not converge. You might want to increase the number of iterations. Duality gap: 108500375872.79697, tolerance: 270141003.6796797\n",
      "  model = cd_fast.enet_coordinate_descent_gram(\n",
      "C:\\Users\\pharr\\Anaconda\\lib\\site-packages\\sklearn\\linear_model\\_coordinate_descent.py:526: ConvergenceWarning: Objective did not converge. You might want to increase the number of iterations. Duality gap: 108340933936.4773, tolerance: 270141003.6796797\n",
      "  model = cd_fast.enet_coordinate_descent_gram(\n",
      "C:\\Users\\pharr\\Anaconda\\lib\\site-packages\\sklearn\\linear_model\\_coordinate_descent.py:526: ConvergenceWarning: Objective did not converge. You might want to increase the number of iterations. Duality gap: 108189702557.39883, tolerance: 270141003.6796797\n",
      "  model = cd_fast.enet_coordinate_descent_gram(\n",
      "C:\\Users\\pharr\\Anaconda\\lib\\site-packages\\sklearn\\linear_model\\_coordinate_descent.py:526: ConvergenceWarning: Objective did not converge. You might want to increase the number of iterations. Duality gap: 108049140400.8804, tolerance: 270141003.6796797\n",
      "  model = cd_fast.enet_coordinate_descent_gram(\n",
      "C:\\Users\\pharr\\Anaconda\\lib\\site-packages\\sklearn\\linear_model\\_coordinate_descent.py:526: ConvergenceWarning: Objective did not converge. You might want to increase the number of iterations. Duality gap: 107922171310.89255, tolerance: 270141003.6796797\n",
      "  model = cd_fast.enet_coordinate_descent_gram(\n",
      "C:\\Users\\pharr\\Anaconda\\lib\\site-packages\\sklearn\\linear_model\\_coordinate_descent.py:526: ConvergenceWarning: Objective did not converge. You might want to increase the number of iterations. Duality gap: 107811776625.9123, tolerance: 270141003.6796797\n",
      "  model = cd_fast.enet_coordinate_descent_gram(\n",
      "C:\\Users\\pharr\\Anaconda\\lib\\site-packages\\sklearn\\linear_model\\_coordinate_descent.py:526: ConvergenceWarning: Objective did not converge. You might want to increase the number of iterations. Duality gap: 107720728580.15091, tolerance: 270141003.6796797\n",
      "  model = cd_fast.enet_coordinate_descent_gram(\n",
      "C:\\Users\\pharr\\Anaconda\\lib\\site-packages\\sklearn\\linear_model\\_coordinate_descent.py:526: ConvergenceWarning: Objective did not converge. You might want to increase the number of iterations. Duality gap: 107651418767.36334, tolerance: 270141003.6796797\n",
      "  model = cd_fast.enet_coordinate_descent_gram(\n",
      "C:\\Users\\pharr\\Anaconda\\lib\\site-packages\\sklearn\\linear_model\\_coordinate_descent.py:526: ConvergenceWarning: Objective did not converge. You might want to increase the number of iterations. Duality gap: 107605746983.25113, tolerance: 270141003.6796797\n",
      "  model = cd_fast.enet_coordinate_descent_gram(\n",
      "C:\\Users\\pharr\\Anaconda\\lib\\site-packages\\sklearn\\linear_model\\_coordinate_descent.py:526: ConvergenceWarning: Objective did not converge. You might want to increase the number of iterations. Duality gap: 107450547058.23795, tolerance: 270141003.6796797\n",
      "  model = cd_fast.enet_coordinate_descent_gram(\n",
      "C:\\Users\\pharr\\Anaconda\\lib\\site-packages\\sklearn\\linear_model\\_coordinate_descent.py:526: ConvergenceWarning: Objective did not converge. You might want to increase the number of iterations. Duality gap: 107450668463.38797, tolerance: 270141003.6796797\n",
      "  model = cd_fast.enet_coordinate_descent_gram(\n",
      "C:\\Users\\pharr\\Anaconda\\lib\\site-packages\\sklearn\\linear_model\\_coordinate_descent.py:526: ConvergenceWarning: Objective did not converge. You might want to increase the number of iterations. Duality gap: 107468312323.53381, tolerance: 270141003.6796797\n",
      "  model = cd_fast.enet_coordinate_descent_gram(\n",
      "C:\\Users\\pharr\\Anaconda\\lib\\site-packages\\sklearn\\linear_model\\_coordinate_descent.py:526: ConvergenceWarning: Objective did not converge. You might want to increase the number of iterations. Duality gap: 107513942534.57712, tolerance: 270141003.6796797\n",
      "  model = cd_fast.enet_coordinate_descent_gram(\n",
      "C:\\Users\\pharr\\Anaconda\\lib\\site-packages\\sklearn\\linear_model\\_coordinate_descent.py:526: ConvergenceWarning: Objective did not converge. You might want to increase the number of iterations. Duality gap: 107589355834.05328, tolerance: 270141003.6796797\n",
      "  model = cd_fast.enet_coordinate_descent_gram(\n",
      "C:\\Users\\pharr\\Anaconda\\lib\\site-packages\\sklearn\\linear_model\\_coordinate_descent.py:526: ConvergenceWarning: Objective did not converge. You might want to increase the number of iterations. Duality gap: 107694011378.10062, tolerance: 270141003.6796797\n",
      "  model = cd_fast.enet_coordinate_descent_gram(\n",
      "C:\\Users\\pharr\\Anaconda\\lib\\site-packages\\sklearn\\linear_model\\_coordinate_descent.py:526: ConvergenceWarning: Objective did not converge. You might want to increase the number of iterations. Duality gap: 107826053223.84885, tolerance: 270141003.6796797\n",
      "  model = cd_fast.enet_coordinate_descent_gram(\n",
      "C:\\Users\\pharr\\Anaconda\\lib\\site-packages\\sklearn\\linear_model\\_coordinate_descent.py:526: ConvergenceWarning: Objective did not converge. You might want to increase the number of iterations. Duality gap: 107982875203.08588, tolerance: 270141003.6796797\n",
      "  model = cd_fast.enet_coordinate_descent_gram(\n",
      "C:\\Users\\pharr\\Anaconda\\lib\\site-packages\\sklearn\\linear_model\\_coordinate_descent.py:526: ConvergenceWarning: Objective did not converge. You might want to increase the number of iterations. Duality gap: 108161439904.79276, tolerance: 270141003.6796797\n",
      "  model = cd_fast.enet_coordinate_descent_gram(\n",
      "C:\\Users\\pharr\\Anaconda\\lib\\site-packages\\sklearn\\linear_model\\_coordinate_descent.py:526: ConvergenceWarning: Objective did not converge. You might want to increase the number of iterations. Duality gap: 108358486598.94159, tolerance: 270141003.6796797\n",
      "  model = cd_fast.enet_coordinate_descent_gram(\n",
      "C:\\Users\\pharr\\Anaconda\\lib\\site-packages\\sklearn\\linear_model\\_coordinate_descent.py:526: ConvergenceWarning: Objective did not converge. You might want to increase the number of iterations. Duality gap: 108570665912.91806, tolerance: 270141003.6796797\n",
      "  model = cd_fast.enet_coordinate_descent_gram(\n",
      "C:\\Users\\pharr\\Anaconda\\lib\\site-packages\\sklearn\\linear_model\\_coordinate_descent.py:526: ConvergenceWarning: Objective did not converge. You might want to increase the number of iterations. Duality gap: 108794645079.72525, tolerance: 270141003.6796797\n",
      "  model = cd_fast.enet_coordinate_descent_gram(\n",
      "C:\\Users\\pharr\\Anaconda\\lib\\site-packages\\sklearn\\linear_model\\_coordinate_descent.py:526: ConvergenceWarning: Objective did not converge. You might want to increase the number of iterations. Duality gap: 109027179440.01218, tolerance: 270141003.6796797\n",
      "  model = cd_fast.enet_coordinate_descent_gram(\n",
      "C:\\Users\\pharr\\Anaconda\\lib\\site-packages\\sklearn\\linear_model\\_coordinate_descent.py:526: ConvergenceWarning: Objective did not converge. You might want to increase the number of iterations. Duality gap: 109265171726.1196, tolerance: 270141003.6796797\n",
      "  model = cd_fast.enet_coordinate_descent_gram(\n",
      "C:\\Users\\pharr\\Anaconda\\lib\\site-packages\\sklearn\\linear_model\\_coordinate_descent.py:526: ConvergenceWarning: Objective did not converge. You might want to increase the number of iterations. Duality gap: 109505717854.06464, tolerance: 270141003.6796797\n",
      "  model = cd_fast.enet_coordinate_descent_gram(\n",
      "C:\\Users\\pharr\\Anaconda\\lib\\site-packages\\sklearn\\linear_model\\_coordinate_descent.py:526: ConvergenceWarning: Objective did not converge. You might want to increase the number of iterations. Duality gap: 109746138062.59082, tolerance: 270141003.6796797\n",
      "  model = cd_fast.enet_coordinate_descent_gram(\n",
      "C:\\Users\\pharr\\Anaconda\\lib\\site-packages\\sklearn\\linear_model\\_coordinate_descent.py:526: ConvergenceWarning: Objective did not converge. You might want to increase the number of iterations. Duality gap: 109983994794.89633, tolerance: 270141003.6796797\n",
      "  model = cd_fast.enet_coordinate_descent_gram(\n",
      "C:\\Users\\pharr\\Anaconda\\lib\\site-packages\\sklearn\\linear_model\\_coordinate_descent.py:526: ConvergenceWarning: Objective did not converge. You might want to increase the number of iterations. Duality gap: 110217109368.12213, tolerance: 270141003.6796797\n",
      "  model = cd_fast.enet_coordinate_descent_gram(\n",
      "C:\\Users\\pharr\\Anaconda\\lib\\site-packages\\sklearn\\linear_model\\_coordinate_descent.py:526: ConvergenceWarning: Objective did not converge. You might want to increase the number of iterations. Duality gap: 110443562198.70746, tolerance: 270141003.6796797\n",
      "  model = cd_fast.enet_coordinate_descent_gram(\n",
      "C:\\Users\\pharr\\Anaconda\\lib\\site-packages\\sklearn\\linear_model\\_coordinate_descent.py:526: ConvergenceWarning: Objective did not converge. You might want to increase the number of iterations. Duality gap: 110661700332.21664, tolerance: 270141003.6796797\n",
      "  model = cd_fast.enet_coordinate_descent_gram(\n",
      "C:\\Users\\pharr\\Anaconda\\lib\\site-packages\\sklearn\\linear_model\\_coordinate_descent.py:526: ConvergenceWarning: Objective did not converge. You might want to increase the number of iterations. Duality gap: 110870119778.24915, tolerance: 270141003.6796797\n",
      "  model = cd_fast.enet_coordinate_descent_gram(\n",
      "C:\\Users\\pharr\\Anaconda\\lib\\site-packages\\sklearn\\linear_model\\_coordinate_descent.py:526: ConvergenceWarning: Objective did not converge. You might want to increase the number of iterations. Duality gap: 111067659137.1835, tolerance: 270141003.6796797\n",
      "  model = cd_fast.enet_coordinate_descent_gram(\n",
      "C:\\Users\\pharr\\Anaconda\\lib\\site-packages\\sklearn\\linear_model\\_coordinate_descent.py:526: ConvergenceWarning: Objective did not converge. You might want to increase the number of iterations. Duality gap: 111253394750.03625, tolerance: 270141003.6796797\n",
      "  model = cd_fast.enet_coordinate_descent_gram(\n",
      "C:\\Users\\pharr\\Anaconda\\lib\\site-packages\\sklearn\\linear_model\\_coordinate_descent.py:526: ConvergenceWarning: Objective did not converge. You might want to increase the number of iterations. Duality gap: 111426611625.36072, tolerance: 270141003.6796797\n",
      "  model = cd_fast.enet_coordinate_descent_gram(\n",
      "C:\\Users\\pharr\\Anaconda\\lib\\site-packages\\sklearn\\linear_model\\_coordinate_descent.py:526: ConvergenceWarning: Objective did not converge. You might want to increase the number of iterations. Duality gap: 111586798328.71283, tolerance: 270141003.6796797\n",
      "  model = cd_fast.enet_coordinate_descent_gram(\n",
      "C:\\Users\\pharr\\Anaconda\\lib\\site-packages\\sklearn\\linear_model\\_coordinate_descent.py:526: ConvergenceWarning: Objective did not converge. You might want to increase the number of iterations. Duality gap: 111733624338.7251, tolerance: 270141003.6796797\n",
      "  model = cd_fast.enet_coordinate_descent_gram(\n",
      "C:\\Users\\pharr\\Anaconda\\lib\\site-packages\\sklearn\\linear_model\\_coordinate_descent.py:526: ConvergenceWarning: Objective did not converge. You might want to increase the number of iterations. Duality gap: 111866918104.02881, tolerance: 270141003.6796797\n",
      "  model = cd_fast.enet_coordinate_descent_gram(\n",
      "C:\\Users\\pharr\\Anaconda\\lib\\site-packages\\sklearn\\linear_model\\_coordinate_descent.py:526: ConvergenceWarning: Objective did not converge. You might want to increase the number of iterations. Duality gap: 111986665500.76614, tolerance: 270141003.6796797\n",
      "  model = cd_fast.enet_coordinate_descent_gram(\n",
      "C:\\Users\\pharr\\Anaconda\\lib\\site-packages\\sklearn\\linear_model\\_coordinate_descent.py:526: ConvergenceWarning: Objective did not converge. You might want to increase the number of iterations. Duality gap: 112092970566.1109, tolerance: 270141003.6796797\n",
      "  model = cd_fast.enet_coordinate_descent_gram(\n",
      "C:\\Users\\pharr\\Anaconda\\lib\\site-packages\\sklearn\\linear_model\\_coordinate_descent.py:526: ConvergenceWarning: Objective did not converge. You might want to increase the number of iterations. Duality gap: 112186058696.02676, tolerance: 270141003.6796797\n",
      "  model = cd_fast.enet_coordinate_descent_gram(\n",
      "C:\\Users\\pharr\\Anaconda\\lib\\site-packages\\sklearn\\linear_model\\_coordinate_descent.py:526: ConvergenceWarning: Objective did not converge. You might want to increase the number of iterations. Duality gap: 112266250451.5438, tolerance: 270141003.6796797\n",
      "  model = cd_fast.enet_coordinate_descent_gram(\n",
      "C:\\Users\\pharr\\Anaconda\\lib\\site-packages\\sklearn\\linear_model\\_coordinate_descent.py:526: ConvergenceWarning: Objective did not converge. You might want to increase the number of iterations. Duality gap: 112333951169.77878, tolerance: 270141003.6796797\n",
      "  model = cd_fast.enet_coordinate_descent_gram(\n",
      "C:\\Users\\pharr\\Anaconda\\lib\\site-packages\\sklearn\\linear_model\\_coordinate_descent.py:526: ConvergenceWarning: Objective did not converge. You might want to increase the number of iterations. Duality gap: 112389635500.957, tolerance: 270141003.6796797\n",
      "  model = cd_fast.enet_coordinate_descent_gram(\n",
      "C:\\Users\\pharr\\Anaconda\\lib\\site-packages\\sklearn\\linear_model\\_coordinate_descent.py:526: ConvergenceWarning: Objective did not converge. You might want to increase the number of iterations. Duality gap: 112433828971.5055, tolerance: 270141003.6796797\n",
      "  model = cd_fast.enet_coordinate_descent_gram(\n",
      "C:\\Users\\pharr\\Anaconda\\lib\\site-packages\\sklearn\\linear_model\\_coordinate_descent.py:526: ConvergenceWarning: Objective did not converge. You might want to increase the number of iterations. Duality gap: 112467108045.89929, tolerance: 270141003.6796797\n",
      "  model = cd_fast.enet_coordinate_descent_gram(\n",
      "C:\\Users\\pharr\\Anaconda\\lib\\site-packages\\sklearn\\linear_model\\_coordinate_descent.py:526: ConvergenceWarning: Objective did not converge. You might want to increase the number of iterations. Duality gap: 112490078441.93524, tolerance: 270141003.6796797\n",
      "  model = cd_fast.enet_coordinate_descent_gram(\n",
      "C:\\Users\\pharr\\Anaconda\\lib\\site-packages\\sklearn\\linear_model\\_coordinate_descent.py:526: ConvergenceWarning: Objective did not converge. You might want to increase the number of iterations. Duality gap: 112503377067.8169, tolerance: 270141003.6796797\n",
      "  model = cd_fast.enet_coordinate_descent_gram(\n",
      "C:\\Users\\pharr\\Anaconda\\lib\\site-packages\\sklearn\\linear_model\\_coordinate_descent.py:526: ConvergenceWarning: Objective did not converge. You might want to increase the number of iterations. Duality gap: 112507641893.14514, tolerance: 270141003.6796797\n",
      "  model = cd_fast.enet_coordinate_descent_gram(\n",
      "C:\\Users\\pharr\\Anaconda\\lib\\site-packages\\sklearn\\linear_model\\_coordinate_descent.py:526: ConvergenceWarning: Objective did not converge. You might want to increase the number of iterations. Duality gap: 112503533027.68369, tolerance: 270141003.6796797\n",
      "  model = cd_fast.enet_coordinate_descent_gram(\n",
      "C:\\Users\\pharr\\Anaconda\\lib\\site-packages\\sklearn\\linear_model\\_coordinate_descent.py:526: ConvergenceWarning: Objective did not converge. You might want to increase the number of iterations. Duality gap: 112491681900.52774, tolerance: 270141003.6796797\n",
      "  model = cd_fast.enet_coordinate_descent_gram(\n",
      "C:\\Users\\pharr\\Anaconda\\lib\\site-packages\\sklearn\\linear_model\\_coordinate_descent.py:526: ConvergenceWarning: Objective did not converge. You might want to increase the number of iterations. Duality gap: 112472738371.71063, tolerance: 270141003.6796797\n",
      "  model = cd_fast.enet_coordinate_descent_gram(\n",
      "C:\\Users\\pharr\\Anaconda\\lib\\site-packages\\sklearn\\linear_model\\_coordinate_descent.py:526: ConvergenceWarning: Objective did not converge. You might want to increase the number of iterations. Duality gap: 112447331080.3013, tolerance: 270141003.6796797\n",
      "  model = cd_fast.enet_coordinate_descent_gram(\n",
      "C:\\Users\\pharr\\Anaconda\\lib\\site-packages\\sklearn\\linear_model\\_coordinate_descent.py:526: ConvergenceWarning: Objective did not converge. You might want to increase the number of iterations. Duality gap: 112416064295.04709, tolerance: 270141003.6796797\n",
      "  model = cd_fast.enet_coordinate_descent_gram(\n",
      "C:\\Users\\pharr\\Anaconda\\lib\\site-packages\\sklearn\\linear_model\\_coordinate_descent.py:526: ConvergenceWarning: Objective did not converge. You might want to increase the number of iterations. Duality gap: 112379503889.68774, tolerance: 270141003.6796797\n",
      "  model = cd_fast.enet_coordinate_descent_gram(\n",
      "C:\\Users\\pharr\\Anaconda\\lib\\site-packages\\sklearn\\linear_model\\_coordinate_descent.py:526: ConvergenceWarning: Objective did not converge. You might want to increase the number of iterations. Duality gap: 112338222528.5657, tolerance: 270141003.6796797\n",
      "  model = cd_fast.enet_coordinate_descent_gram(\n",
      "C:\\Users\\pharr\\Anaconda\\lib\\site-packages\\sklearn\\linear_model\\_coordinate_descent.py:526: ConvergenceWarning: Objective did not converge. You might want to increase the number of iterations. Duality gap: 112292738299.03339, tolerance: 270141003.6796797\n",
      "  model = cd_fast.enet_coordinate_descent_gram(\n",
      "C:\\Users\\pharr\\Anaconda\\lib\\site-packages\\sklearn\\linear_model\\_coordinate_descent.py:526: ConvergenceWarning: Objective did not converge. You might want to increase the number of iterations. Duality gap: 112243525988.50159, tolerance: 270141003.6796797\n",
      "  model = cd_fast.enet_coordinate_descent_gram(\n",
      "C:\\Users\\pharr\\Anaconda\\lib\\site-packages\\sklearn\\linear_model\\_coordinate_descent.py:526: ConvergenceWarning: Objective did not converge. You might want to increase the number of iterations. Duality gap: 112191052578.65955, tolerance: 270141003.6796797\n",
      "  model = cd_fast.enet_coordinate_descent_gram(\n",
      "C:\\Users\\pharr\\Anaconda\\lib\\site-packages\\sklearn\\linear_model\\_coordinate_descent.py:526: ConvergenceWarning: Objective did not converge. You might want to increase the number of iterations. Duality gap: 112135733637.38464, tolerance: 270141003.6796797\n",
      "  model = cd_fast.enet_coordinate_descent_gram(\n",
      "C:\\Users\\pharr\\Anaconda\\lib\\site-packages\\sklearn\\linear_model\\_coordinate_descent.py:526: ConvergenceWarning: Objective did not converge. You might want to increase the number of iterations. Duality gap: 112077952380.8876, tolerance: 270141003.6796797\n",
      "  model = cd_fast.enet_coordinate_descent_gram(\n",
      "C:\\Users\\pharr\\Anaconda\\lib\\site-packages\\sklearn\\linear_model\\_coordinate_descent.py:526: ConvergenceWarning: Objective did not converge. You might want to increase the number of iterations. Duality gap: 112018042194.58401, tolerance: 270141003.6796797\n",
      "  model = cd_fast.enet_coordinate_descent_gram(\n",
      "C:\\Users\\pharr\\Anaconda\\lib\\site-packages\\sklearn\\linear_model\\_coordinate_descent.py:526: ConvergenceWarning: Objective did not converge. You might want to increase the number of iterations. Duality gap: 111956325720.37195, tolerance: 270141003.6796797\n",
      "  model = cd_fast.enet_coordinate_descent_gram(\n",
      "C:\\Users\\pharr\\Anaconda\\lib\\site-packages\\sklearn\\linear_model\\_coordinate_descent.py:526: ConvergenceWarning: Objective did not converge. You might want to increase the number of iterations. Duality gap: 111893058382.65338, tolerance: 270141003.6796797\n",
      "  model = cd_fast.enet_coordinate_descent_gram(\n",
      "C:\\Users\\pharr\\Anaconda\\lib\\site-packages\\sklearn\\linear_model\\_coordinate_descent.py:526: ConvergenceWarning: Objective did not converge. You might want to increase the number of iterations. Duality gap: 111828483265.21136, tolerance: 270141003.6796797\n",
      "  model = cd_fast.enet_coordinate_descent_gram(\n",
      "C:\\Users\\pharr\\Anaconda\\lib\\site-packages\\sklearn\\linear_model\\_coordinate_descent.py:526: ConvergenceWarning: Objective did not converge. You might want to increase the number of iterations. Duality gap: 111762789807.67776, tolerance: 270141003.6796797\n",
      "  model = cd_fast.enet_coordinate_descent_gram(\n",
      "C:\\Users\\pharr\\Anaconda\\lib\\site-packages\\sklearn\\linear_model\\_coordinate_descent.py:526: ConvergenceWarning: Objective did not converge. You might want to increase the number of iterations. Duality gap: 111696160438.96158, tolerance: 270141003.6796797\n",
      "  model = cd_fast.enet_coordinate_descent_gram(\n",
      "C:\\Users\\pharr\\Anaconda\\lib\\site-packages\\sklearn\\linear_model\\_coordinate_descent.py:526: ConvergenceWarning: Objective did not converge. You might want to increase the number of iterations. Duality gap: 111628761824.19711, tolerance: 270141003.6796797\n",
      "  model = cd_fast.enet_coordinate_descent_gram(\n",
      "C:\\Users\\pharr\\Anaconda\\lib\\site-packages\\sklearn\\linear_model\\_coordinate_descent.py:526: ConvergenceWarning: Objective did not converge. You might want to increase the number of iterations. Duality gap: 111560661234.0274, tolerance: 270141003.6796797\n",
      "  model = cd_fast.enet_coordinate_descent_gram(\n",
      "C:\\Users\\pharr\\Anaconda\\lib\\site-packages\\sklearn\\linear_model\\_coordinate_descent.py:526: ConvergenceWarning: Objective did not converge. You might want to increase the number of iterations. Duality gap: 111491967115.93506, tolerance: 270141003.6796797\n",
      "  model = cd_fast.enet_coordinate_descent_gram(\n",
      "C:\\Users\\pharr\\Anaconda\\lib\\site-packages\\sklearn\\linear_model\\_coordinate_descent.py:526: ConvergenceWarning: Objective did not converge. You might want to increase the number of iterations. Duality gap: 111422723259.81369, tolerance: 270141003.6796797\n",
      "  model = cd_fast.enet_coordinate_descent_gram(\n",
      "C:\\Users\\pharr\\Anaconda\\lib\\site-packages\\sklearn\\linear_model\\_coordinate_descent.py:526: ConvergenceWarning: Objective did not converge. You might want to increase the number of iterations. Duality gap: 111353022372.75473, tolerance: 270141003.6796797\n",
      "  model = cd_fast.enet_coordinate_descent_gram(\n",
      "C:\\Users\\pharr\\Anaconda\\lib\\site-packages\\sklearn\\linear_model\\_coordinate_descent.py:526: ConvergenceWarning: Objective did not converge. You might want to increase the number of iterations. Duality gap: 111282841494.3237, tolerance: 270141003.6796797\n",
      "  model = cd_fast.enet_coordinate_descent_gram(\n",
      "C:\\Users\\pharr\\Anaconda\\lib\\site-packages\\sklearn\\linear_model\\_coordinate_descent.py:526: ConvergenceWarning: Objective did not converge. You might want to increase the number of iterations. Duality gap: 111212206066.9946, tolerance: 270141003.6796797\n",
      "  model = cd_fast.enet_coordinate_descent_gram(\n",
      "C:\\Users\\pharr\\Anaconda\\lib\\site-packages\\sklearn\\linear_model\\_coordinate_descent.py:526: ConvergenceWarning: Objective did not converge. You might want to increase the number of iterations. Duality gap: 111141110248.1818, tolerance: 270141003.6796797\n",
      "  model = cd_fast.enet_coordinate_descent_gram(\n",
      "C:\\Users\\pharr\\Anaconda\\lib\\site-packages\\sklearn\\linear_model\\_coordinate_descent.py:526: ConvergenceWarning: Objective did not converge. You might want to increase the number of iterations. Duality gap: 111069544157.76474, tolerance: 270141003.6796797\n",
      "  model = cd_fast.enet_coordinate_descent_gram(\n",
      "C:\\Users\\pharr\\Anaconda\\lib\\site-packages\\sklearn\\linear_model\\_coordinate_descent.py:526: ConvergenceWarning: Objective did not converge. You might want to increase the number of iterations. Duality gap: 110997450474.21362, tolerance: 270141003.6796797\n",
      "  model = cd_fast.enet_coordinate_descent_gram(\n",
      "C:\\Users\\pharr\\Anaconda\\lib\\site-packages\\sklearn\\linear_model\\_coordinate_descent.py:526: ConvergenceWarning: Objective did not converge. You might want to increase the number of iterations. Duality gap: 144075563934.9944, tolerance: 260100759.82788405\n",
      "  model = cd_fast.enet_coordinate_descent_gram(\n",
      "C:\\Users\\pharr\\Anaconda\\lib\\site-packages\\sklearn\\linear_model\\_coordinate_descent.py:526: ConvergenceWarning: Objective did not converge. You might want to increase the number of iterations. Duality gap: 141674826292.89807, tolerance: 260100759.82788405\n",
      "  model = cd_fast.enet_coordinate_descent_gram(\n",
      "C:\\Users\\pharr\\Anaconda\\lib\\site-packages\\sklearn\\linear_model\\_coordinate_descent.py:526: ConvergenceWarning: Objective did not converge. You might want to increase the number of iterations. Duality gap: 139611801883.10254, tolerance: 260100759.82788405\n",
      "  model = cd_fast.enet_coordinate_descent_gram(\n",
      "C:\\Users\\pharr\\Anaconda\\lib\\site-packages\\sklearn\\linear_model\\_coordinate_descent.py:526: ConvergenceWarning: Objective did not converge. You might want to increase the number of iterations. Duality gap: 137570871264.37396, tolerance: 260100759.82788405\n",
      "  model = cd_fast.enet_coordinate_descent_gram(\n",
      "C:\\Users\\pharr\\Anaconda\\lib\\site-packages\\sklearn\\linear_model\\_coordinate_descent.py:526: ConvergenceWarning: Objective did not converge. You might want to increase the number of iterations. Duality gap: 135412540815.86903, tolerance: 260100759.82788405\n",
      "  model = cd_fast.enet_coordinate_descent_gram(\n",
      "C:\\Users\\pharr\\Anaconda\\lib\\site-packages\\sklearn\\linear_model\\_coordinate_descent.py:526: ConvergenceWarning: Objective did not converge. You might want to increase the number of iterations. Duality gap: 133727220421.59734, tolerance: 260100759.82788405\n",
      "  model = cd_fast.enet_coordinate_descent_gram(\n",
      "C:\\Users\\pharr\\Anaconda\\lib\\site-packages\\sklearn\\linear_model\\_coordinate_descent.py:526: ConvergenceWarning: Objective did not converge. You might want to increase the number of iterations. Duality gap: 133033479918.92935, tolerance: 260100759.82788405\n",
      "  model = cd_fast.enet_coordinate_descent_gram(\n",
      "C:\\Users\\pharr\\Anaconda\\lib\\site-packages\\sklearn\\linear_model\\_coordinate_descent.py:526: ConvergenceWarning: Objective did not converge. You might want to increase the number of iterations. Duality gap: 132161642421.4539, tolerance: 260100759.82788405\n",
      "  model = cd_fast.enet_coordinate_descent_gram(\n",
      "C:\\Users\\pharr\\Anaconda\\lib\\site-packages\\sklearn\\linear_model\\_coordinate_descent.py:526: ConvergenceWarning: Objective did not converge. You might want to increase the number of iterations. Duality gap: 131153723974.33044, tolerance: 260100759.82788405\n",
      "  model = cd_fast.enet_coordinate_descent_gram(\n",
      "C:\\Users\\pharr\\Anaconda\\lib\\site-packages\\sklearn\\linear_model\\_coordinate_descent.py:526: ConvergenceWarning: Objective did not converge. You might want to increase the number of iterations. Duality gap: 130160532379.58228, tolerance: 260100759.82788405\n",
      "  model = cd_fast.enet_coordinate_descent_gram(\n",
      "C:\\Users\\pharr\\Anaconda\\lib\\site-packages\\sklearn\\linear_model\\_coordinate_descent.py:526: ConvergenceWarning: Objective did not converge. You might want to increase the number of iterations. Duality gap: 129123254420.7948, tolerance: 260100759.82788405\n",
      "  model = cd_fast.enet_coordinate_descent_gram(\n",
      "C:\\Users\\pharr\\Anaconda\\lib\\site-packages\\sklearn\\linear_model\\_coordinate_descent.py:526: ConvergenceWarning: Objective did not converge. You might want to increase the number of iterations. Duality gap: 127869874723.14221, tolerance: 260100759.82788405\n",
      "  model = cd_fast.enet_coordinate_descent_gram(\n",
      "C:\\Users\\pharr\\Anaconda\\lib\\site-packages\\sklearn\\linear_model\\_coordinate_descent.py:526: ConvergenceWarning: Objective did not converge. You might want to increase the number of iterations. Duality gap: 126096966154.4603, tolerance: 260100759.82788405\n",
      "  model = cd_fast.enet_coordinate_descent_gram(\n",
      "C:\\Users\\pharr\\Anaconda\\lib\\site-packages\\sklearn\\linear_model\\_coordinate_descent.py:526: ConvergenceWarning: Objective did not converge. You might want to increase the number of iterations. Duality gap: 123602508534.117, tolerance: 260100759.82788405\n",
      "  model = cd_fast.enet_coordinate_descent_gram(\n",
      "C:\\Users\\pharr\\Anaconda\\lib\\site-packages\\sklearn\\linear_model\\_coordinate_descent.py:526: ConvergenceWarning: Objective did not converge. You might want to increase the number of iterations. Duality gap: 121281332483.30902, tolerance: 260100759.82788405\n",
      "  model = cd_fast.enet_coordinate_descent_gram(\n",
      "C:\\Users\\pharr\\Anaconda\\lib\\site-packages\\sklearn\\linear_model\\_coordinate_descent.py:526: ConvergenceWarning: Objective did not converge. You might want to increase the number of iterations. Duality gap: 117430114508.29993, tolerance: 260100759.82788405\n",
      "  model = cd_fast.enet_coordinate_descent_gram(\n",
      "C:\\Users\\pharr\\Anaconda\\lib\\site-packages\\sklearn\\linear_model\\_coordinate_descent.py:526: ConvergenceWarning: Objective did not converge. You might want to increase the number of iterations. Duality gap: 116057257741.73697, tolerance: 260100759.82788405\n",
      "  model = cd_fast.enet_coordinate_descent_gram(\n",
      "C:\\Users\\pharr\\Anaconda\\lib\\site-packages\\sklearn\\linear_model\\_coordinate_descent.py:526: ConvergenceWarning: Objective did not converge. You might want to increase the number of iterations. Duality gap: 114876356098.21365, tolerance: 260100759.82788405\n",
      "  model = cd_fast.enet_coordinate_descent_gram(\n",
      "C:\\Users\\pharr\\Anaconda\\lib\\site-packages\\sklearn\\linear_model\\_coordinate_descent.py:526: ConvergenceWarning: Objective did not converge. You might want to increase the number of iterations. Duality gap: 113319827288.01328, tolerance: 260100759.82788405\n",
      "  model = cd_fast.enet_coordinate_descent_gram(\n",
      "C:\\Users\\pharr\\Anaconda\\lib\\site-packages\\sklearn\\linear_model\\_coordinate_descent.py:526: ConvergenceWarning: Objective did not converge. You might want to increase the number of iterations. Duality gap: 111372505736.91983, tolerance: 260100759.82788405\n",
      "  model = cd_fast.enet_coordinate_descent_gram(\n",
      "C:\\Users\\pharr\\Anaconda\\lib\\site-packages\\sklearn\\linear_model\\_coordinate_descent.py:526: ConvergenceWarning: Objective did not converge. You might want to increase the number of iterations. Duality gap: 109010772663.24014, tolerance: 260100759.82788405\n",
      "  model = cd_fast.enet_coordinate_descent_gram(\n",
      "C:\\Users\\pharr\\Anaconda\\lib\\site-packages\\sklearn\\linear_model\\_coordinate_descent.py:526: ConvergenceWarning: Objective did not converge. You might want to increase the number of iterations. Duality gap: 106190005114.249, tolerance: 260100759.82788405\n",
      "  model = cd_fast.enet_coordinate_descent_gram(\n",
      "C:\\Users\\pharr\\Anaconda\\lib\\site-packages\\sklearn\\linear_model\\_coordinate_descent.py:526: ConvergenceWarning: Objective did not converge. You might want to increase the number of iterations. Duality gap: 102847478697.11685, tolerance: 260100759.82788405\n",
      "  model = cd_fast.enet_coordinate_descent_gram(\n",
      "C:\\Users\\pharr\\Anaconda\\lib\\site-packages\\sklearn\\linear_model\\_coordinate_descent.py:526: ConvergenceWarning: Objective did not converge. You might want to increase the number of iterations. Duality gap: 98903193492.18387, tolerance: 260100759.82788405\n",
      "  model = cd_fast.enet_coordinate_descent_gram(\n",
      "C:\\Users\\pharr\\Anaconda\\lib\\site-packages\\sklearn\\linear_model\\_coordinate_descent.py:526: ConvergenceWarning: Objective did not converge. You might want to increase the number of iterations. Duality gap: 94488395323.6405, tolerance: 260100759.82788405\n",
      "  model = cd_fast.enet_coordinate_descent_gram(\n",
      "C:\\Users\\pharr\\Anaconda\\lib\\site-packages\\sklearn\\linear_model\\_coordinate_descent.py:526: ConvergenceWarning: Objective did not converge. You might want to increase the number of iterations. Duality gap: 89688886469.97186, tolerance: 260100759.82788405\n",
      "  model = cd_fast.enet_coordinate_descent_gram(\n",
      "C:\\Users\\pharr\\Anaconda\\lib\\site-packages\\sklearn\\linear_model\\_coordinate_descent.py:526: ConvergenceWarning: Objective did not converge. You might want to increase the number of iterations. Duality gap: 89984200331.75812, tolerance: 260100759.82788405\n",
      "  model = cd_fast.enet_coordinate_descent_gram(\n",
      "C:\\Users\\pharr\\Anaconda\\lib\\site-packages\\sklearn\\linear_model\\_coordinate_descent.py:526: ConvergenceWarning: Objective did not converge. You might want to increase the number of iterations. Duality gap: 90130612279.08353, tolerance: 260100759.82788405\n",
      "  model = cd_fast.enet_coordinate_descent_gram(\n",
      "C:\\Users\\pharr\\Anaconda\\lib\\site-packages\\sklearn\\linear_model\\_coordinate_descent.py:526: ConvergenceWarning: Objective did not converge. You might want to increase the number of iterations. Duality gap: 89365935195.33847, tolerance: 260100759.82788405\n",
      "  model = cd_fast.enet_coordinate_descent_gram(\n",
      "C:\\Users\\pharr\\Anaconda\\lib\\site-packages\\sklearn\\linear_model\\_coordinate_descent.py:526: ConvergenceWarning: Objective did not converge. You might want to increase the number of iterations. Duality gap: 87768973980.73038, tolerance: 260100759.82788405\n",
      "  model = cd_fast.enet_coordinate_descent_gram(\n",
      "C:\\Users\\pharr\\Anaconda\\lib\\site-packages\\sklearn\\linear_model\\_coordinate_descent.py:526: ConvergenceWarning: Objective did not converge. You might want to increase the number of iterations. Duality gap: 85350030893.27304, tolerance: 260100759.82788405\n",
      "  model = cd_fast.enet_coordinate_descent_gram(\n",
      "C:\\Users\\pharr\\Anaconda\\lib\\site-packages\\sklearn\\linear_model\\_coordinate_descent.py:526: ConvergenceWarning: Objective did not converge. You might want to increase the number of iterations. Duality gap: 82067742143.65356, tolerance: 260100759.82788405\n",
      "  model = cd_fast.enet_coordinate_descent_gram(\n",
      "C:\\Users\\pharr\\Anaconda\\lib\\site-packages\\sklearn\\linear_model\\_coordinate_descent.py:526: ConvergenceWarning: Objective did not converge. You might want to increase the number of iterations. Duality gap: 75847629470.92319, tolerance: 260100759.82788405\n",
      "  model = cd_fast.enet_coordinate_descent_gram(\n",
      "C:\\Users\\pharr\\Anaconda\\lib\\site-packages\\sklearn\\linear_model\\_coordinate_descent.py:526: ConvergenceWarning: Objective did not converge. You might want to increase the number of iterations. Duality gap: 74316380004.45132, tolerance: 260100759.82788405\n",
      "  model = cd_fast.enet_coordinate_descent_gram(\n",
      "C:\\Users\\pharr\\Anaconda\\lib\\site-packages\\sklearn\\linear_model\\_coordinate_descent.py:526: ConvergenceWarning: Objective did not converge. You might want to increase the number of iterations. Duality gap: 72398549314.87549, tolerance: 260100759.82788405\n",
      "  model = cd_fast.enet_coordinate_descent_gram(\n",
      "C:\\Users\\pharr\\Anaconda\\lib\\site-packages\\sklearn\\linear_model\\_coordinate_descent.py:526: ConvergenceWarning: Objective did not converge. You might want to increase the number of iterations. Duality gap: 70070953969.0191, tolerance: 260100759.82788405\n",
      "  model = cd_fast.enet_coordinate_descent_gram(\n",
      "C:\\Users\\pharr\\Anaconda\\lib\\site-packages\\sklearn\\linear_model\\_coordinate_descent.py:526: ConvergenceWarning: Objective did not converge. You might want to increase the number of iterations. Duality gap: 67328909289.009705, tolerance: 260100759.82788405\n",
      "  model = cd_fast.enet_coordinate_descent_gram(\n",
      "C:\\Users\\pharr\\Anaconda\\lib\\site-packages\\sklearn\\linear_model\\_coordinate_descent.py:526: ConvergenceWarning: Objective did not converge. You might want to increase the number of iterations. Duality gap: 64177502938.414856, tolerance: 260100759.82788405\n",
      "  model = cd_fast.enet_coordinate_descent_gram(\n",
      "C:\\Users\\pharr\\Anaconda\\lib\\site-packages\\sklearn\\linear_model\\_coordinate_descent.py:526: ConvergenceWarning: Objective did not converge. You might want to increase the number of iterations. Duality gap: 69393882932.61038, tolerance: 260100759.82788405\n",
      "  model = cd_fast.enet_coordinate_descent_gram(\n",
      "C:\\Users\\pharr\\Anaconda\\lib\\site-packages\\sklearn\\linear_model\\_coordinate_descent.py:526: ConvergenceWarning: Objective did not converge. You might want to increase the number of iterations. Duality gap: 75301674603.29996, tolerance: 260100759.82788405\n",
      "  model = cd_fast.enet_coordinate_descent_gram(\n",
      "C:\\Users\\pharr\\Anaconda\\lib\\site-packages\\sklearn\\linear_model\\_coordinate_descent.py:526: ConvergenceWarning: Objective did not converge. You might want to increase the number of iterations. Duality gap: 80250678518.27798, tolerance: 260100759.82788405\n",
      "  model = cd_fast.enet_coordinate_descent_gram(\n",
      "C:\\Users\\pharr\\Anaconda\\lib\\site-packages\\sklearn\\linear_model\\_coordinate_descent.py:526: ConvergenceWarning: Objective did not converge. You might want to increase the number of iterations. Duality gap: 84412840637.55106, tolerance: 260100759.82788405\n",
      "  model = cd_fast.enet_coordinate_descent_gram(\n",
      "C:\\Users\\pharr\\Anaconda\\lib\\site-packages\\sklearn\\linear_model\\_coordinate_descent.py:526: ConvergenceWarning: Objective did not converge. You might want to increase the number of iterations. Duality gap: 87927889865.26318, tolerance: 260100759.82788405\n",
      "  model = cd_fast.enet_coordinate_descent_gram(\n",
      "C:\\Users\\pharr\\Anaconda\\lib\\site-packages\\sklearn\\linear_model\\_coordinate_descent.py:526: ConvergenceWarning: Objective did not converge. You might want to increase the number of iterations. Duality gap: 90908192082.9414, tolerance: 260100759.82788405\n",
      "  model = cd_fast.enet_coordinate_descent_gram(\n",
      "C:\\Users\\pharr\\Anaconda\\lib\\site-packages\\sklearn\\linear_model\\_coordinate_descent.py:526: ConvergenceWarning: Objective did not converge. You might want to increase the number of iterations. Duality gap: 93444026224.7846, tolerance: 260100759.82788405\n",
      "  model = cd_fast.enet_coordinate_descent_gram(\n",
      "C:\\Users\\pharr\\Anaconda\\lib\\site-packages\\sklearn\\linear_model\\_coordinate_descent.py:526: ConvergenceWarning: Objective did not converge. You might want to increase the number of iterations. Duality gap: 95608184418.8334, tolerance: 260100759.82788405\n",
      "  model = cd_fast.enet_coordinate_descent_gram(\n",
      "C:\\Users\\pharr\\Anaconda\\lib\\site-packages\\sklearn\\linear_model\\_coordinate_descent.py:526: ConvergenceWarning: Objective did not converge. You might want to increase the number of iterations. Duality gap: 97706978776.89691, tolerance: 260100759.82788405\n",
      "  model = cd_fast.enet_coordinate_descent_gram(\n",
      "C:\\Users\\pharr\\Anaconda\\lib\\site-packages\\sklearn\\linear_model\\_coordinate_descent.py:526: ConvergenceWarning: Objective did not converge. You might want to increase the number of iterations. Duality gap: 99660711052.54388, tolerance: 260100759.82788405\n",
      "  model = cd_fast.enet_coordinate_descent_gram(\n",
      "C:\\Users\\pharr\\Anaconda\\lib\\site-packages\\sklearn\\linear_model\\_coordinate_descent.py:526: ConvergenceWarning: Objective did not converge. You might want to increase the number of iterations. Duality gap: 101383194195.75943, tolerance: 260100759.82788405\n",
      "  model = cd_fast.enet_coordinate_descent_gram(\n",
      "C:\\Users\\pharr\\Anaconda\\lib\\site-packages\\sklearn\\linear_model\\_coordinate_descent.py:526: ConvergenceWarning: Objective did not converge. You might want to increase the number of iterations. Duality gap: 103291328004.29715, tolerance: 260100759.82788405\n",
      "  model = cd_fast.enet_coordinate_descent_gram(\n",
      "C:\\Users\\pharr\\Anaconda\\lib\\site-packages\\sklearn\\linear_model\\_coordinate_descent.py:526: ConvergenceWarning: Objective did not converge. You might want to increase the number of iterations. Duality gap: 104730564712.63086, tolerance: 260100759.82788405\n",
      "  model = cd_fast.enet_coordinate_descent_gram(\n",
      "C:\\Users\\pharr\\Anaconda\\lib\\site-packages\\sklearn\\linear_model\\_coordinate_descent.py:526: ConvergenceWarning: Objective did not converge. You might want to increase the number of iterations. Duality gap: 105850827415.4263, tolerance: 260100759.82788405\n",
      "  model = cd_fast.enet_coordinate_descent_gram(\n",
      "C:\\Users\\pharr\\Anaconda\\lib\\site-packages\\sklearn\\linear_model\\_coordinate_descent.py:526: ConvergenceWarning: Objective did not converge. You might want to increase the number of iterations. Duality gap: 106808393920.58801, tolerance: 260100759.82788405\n",
      "  model = cd_fast.enet_coordinate_descent_gram(\n",
      "C:\\Users\\pharr\\Anaconda\\lib\\site-packages\\sklearn\\linear_model\\_coordinate_descent.py:526: ConvergenceWarning: Objective did not converge. You might want to increase the number of iterations. Duality gap: 107684687181.84183, tolerance: 260100759.82788405\n",
      "  model = cd_fast.enet_coordinate_descent_gram(\n",
      "C:\\Users\\pharr\\Anaconda\\lib\\site-packages\\sklearn\\linear_model\\_coordinate_descent.py:526: ConvergenceWarning: Objective did not converge. You might want to increase the number of iterations. Duality gap: 108517557127.96283, tolerance: 260100759.82788405\n",
      "  model = cd_fast.enet_coordinate_descent_gram(\n",
      "C:\\Users\\pharr\\Anaconda\\lib\\site-packages\\sklearn\\linear_model\\_coordinate_descent.py:526: ConvergenceWarning: Objective did not converge. You might want to increase the number of iterations. Duality gap: 109323382483.67712, tolerance: 260100759.82788405\n",
      "  model = cd_fast.enet_coordinate_descent_gram(\n",
      "C:\\Users\\pharr\\Anaconda\\lib\\site-packages\\sklearn\\linear_model\\_coordinate_descent.py:526: ConvergenceWarning: Objective did not converge. You might want to increase the number of iterations. Duality gap: 110108186462.45511, tolerance: 260100759.82788405\n",
      "  model = cd_fast.enet_coordinate_descent_gram(\n",
      "C:\\Users\\pharr\\Anaconda\\lib\\site-packages\\sklearn\\linear_model\\_coordinate_descent.py:526: ConvergenceWarning: Objective did not converge. You might want to increase the number of iterations. Duality gap: 110873298451.87302, tolerance: 260100759.82788405\n",
      "  model = cd_fast.enet_coordinate_descent_gram(\n",
      "C:\\Users\\pharr\\Anaconda\\lib\\site-packages\\sklearn\\linear_model\\_coordinate_descent.py:526: ConvergenceWarning: Objective did not converge. You might want to increase the number of iterations. Duality gap: 111618180355.61258, tolerance: 260100759.82788405\n",
      "  model = cd_fast.enet_coordinate_descent_gram(\n",
      "C:\\Users\\pharr\\Anaconda\\lib\\site-packages\\sklearn\\linear_model\\_coordinate_descent.py:526: ConvergenceWarning: Objective did not converge. You might want to increase the number of iterations. Duality gap: 112341810238.53207, tolerance: 260100759.82788405\n",
      "  model = cd_fast.enet_coordinate_descent_gram(\n",
      "C:\\Users\\pharr\\Anaconda\\lib\\site-packages\\sklearn\\linear_model\\_coordinate_descent.py:526: ConvergenceWarning: Objective did not converge. You might want to increase the number of iterations. Duality gap: 113043283649.63559, tolerance: 260100759.82788405\n",
      "  model = cd_fast.enet_coordinate_descent_gram(\n",
      "C:\\Users\\pharr\\Anaconda\\lib\\site-packages\\sklearn\\linear_model\\_coordinate_descent.py:526: ConvergenceWarning: Objective did not converge. You might want to increase the number of iterations. Duality gap: 113722034795.32858, tolerance: 260100759.82788405\n",
      "  model = cd_fast.enet_coordinate_descent_gram(\n",
      "C:\\Users\\pharr\\Anaconda\\lib\\site-packages\\sklearn\\linear_model\\_coordinate_descent.py:526: ConvergenceWarning: Objective did not converge. You might want to increase the number of iterations. Duality gap: 114377886797.1947, tolerance: 260100759.82788405\n",
      "  model = cd_fast.enet_coordinate_descent_gram(\n",
      "C:\\Users\\pharr\\Anaconda\\lib\\site-packages\\sklearn\\linear_model\\_coordinate_descent.py:526: ConvergenceWarning: Objective did not converge. You might want to increase the number of iterations. Duality gap: 115011004580.67224, tolerance: 260100759.82788405\n",
      "  model = cd_fast.enet_coordinate_descent_gram(\n",
      "C:\\Users\\pharr\\Anaconda\\lib\\site-packages\\sklearn\\linear_model\\_coordinate_descent.py:526: ConvergenceWarning: Objective did not converge. You might want to increase the number of iterations. Duality gap: 115621833499.72855, tolerance: 260100759.82788405\n",
      "  model = cd_fast.enet_coordinate_descent_gram(\n",
      "C:\\Users\\pharr\\Anaconda\\lib\\site-packages\\sklearn\\linear_model\\_coordinate_descent.py:526: ConvergenceWarning: Objective did not converge. You might want to increase the number of iterations. Duality gap: 116211026219.08435, tolerance: 260100759.82788405\n",
      "  model = cd_fast.enet_coordinate_descent_gram(\n",
      "C:\\Users\\pharr\\Anaconda\\lib\\site-packages\\sklearn\\linear_model\\_coordinate_descent.py:526: ConvergenceWarning: Objective did not converge. You might want to increase the number of iterations. Duality gap: 116779375112.68619, tolerance: 260100759.82788405\n",
      "  model = cd_fast.enet_coordinate_descent_gram(\n",
      "C:\\Users\\pharr\\Anaconda\\lib\\site-packages\\sklearn\\linear_model\\_coordinate_descent.py:526: ConvergenceWarning: Objective did not converge. You might want to increase the number of iterations. Duality gap: 117327766030.91037, tolerance: 260100759.82788405\n",
      "  model = cd_fast.enet_coordinate_descent_gram(\n",
      "C:\\Users\\pharr\\Anaconda\\lib\\site-packages\\sklearn\\linear_model\\_coordinate_descent.py:526: ConvergenceWarning: Objective did not converge. You might want to increase the number of iterations. Duality gap: 117857134010.27716, tolerance: 260100759.82788405\n",
      "  model = cd_fast.enet_coordinate_descent_gram(\n",
      "C:\\Users\\pharr\\Anaconda\\lib\\site-packages\\sklearn\\linear_model\\_coordinate_descent.py:526: ConvergenceWarning: Objective did not converge. You might want to increase the number of iterations. Duality gap: 118368427087.1817, tolerance: 260100759.82788405\n",
      "  model = cd_fast.enet_coordinate_descent_gram(\n",
      "C:\\Users\\pharr\\Anaconda\\lib\\site-packages\\sklearn\\linear_model\\_coordinate_descent.py:526: ConvergenceWarning: Objective did not converge. You might want to increase the number of iterations. Duality gap: 118862590175.22467, tolerance: 260100759.82788405\n",
      "  model = cd_fast.enet_coordinate_descent_gram(\n",
      "C:\\Users\\pharr\\Anaconda\\lib\\site-packages\\sklearn\\linear_model\\_coordinate_descent.py:526: ConvergenceWarning: Objective did not converge. You might want to increase the number of iterations. Duality gap: 119340539087.81052, tolerance: 260100759.82788405\n",
      "  model = cd_fast.enet_coordinate_descent_gram(\n",
      "C:\\Users\\pharr\\Anaconda\\lib\\site-packages\\sklearn\\linear_model\\_coordinate_descent.py:526: ConvergenceWarning: Objective did not converge. You might want to increase the number of iterations. Duality gap: 119803158788.53616, tolerance: 260100759.82788405\n",
      "  model = cd_fast.enet_coordinate_descent_gram(\n",
      "C:\\Users\\pharr\\Anaconda\\lib\\site-packages\\sklearn\\linear_model\\_coordinate_descent.py:526: ConvergenceWarning: Objective did not converge. You might want to increase the number of iterations. Duality gap: 120251285029.565, tolerance: 260100759.82788405\n",
      "  model = cd_fast.enet_coordinate_descent_gram(\n",
      "C:\\Users\\pharr\\Anaconda\\lib\\site-packages\\sklearn\\linear_model\\_coordinate_descent.py:526: ConvergenceWarning: Objective did not converge. You might want to increase the number of iterations. Duality gap: 120685710175.03397, tolerance: 260100759.82788405\n",
      "  model = cd_fast.enet_coordinate_descent_gram(\n",
      "C:\\Users\\pharr\\Anaconda\\lib\\site-packages\\sklearn\\linear_model\\_coordinate_descent.py:526: ConvergenceWarning: Objective did not converge. You might want to increase the number of iterations. Duality gap: 121107173791.08936, tolerance: 260100759.82788405\n",
      "  model = cd_fast.enet_coordinate_descent_gram(\n",
      "C:\\Users\\pharr\\Anaconda\\lib\\site-packages\\sklearn\\linear_model\\_coordinate_descent.py:526: ConvergenceWarning: Objective did not converge. You might want to increase the number of iterations. Duality gap: 121516366692.47177, tolerance: 260100759.82788405\n",
      "  model = cd_fast.enet_coordinate_descent_gram(\n",
      "C:\\Users\\pharr\\Anaconda\\lib\\site-packages\\sklearn\\linear_model\\_coordinate_descent.py:526: ConvergenceWarning: Objective did not converge. You might want to increase the number of iterations. Duality gap: 121913922214.79337, tolerance: 260100759.82788405\n",
      "  model = cd_fast.enet_coordinate_descent_gram(\n",
      "C:\\Users\\pharr\\Anaconda\\lib\\site-packages\\sklearn\\linear_model\\_coordinate_descent.py:526: ConvergenceWarning: Objective did not converge. You might want to increase the number of iterations. Duality gap: 122300435498.05316, tolerance: 260100759.82788405\n",
      "  model = cd_fast.enet_coordinate_descent_gram(\n",
      "C:\\Users\\pharr\\Anaconda\\lib\\site-packages\\sklearn\\linear_model\\_coordinate_descent.py:526: ConvergenceWarning: Objective did not converge. You might want to increase the number of iterations. Duality gap: 122676450964.673, tolerance: 260100759.82788405\n",
      "  model = cd_fast.enet_coordinate_descent_gram(\n",
      "C:\\Users\\pharr\\Anaconda\\lib\\site-packages\\sklearn\\linear_model\\_coordinate_descent.py:526: ConvergenceWarning: Objective did not converge. You might want to increase the number of iterations. Duality gap: 123042468910.79984, tolerance: 260100759.82788405\n",
      "  model = cd_fast.enet_coordinate_descent_gram(\n",
      "C:\\Users\\pharr\\Anaconda\\lib\\site-packages\\sklearn\\linear_model\\_coordinate_descent.py:526: ConvergenceWarning: Objective did not converge. You might want to increase the number of iterations. Duality gap: 123398947388.6232, tolerance: 260100759.82788405\n",
      "  model = cd_fast.enet_coordinate_descent_gram(\n",
      "C:\\Users\\pharr\\Anaconda\\lib\\site-packages\\sklearn\\linear_model\\_coordinate_descent.py:526: ConvergenceWarning: Objective did not converge. You might want to increase the number of iterations. Duality gap: 123746313235.33801, tolerance: 260100759.82788405\n",
      "  model = cd_fast.enet_coordinate_descent_gram(\n",
      "C:\\Users\\pharr\\Anaconda\\lib\\site-packages\\sklearn\\linear_model\\_coordinate_descent.py:526: ConvergenceWarning: Objective did not converge. You might want to increase the number of iterations. Duality gap: 124084951332.5098, tolerance: 260100759.82788405\n",
      "  model = cd_fast.enet_coordinate_descent_gram(\n",
      "C:\\Users\\pharr\\Anaconda\\lib\\site-packages\\sklearn\\linear_model\\_coordinate_descent.py:526: ConvergenceWarning: Objective did not converge. You might want to increase the number of iterations. Duality gap: 124415220011.13, tolerance: 260100759.82788405\n",
      "  model = cd_fast.enet_coordinate_descent_gram(\n",
      "C:\\Users\\pharr\\Anaconda\\lib\\site-packages\\sklearn\\linear_model\\_coordinate_descent.py:526: ConvergenceWarning: Objective did not converge. You might want to increase the number of iterations. Duality gap: 124737448410.79135, tolerance: 260100759.82788405\n",
      "  model = cd_fast.enet_coordinate_descent_gram(\n",
      "C:\\Users\\pharr\\Anaconda\\lib\\site-packages\\sklearn\\linear_model\\_coordinate_descent.py:526: ConvergenceWarning: Objective did not converge. You might want to increase the number of iterations. Duality gap: 125051939502.76477, tolerance: 260100759.82788405\n",
      "  model = cd_fast.enet_coordinate_descent_gram(\n",
      "C:\\Users\\pharr\\Anaconda\\lib\\site-packages\\sklearn\\linear_model\\_coordinate_descent.py:526: ConvergenceWarning: Objective did not converge. You might want to increase the number of iterations. Duality gap: 125358970381.94604, tolerance: 260100759.82788405\n",
      "  model = cd_fast.enet_coordinate_descent_gram(\n",
      "C:\\Users\\pharr\\Anaconda\\lib\\site-packages\\sklearn\\linear_model\\_coordinate_descent.py:526: ConvergenceWarning: Objective did not converge. You might want to increase the number of iterations. Duality gap: 125658808423.55515, tolerance: 260100759.82788405\n",
      "  model = cd_fast.enet_coordinate_descent_gram(\n",
      "C:\\Users\\pharr\\Anaconda\\lib\\site-packages\\sklearn\\linear_model\\_coordinate_descent.py:526: ConvergenceWarning: Objective did not converge. You might want to increase the number of iterations. Duality gap: 125951680385.164, tolerance: 260100759.82788405\n",
      "  model = cd_fast.enet_coordinate_descent_gram(\n",
      "C:\\Users\\pharr\\Anaconda\\lib\\site-packages\\sklearn\\linear_model\\_coordinate_descent.py:526: ConvergenceWarning: Objective did not converge. You might want to increase the number of iterations. Duality gap: 126237821896.38712, tolerance: 260100759.82788405\n",
      "  model = cd_fast.enet_coordinate_descent_gram(\n",
      "C:\\Users\\pharr\\Anaconda\\lib\\site-packages\\sklearn\\linear_model\\_coordinate_descent.py:526: ConvergenceWarning: Objective did not converge. You might want to increase the number of iterations. Duality gap: 126517443377.83401, tolerance: 260100759.82788405\n",
      "  model = cd_fast.enet_coordinate_descent_gram(\n",
      "C:\\Users\\pharr\\Anaconda\\lib\\site-packages\\sklearn\\linear_model\\_coordinate_descent.py:526: ConvergenceWarning: Objective did not converge. You might want to increase the number of iterations. Duality gap: 126790735355.85284, tolerance: 260100759.82788405\n",
      "  model = cd_fast.enet_coordinate_descent_gram(\n",
      "C:\\Users\\pharr\\Anaconda\\lib\\site-packages\\sklearn\\linear_model\\_coordinate_descent.py:526: ConvergenceWarning: Objective did not converge. You might want to increase the number of iterations. Duality gap: 127057886785.0198, tolerance: 260100759.82788405\n",
      "  model = cd_fast.enet_coordinate_descent_gram(\n",
      "C:\\Users\\pharr\\Anaconda\\lib\\site-packages\\sklearn\\linear_model\\_coordinate_descent.py:526: ConvergenceWarning: Objective did not converge. You might want to increase the number of iterations. Duality gap: 127319076350.30475, tolerance: 260100759.82788405\n",
      "  model = cd_fast.enet_coordinate_descent_gram(\n",
      "C:\\Users\\pharr\\Anaconda\\lib\\site-packages\\sklearn\\linear_model\\_coordinate_descent.py:526: ConvergenceWarning: Objective did not converge. You might want to increase the number of iterations. Duality gap: 127574468913.07971, tolerance: 260100759.82788405\n",
      "  model = cd_fast.enet_coordinate_descent_gram(\n",
      "C:\\Users\\pharr\\Anaconda\\lib\\site-packages\\sklearn\\linear_model\\_coordinate_descent.py:526: ConvergenceWarning: Objective did not converge. You might want to increase the number of iterations. Duality gap: 127824226789.68726, tolerance: 260100759.82788405\n",
      "  model = cd_fast.enet_coordinate_descent_gram(\n",
      "C:\\Users\\pharr\\Anaconda\\lib\\site-packages\\sklearn\\linear_model\\_coordinate_descent.py:526: ConvergenceWarning: Objective did not converge. You might want to increase the number of iterations. Duality gap: 128068502466.29929, tolerance: 260100759.82788405\n",
      "  model = cd_fast.enet_coordinate_descent_gram(\n",
      "C:\\Users\\pharr\\Anaconda\\lib\\site-packages\\sklearn\\linear_model\\_coordinate_descent.py:526: ConvergenceWarning: Objective did not converge. You might want to increase the number of iterations. Duality gap: 128307446100.61145, tolerance: 260100759.82788405\n",
      "  model = cd_fast.enet_coordinate_descent_gram(\n",
      "C:\\Users\\pharr\\Anaconda\\lib\\site-packages\\sklearn\\linear_model\\_coordinate_descent.py:526: ConvergenceWarning: Objective did not converge. You might want to increase the number of iterations. Duality gap: 128541198044.86273, tolerance: 260100759.82788405\n",
      "  model = cd_fast.enet_coordinate_descent_gram(\n",
      "C:\\Users\\pharr\\Anaconda\\lib\\site-packages\\sklearn\\linear_model\\_coordinate_descent.py:530: ConvergenceWarning: Objective did not converge. You might want to increase the number of iterations. Duality gap: 178494292922.2948, tolerance: 330918931.9500532\n",
      "  model = cd_fast.enet_coordinate_descent(\n"
     ]
    }
   ],
   "source": [
    "# Set up a list of Lasso alphas to check.\n",
    "l_alphas = np.logspace(-3, 0, 100)\n",
    "\n",
    "# Cross-validate over our list of Lasso alphas.\n",
    "lasso_cv = LassoCV(alphas=l_alphas, cv=5, max_iter=5000)\n",
    "\n",
    "# Fit model using best ridge alpha!\n",
    "lasso_cv.fit(Z_train, y_train);"
   ]
  },
  {
   "cell_type": "code",
   "execution_count": 116,
   "id": "17166b59-88f3-4197-95ab-5f493a54f1ec",
   "metadata": {},
   "outputs": [
    {
     "data": {
      "text/plain": [
       "0.9326033468832199"
      ]
     },
     "execution_count": 116,
     "metadata": {},
     "output_type": "execute_result"
    }
   ],
   "source": [
    "# Here is the optimal value of alpha\n",
    "lasso_cv.alpha_"
   ]
  },
  {
   "cell_type": "code",
   "execution_count": 117,
   "id": "4f93649f-5ebd-4e24-b7b6-f78781021c2d",
   "metadata": {},
   "outputs": [
    {
     "name": "stdout",
     "output_type": "stream",
     "text": [
      "0.8832594091701051\n",
      "0.8582335164041694\n"
     ]
    }
   ],
   "source": [
    "print(lasso_cv.score(Z_train, y_train))\n",
    "print(lasso_cv.score(Z_test, y_test))"
   ]
  },
  {
   "cell_type": "code",
   "execution_count": null,
   "id": "af5b260d-da25-40bf-9396-8e4239298748",
   "metadata": {},
   "outputs": [],
   "source": []
  },
  {
   "cell_type": "code",
   "execution_count": null,
   "id": "7299d7e6-43d2-451f-8672-9e80ff628c49",
   "metadata": {},
   "outputs": [],
   "source": []
  },
  {
   "cell_type": "markdown",
   "id": "a4335d96-fba9-4f3f-a5cd-5bc00ac47669",
   "metadata": {},
   "source": [
    "## Model Fitting and Evaluation\n",
    "---\n",
    "\n",
    "`RidgeCV` seems to be doing the best, so let's move forward with that model. Fit the model to the training data, and evaluate the training and test scores below."
   ]
  },
  {
   "cell_type": "code",
   "execution_count": 130,
   "id": "50635b33-a864-47e5-9e23-41159ea7677a",
   "metadata": {},
   "outputs": [
    {
     "data": {
      "text/plain": [
       "0.8817407249517755"
      ]
     },
     "execution_count": 130,
     "metadata": {},
     "output_type": "execute_result"
    }
   ],
   "source": [
    "ridge_cv.score(Z_train, y_train)"
   ]
  },
  {
   "cell_type": "code",
   "execution_count": 119,
   "id": "c3da00e8-fa52-4f20-b41c-b56b535e525b",
   "metadata": {},
   "outputs": [
    {
     "data": {
      "text/plain": [
       "0.8629305996335539"
      ]
     },
     "execution_count": 119,
     "metadata": {},
     "output_type": "execute_result"
    }
   ],
   "source": [
    "ridge_cv.score(Z_test, y_test)"
   ]
  },
  {
   "cell_type": "code",
   "execution_count": 132,
   "id": "b57d287c-45bc-4b3d-8899-36d82c002ee0",
   "metadata": {
    "tags": []
   },
   "outputs": [],
   "source": [
    "ridge_predictions = ridge_cv.predict(Z_test)"
   ]
  },
  {
   "cell_type": "code",
   "execution_count": 124,
   "id": "28274396-06df-4ee4-ba0e-f6ea49b4cce2",
   "metadata": {
    "tags": []
   },
   "outputs": [
    {
     "data": {
      "text/plain": [
       "array([4.02745321e+10, 3.96481047e+10, 3.55785066e+10, ...,\n",
       "       3.65733796e+10, 3.36866554e+10, 3.82200328e+10])"
      ]
     },
     "execution_count": 124,
     "metadata": {},
     "output_type": "execute_result"
    }
   ],
   "source": [
    "test_ridge_cv.predict(poly.fit_transform(X))"
   ]
  },
  {
   "cell_type": "code",
   "execution_count": 128,
   "id": "facdd0af-d5ad-4426-85e8-592789672236",
   "metadata": {},
   "outputs": [
    {
     "data": {
      "text/plain": [
       "<AxesSubplot:>"
      ]
     },
     "execution_count": 128,
     "metadata": {},
     "output_type": "execute_result"
    },
    {
     "data": {
      "image/png": "[encoded data removed]",
      "text/plain": [
       "<Figure size 1080x504 with 1 Axes>"
      ]
     },
     "metadata": {
      "needs_background": "light"
     },
     "output_type": "display_data"
    }
   ],
   "source": [
    "pd.Series(test_ridge_cv.coef_).plot.bar(figsize=(15, 7))"
   ]
  },
  {
   "cell_type": "code",
   "execution_count": null,
   "id": "9fb3b202-1404-487c-a561-9e676b27b2a3",
   "metadata": {},
   "outputs": [],
   "source": []
  },
  {
   "cell_type": "markdown",
   "id": "3f0193e7-51cf-4f74-b8a2-456ef3345a24",
   "metadata": {},
   "source": [
    "### Most powerful coefficients"
   ]
  },
  {
   "cell_type": "code",
   "execution_count": 138,
   "id": "47818093-34d8-4b86-ba3b-80843675d29b",
   "metadata": {},
   "outputs": [
    {
     "data": {
      "text/plain": [
       "<AxesSubplot:>"
      ]
     },
     "execution_count": 138,
     "metadata": {},
     "output_type": "execute_result"
    },
    {
     "data": {
      "image/png": "[encoded data removed]",
      "text/plain": [
       "<Figure size 1080x504 with 1 Axes>"
      ]
     },
     "metadata": {
      "needs_background": "light"
     },
     "output_type": "display_data"
    }
   ],
   "source": [
    "pd.Series(lr.coef_, index=features).plot.bar(figsize=(15, 7))"
   ]
  },
  {
   "cell_type": "code",
   "execution_count": 139,
   "id": "422816ee-dce0-4216-8261-26b0c06d2181",
   "metadata": {},
   "outputs": [
    {
     "data": {
      "text/plain": [
       "<AxesSubplot:>"
      ]
     },
     "execution_count": 139,
     "metadata": {},
     "output_type": "execute_result"
    },
    {
     "data": {
      "image/png": "[encoded data removed]",
      "text/plain": [
       "<Figure size 1080x504 with 1 Axes>"
      ]
     },
     "metadata": {
      "needs_background": "light"
     },
     "output_type": "display_data"
    }
   ],
   "source": [
    "pd.Series(ridge_cv.coef_).plot.bar(figsize=(15, 7))"
   ]
  },
  {
   "cell_type": "code",
   "execution_count": null,
   "id": "61d43d05-05fc-45a3-97df-7e1a49e23811",
   "metadata": {},
   "outputs": [],
   "source": []
  },
  {
   "cell_type": "markdown",
   "id": "22489e7a-cd6e-4e67-8d4a-f575f5ed7993",
   "metadata": {},
   "source": [
    "### Export transform test data for ridge and Lasso model"
   ]
  },
  {
   "cell_type": "code",
   "execution_count": 141,
   "id": "218673e3-d8dc-4dac-970d-85f2897cde0e",
   "metadata": {},
   "outputs": [],
   "source": [
    "new_kaggle_test = test[['Overall Qual', 'Gr Liv Area','Garage Cars', 'Garage Area','Total Bsmt SF','Year Built','Full Bath']]"
   ]
  },
  {
   "cell_type": "code",
   "execution_count": 142,
   "id": "68c7650b-a226-4d30-a1a8-e60fff71ab50",
   "metadata": {},
   "outputs": [],
   "source": [
    "X=new_kaggle_test"
   ]
  },
  {
   "cell_type": "code",
   "execution_count": 143,
   "id": "72d25b35-bb28-4670-8cb2-50ad475ee08d",
   "metadata": {},
   "outputs": [],
   "source": [
    "# Fit and transform kaggle data.\n",
    "X_overfit_kaggle = poly.fit_transform(X)"
   ]
  },
  {
   "cell_type": "code",
   "execution_count": 144,
   "id": "884a35c4-3b05-48e5-9edb-9538f86c7be5",
   "metadata": {},
   "outputs": [
    {
     "data": {
      "text/plain": [
       "(878, 7)"
      ]
     },
     "execution_count": 144,
     "metadata": {},
     "output_type": "execute_result"
    }
   ],
   "source": [
    "X.shape"
   ]
  },
  {
   "cell_type": "code",
   "execution_count": 145,
   "id": "7fc673e1-a404-412e-a3a7-33fe3f95bb85",
   "metadata": {},
   "outputs": [
    {
     "data": {
      "text/plain": [
       "['Overall Qual',\n",
       " 'Gr Liv Area',\n",
       " 'Garage Cars',\n",
       " 'Garage Area',\n",
       " 'Total Bsmt SF',\n",
       " 'Year Built',\n",
       " 'Full Bath',\n",
       " 'Overall Qual^2',\n",
       " 'Overall Qual Gr Liv Area',\n",
       " 'Overall Qual Garage Cars',\n",
       " 'Overall Qual Garage Area',\n",
       " 'Overall Qual Total Bsmt SF',\n",
       " 'Overall Qual Year Built',\n",
       " 'Overall Qual Full Bath',\n",
       " 'Gr Liv Area^2',\n",
       " 'Gr Liv Area Garage Cars',\n",
       " 'Gr Liv Area Garage Area',\n",
       " 'Gr Liv Area Total Bsmt SF',\n",
       " 'Gr Liv Area Year Built',\n",
       " 'Gr Liv Area Full Bath',\n",
       " 'Garage Cars^2',\n",
       " 'Garage Cars Garage Area',\n",
       " 'Garage Cars Total Bsmt SF',\n",
       " 'Garage Cars Year Built',\n",
       " 'Garage Cars Full Bath',\n",
       " 'Garage Area^2',\n",
       " 'Garage Area Total Bsmt SF',\n",
       " 'Garage Area Year Built',\n",
       " 'Garage Area Full Bath',\n",
       " 'Total Bsmt SF^2',\n",
       " 'Total Bsmt SF Year Built',\n",
       " 'Total Bsmt SF Full Bath',\n",
       " 'Year Built^2',\n",
       " 'Year Built Full Bath',\n",
       " 'Full Bath^2']"
      ]
     },
     "execution_count": 145,
     "metadata": {},
     "output_type": "execute_result"
    }
   ],
   "source": [
    "poly.get_feature_names(X.columns)"
   ]
  },
  {
   "cell_type": "code",
   "execution_count": 146,
   "id": "990cbdcd-3ca4-4c51-80bd-6af1ea2d3b19",
   "metadata": {},
   "outputs": [],
   "source": [
    "# Create train/test splits.\n",
    "X_train, X_test, y_train, y_test = train_test_split(\n",
    "    X_overfit,\n",
    "    y,\n",
    "    test_size=0.7,\n",
    "    random_state=42\n",
    ")"
   ]
  },
  {
   "cell_type": "code",
   "execution_count": 147,
   "id": "b32f513c-00a6-4ab7-9f39-4dd31c8706c8",
   "metadata": {},
   "outputs": [],
   "source": [
    "# Scale our data.\n",
    "# Relabeling scaled data as \"Z\" is common.\n",
    "sc = StandardScaler()\n",
    "Z_train_kaggle = sc.fit_transform(X_overfit_kaggle)\n",
    "Z_test = sc.transform(X_test)"
   ]
  },
  {
   "cell_type": "code",
   "execution_count": 148,
   "id": "936218f2-f144-4aac-a576-67fe159d6469",
   "metadata": {},
   "outputs": [],
   "source": [
    "test_preds = ols.predict(Z_train_kaggle)"
   ]
  },
  {
   "cell_type": "code",
   "execution_count": 149,
   "id": "86312a02-b715-48a8-85ba-8f6a7cb65ff0",
   "metadata": {},
   "outputs": [],
   "source": [
    "test['SalePrice'] = test_preds"
   ]
  },
  {
   "cell_type": "code",
   "execution_count": 153,
   "id": "d6b965ac-60d6-497b-a96a-13aaf43d42f2",
   "metadata": {},
   "outputs": [],
   "source": [
    "#test[['Id', 'SalePrice']].to_csv('2-Submissions/fifth_model.csv', index=False)"
   ]
  },
  {
   "cell_type": "code",
   "execution_count": null,
   "id": "f6d4d093-f9a2-4b75-9aa1-e04312951ab6",
   "metadata": {},
   "outputs": [],
   "source": [
    "ols.coef_"
   ]
  },
  {
   "cell_type": "code",
   "execution_count": null,
   "id": "73be7a32-5b4b-47b9-9e2b-d58b3f832e52",
   "metadata": {},
   "outputs": [],
   "source": []
  },
  {
   "cell_type": "code",
   "execution_count": null,
   "id": "f45e73f7-a269-4035-969b-f50d450c1eda",
   "metadata": {},
   "outputs": [],
   "source": [
    "### Export"
   ]
  },
  {
   "cell_type": "code",
   "execution_count": null,
   "id": "2193f590-9863-4172-86fc-e2bd2b7c1f7a",
   "metadata": {},
   "outputs": [],
   "source": [
    "test_subset = test[X.columns]\n",
    "test_preds = lr.predict(test_subset)"
   ]
  },
  {
   "cell_type": "code",
   "execution_count": null,
   "id": "f144348c-46de-415f-9455-3dfe81c44302",
   "metadata": {},
   "outputs": [],
   "source": [
    "test['SalePrice'] = test_preds"
   ]
  },
  {
   "cell_type": "code",
   "execution_count": null,
   "id": "07604c59-41db-4edd-a1e4-a902be433d0d",
   "metadata": {},
   "outputs": [],
   "source": [
    "test[['Id', 'SalePrice']].to_csv('submissions/second_model.csv', index=False)"
   ]
  },
  {
   "cell_type": "code",
   "execution_count": null,
   "id": "e075388a-0c31-4e21-ad42-10ae10907298",
   "metadata": {},
   "outputs": [],
   "source": []
  },
  {
   "cell_type": "code",
   "execution_count": null,
   "id": "20c16423-9766-4907-bfd2-d445baaca07f",
   "metadata": {},
   "outputs": [],
   "source": [
    "#test[['Id', 'SalePrice']].to_csv('submissions/third_model.csv', index=False)"
   ]
  },
  {
   "cell_type": "code",
   "execution_count": null,
   "id": "1b38dc44-dda2-480b-af81-232381797019",
   "metadata": {},
   "outputs": [],
   "source": []
  },
  {
   "cell_type": "code",
   "execution_count": null,
   "id": "1d99dcb0-fe88-44b7-b59a-927203233564",
   "metadata": {},
   "outputs": [],
   "source": []
  },
  {
   "cell_type": "code",
   "execution_count": null,
   "id": "4f6dd43b-abfa-4cb5-8ddb-b83b1a03720e",
   "metadata": {},
   "outputs": [],
   "source": [
    "#second = pd.read_csv('./submissions/second_model.csv')"
   ]
  },
  {
   "cell_type": "code",
   "execution_count": null,
   "id": "eccb2874-bafe-4f35-a86d-1ea165defe38",
   "metadata": {},
   "outputs": [],
   "source": [
    "# second.shape"
   ]
  },
  {
   "cell_type": "code",
   "execution_count": null,
   "id": "47349d82-f47a-45ea-b06b-a1e2feb6b97e",
   "metadata": {},
   "outputs": [],
   "source": [
    "# third = pd.read_csv('./submissions/third_model.csv')"
   ]
  },
  {
   "cell_type": "code",
   "execution_count": null,
   "id": "14acc0e7-602f-4edb-87cf-a0f3952ddaac",
   "metadata": {},
   "outputs": [],
   "source": [
    "# third.shape"
   ]
  },
  {
   "cell_type": "code",
   "execution_count": null,
   "id": "dfe88e87-bb0d-4408-8e3e-1437967a1950",
   "metadata": {},
   "outputs": [],
   "source": []
  }
 ],
 "metadata": {
  "kernelspec": {
   "display_name": "Python 3",
   "language": "python",
   "name": "python3"
  },
  "language_info": {
   "codemirror_mode": {
    "name": "ipython",
    "version": 3
   },
   "file_extension": ".py",
   "mimetype": "text/x-python",
   "name": "python",
   "nbconvert_exporter": "python",
   "pygments_lexer": "ipython3",
   "version": "3.8.8"
  }
 },
 "nbformat": 4,
 "nbformat_minor": 5
}
