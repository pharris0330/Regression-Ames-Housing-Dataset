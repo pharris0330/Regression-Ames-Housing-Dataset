{
 "cells": [
  {
   "cell_type": "code",
   "execution_count": 1,
   "id": "ea92648d-f11d-45d8-bfd5-f2acda357d0d",
   "metadata": {},
   "outputs": [],
   "source": [
    "# Imports:\n",
    "import pandas as pd\n",
    "import numpy as np\n",
    "import matplotlib.pyplot as plt\n",
    "import math\n",
    "import seaborn as sns\n",
    "\n",
    "from sklearn.linear_model import LinearRegression, LassoCV, RidgeCV\n",
    "from sklearn.metrics import mean_squared_error\n",
    "from sklearn.model_selection import train_test_split, cross_val_score, cross_val_predict"
   ]
  },
  {
   "cell_type": "markdown",
   "id": "f44e5376-f256-4b09-b8a2-cfa5b06f90b3",
   "metadata": {},
   "source": []
  },
  {
   "cell_type": "code",
   "execution_count": 2,
   "id": "3261083e-89bd-424a-ae07-0221f2fd51ea",
   "metadata": {},
   "outputs": [],
   "source": [
    "train = pd.read_csv('./1- Datasets/train_general2.csv')"
   ]
  },
  {
   "cell_type": "code",
   "execution_count": 3,
   "id": "799747d4-153b-40f7-9914-7e8a335ca370",
   "metadata": {},
   "outputs": [],
   "source": [
    "test = pd.read_csv('./1- Datasets/test.csv', keep_default_na=False, na_values=[''])"
   ]
  },
  {
   "cell_type": "code",
   "execution_count": 4,
   "id": "8b1abb04-ccf9-4ba9-8d70-54001d4d4a0f",
   "metadata": {},
   "outputs": [
    {
     "data": {
      "text/plain": [
       "(2008, 81)"
      ]
     },
     "execution_count": 4,
     "metadata": {},
     "output_type": "execute_result"
    }
   ],
   "source": [
    "train.shape"
   ]
  },
  {
   "cell_type": "code",
   "execution_count": 5,
   "id": "c6c16ec3-c734-4445-8a95-46f8ac7b4ffb",
   "metadata": {},
   "outputs": [
    {
     "data": {
      "text/html": [
       "<div>\n",
       "<style scoped>\n",
       "    .dataframe tbody tr th:only-of-type {\n",
       "        vertical-align: middle;\n",
       "    }\n",
       "\n",
       "    .dataframe tbody tr th {\n",
       "        vertical-align: top;\n",
       "    }\n",
       "\n",
       "    .dataframe thead th {\n",
       "        text-align: right;\n",
       "    }\n",
       "</style>\n",
       "<table border=\"1\" class=\"dataframe\">\n",
       "  <thead>\n",
       "    <tr style=\"text-align: right;\">\n",
       "      <th></th>\n",
       "      <th>Id</th>\n",
       "      <th>PID</th>\n",
       "      <th>MS SubClass</th>\n",
       "      <th>MS Zoning</th>\n",
       "      <th>Lot Frontage</th>\n",
       "      <th>Lot Area</th>\n",
       "      <th>Street</th>\n",
       "      <th>Alley</th>\n",
       "      <th>Lot Shape</th>\n",
       "      <th>Land Contour</th>\n",
       "      <th>...</th>\n",
       "      <th>Screen Porch</th>\n",
       "      <th>Pool Area</th>\n",
       "      <th>Pool QC</th>\n",
       "      <th>Fence</th>\n",
       "      <th>Misc Feature</th>\n",
       "      <th>Misc Val</th>\n",
       "      <th>Mo Sold</th>\n",
       "      <th>Yr Sold</th>\n",
       "      <th>Sale Type</th>\n",
       "      <th>SalePrice</th>\n",
       "    </tr>\n",
       "  </thead>\n",
       "  <tbody>\n",
       "    <tr>\n",
       "      <th>0</th>\n",
       "      <td>109</td>\n",
       "      <td>533352170</td>\n",
       "      <td>60</td>\n",
       "      <td>RL</td>\n",
       "      <td>NaN</td>\n",
       "      <td>13517</td>\n",
       "      <td>Pave</td>\n",
       "      <td>NaN</td>\n",
       "      <td>IR1</td>\n",
       "      <td>Lvl</td>\n",
       "      <td>...</td>\n",
       "      <td>0</td>\n",
       "      <td>0</td>\n",
       "      <td>NaN</td>\n",
       "      <td>NaN</td>\n",
       "      <td>NaN</td>\n",
       "      <td>0</td>\n",
       "      <td>3</td>\n",
       "      <td>2010</td>\n",
       "      <td>WD</td>\n",
       "      <td>130500</td>\n",
       "    </tr>\n",
       "    <tr>\n",
       "      <th>1</th>\n",
       "      <td>544</td>\n",
       "      <td>531379050</td>\n",
       "      <td>60</td>\n",
       "      <td>RL</td>\n",
       "      <td>43.0</td>\n",
       "      <td>11492</td>\n",
       "      <td>Pave</td>\n",
       "      <td>NaN</td>\n",
       "      <td>IR1</td>\n",
       "      <td>Lvl</td>\n",
       "      <td>...</td>\n",
       "      <td>0</td>\n",
       "      <td>0</td>\n",
       "      <td>NaN</td>\n",
       "      <td>NaN</td>\n",
       "      <td>NaN</td>\n",
       "      <td>0</td>\n",
       "      <td>4</td>\n",
       "      <td>2009</td>\n",
       "      <td>WD</td>\n",
       "      <td>220000</td>\n",
       "    </tr>\n",
       "    <tr>\n",
       "      <th>2</th>\n",
       "      <td>153</td>\n",
       "      <td>535304180</td>\n",
       "      <td>20</td>\n",
       "      <td>RL</td>\n",
       "      <td>68.0</td>\n",
       "      <td>7922</td>\n",
       "      <td>Pave</td>\n",
       "      <td>NaN</td>\n",
       "      <td>Reg</td>\n",
       "      <td>Lvl</td>\n",
       "      <td>...</td>\n",
       "      <td>0</td>\n",
       "      <td>0</td>\n",
       "      <td>NaN</td>\n",
       "      <td>NaN</td>\n",
       "      <td>NaN</td>\n",
       "      <td>0</td>\n",
       "      <td>1</td>\n",
       "      <td>2010</td>\n",
       "      <td>WD</td>\n",
       "      <td>109000</td>\n",
       "    </tr>\n",
       "  </tbody>\n",
       "</table>\n",
       "<p>3 rows × 81 columns</p>\n",
       "</div>"
      ],
      "text/plain": [
       "    Id        PID  MS SubClass MS Zoning  Lot Frontage  Lot Area Street Alley  \\\n",
       "0  109  533352170           60        RL           NaN     13517   Pave   NaN   \n",
       "1  544  531379050           60        RL          43.0     11492   Pave   NaN   \n",
       "2  153  535304180           20        RL          68.0      7922   Pave   NaN   \n",
       "\n",
       "  Lot Shape Land Contour  ... Screen Porch Pool Area Pool QC Fence  \\\n",
       "0       IR1          Lvl  ...            0         0     NaN   NaN   \n",
       "1       IR1          Lvl  ...            0         0     NaN   NaN   \n",
       "2       Reg          Lvl  ...            0         0     NaN   NaN   \n",
       "\n",
       "  Misc Feature Misc Val Mo Sold Yr Sold  Sale Type  SalePrice  \n",
       "0          NaN        0       3    2010        WD      130500  \n",
       "1          NaN        0       4    2009        WD      220000  \n",
       "2          NaN        0       1    2010        WD      109000  \n",
       "\n",
       "[3 rows x 81 columns]"
      ]
     },
     "execution_count": 5,
     "metadata": {},
     "output_type": "execute_result"
    }
   ],
   "source": [
    "train.head(3)"
   ]
  },
  {
   "cell_type": "code",
   "execution_count": null,
   "id": "f98830fc-7de5-4f28-800f-b021ae94488b",
   "metadata": {},
   "outputs": [],
   "source": []
  },
  {
   "cell_type": "code",
   "execution_count": 6,
   "id": "bc6f2313-c4b9-4066-89fd-310ae9c0847b",
   "metadata": {},
   "outputs": [],
   "source": [
    "data_dummies_initial = pd.get_dummies(train, columns=['Bldg Type','House Style','Condition 1','Condition 2','Lot Config'], drop_first=True)"
   ]
  },
  {
   "cell_type": "code",
   "execution_count": 7,
   "id": "1fd77d2d-a920-4f83-9c60-2fa61ba3fd7b",
   "metadata": {},
   "outputs": [],
   "source": [
    "data_dummies_highest = pd.get_dummies(train, columns=['Garage Cond','Bsmt Cond','Exter Cond'], drop_first=True)"
   ]
  },
  {
   "cell_type": "code",
   "execution_count": 8,
   "id": "6a164458-ab70-4d3d-8130-b607403b4f32",
   "metadata": {},
   "outputs": [],
   "source": [
    "data_dummies_fixable = pd.get_dummies(train, columns=['Neighborhood','Exterior 1st','Exterior 2nd','Fireplace Qu','Kitchen Qual'], drop_first = True)"
   ]
  },
  {
   "cell_type": "code",
   "execution_count": 9,
   "id": "307c49be-f3c4-47a1-81e3-b5afddcc0443",
   "metadata": {},
   "outputs": [],
   "source": [
    "data_dummies_neighborhood = pd.get_dummies(train, columns=['Neighborhood'], drop_first=True)"
   ]
  },
  {
   "cell_type": "code",
   "execution_count": 10,
   "id": "134a9e45-d59f-46b4-9067-6b2b52b1d13f",
   "metadata": {},
   "outputs": [
    {
     "data": {
      "text/html": [
       "<div>\n",
       "<style scoped>\n",
       "    .dataframe tbody tr th:only-of-type {\n",
       "        vertical-align: middle;\n",
       "    }\n",
       "\n",
       "    .dataframe tbody tr th {\n",
       "        vertical-align: top;\n",
       "    }\n",
       "\n",
       "    .dataframe thead th {\n",
       "        text-align: right;\n",
       "    }\n",
       "</style>\n",
       "<table border=\"1\" class=\"dataframe\">\n",
       "  <thead>\n",
       "    <tr style=\"text-align: right;\">\n",
       "      <th></th>\n",
       "      <th>Id</th>\n",
       "      <th>PID</th>\n",
       "      <th>MS SubClass</th>\n",
       "      <th>MS Zoning</th>\n",
       "      <th>Lot Frontage</th>\n",
       "      <th>Lot Area</th>\n",
       "      <th>Street</th>\n",
       "      <th>Alley</th>\n",
       "      <th>Lot Shape</th>\n",
       "      <th>Land Contour</th>\n",
       "      <th>...</th>\n",
       "      <th>Exterior 2nd_VinylSd</th>\n",
       "      <th>Exterior 2nd_Wd Sdng</th>\n",
       "      <th>Exterior 2nd_Wd Shng</th>\n",
       "      <th>Fireplace Qu_Fa</th>\n",
       "      <th>Fireplace Qu_Gd</th>\n",
       "      <th>Fireplace Qu_Po</th>\n",
       "      <th>Fireplace Qu_TA</th>\n",
       "      <th>Kitchen Qual_Fa</th>\n",
       "      <th>Kitchen Qual_Gd</th>\n",
       "      <th>Kitchen Qual_TA</th>\n",
       "    </tr>\n",
       "  </thead>\n",
       "  <tbody>\n",
       "    <tr>\n",
       "      <th>0</th>\n",
       "      <td>109</td>\n",
       "      <td>533352170</td>\n",
       "      <td>60</td>\n",
       "      <td>RL</td>\n",
       "      <td>NaN</td>\n",
       "      <td>13517</td>\n",
       "      <td>Pave</td>\n",
       "      <td>NaN</td>\n",
       "      <td>IR1</td>\n",
       "      <td>Lvl</td>\n",
       "      <td>...</td>\n",
       "      <td>0</td>\n",
       "      <td>0</td>\n",
       "      <td>0</td>\n",
       "      <td>0</td>\n",
       "      <td>0</td>\n",
       "      <td>0</td>\n",
       "      <td>0</td>\n",
       "      <td>0</td>\n",
       "      <td>1</td>\n",
       "      <td>0</td>\n",
       "    </tr>\n",
       "    <tr>\n",
       "      <th>1</th>\n",
       "      <td>544</td>\n",
       "      <td>531379050</td>\n",
       "      <td>60</td>\n",
       "      <td>RL</td>\n",
       "      <td>43.0</td>\n",
       "      <td>11492</td>\n",
       "      <td>Pave</td>\n",
       "      <td>NaN</td>\n",
       "      <td>IR1</td>\n",
       "      <td>Lvl</td>\n",
       "      <td>...</td>\n",
       "      <td>1</td>\n",
       "      <td>0</td>\n",
       "      <td>0</td>\n",
       "      <td>0</td>\n",
       "      <td>0</td>\n",
       "      <td>0</td>\n",
       "      <td>1</td>\n",
       "      <td>0</td>\n",
       "      <td>1</td>\n",
       "      <td>0</td>\n",
       "    </tr>\n",
       "    <tr>\n",
       "      <th>2</th>\n",
       "      <td>153</td>\n",
       "      <td>535304180</td>\n",
       "      <td>20</td>\n",
       "      <td>RL</td>\n",
       "      <td>68.0</td>\n",
       "      <td>7922</td>\n",
       "      <td>Pave</td>\n",
       "      <td>NaN</td>\n",
       "      <td>Reg</td>\n",
       "      <td>Lvl</td>\n",
       "      <td>...</td>\n",
       "      <td>1</td>\n",
       "      <td>0</td>\n",
       "      <td>0</td>\n",
       "      <td>0</td>\n",
       "      <td>0</td>\n",
       "      <td>0</td>\n",
       "      <td>0</td>\n",
       "      <td>0</td>\n",
       "      <td>1</td>\n",
       "      <td>0</td>\n",
       "    </tr>\n",
       "  </tbody>\n",
       "</table>\n",
       "<p>3 rows × 138 columns</p>\n",
       "</div>"
      ],
      "text/plain": [
       "    Id        PID  MS SubClass MS Zoning  Lot Frontage  Lot Area Street Alley  \\\n",
       "0  109  533352170           60        RL           NaN     13517   Pave   NaN   \n",
       "1  544  531379050           60        RL          43.0     11492   Pave   NaN   \n",
       "2  153  535304180           20        RL          68.0      7922   Pave   NaN   \n",
       "\n",
       "  Lot Shape Land Contour  ... Exterior 2nd_VinylSd Exterior 2nd_Wd Sdng  \\\n",
       "0       IR1          Lvl  ...                    0                    0   \n",
       "1       IR1          Lvl  ...                    1                    0   \n",
       "2       Reg          Lvl  ...                    1                    0   \n",
       "\n",
       "  Exterior 2nd_Wd Shng Fireplace Qu_Fa Fireplace Qu_Gd Fireplace Qu_Po  \\\n",
       "0                    0               0               0               0   \n",
       "1                    0               0               0               0   \n",
       "2                    0               0               0               0   \n",
       "\n",
       "  Fireplace Qu_TA  Kitchen Qual_Fa  Kitchen Qual_Gd  Kitchen Qual_TA  \n",
       "0               0                0                1                0  \n",
       "1               1                0                1                0  \n",
       "2               0                0                1                0  \n",
       "\n",
       "[3 rows x 138 columns]"
      ]
     },
     "execution_count": 10,
     "metadata": {},
     "output_type": "execute_result"
    }
   ],
   "source": [
    "data_dummies_fixable.head(3)"
   ]
  },
  {
   "cell_type": "code",
   "execution_count": null,
   "id": "3f77b6a8-2c72-4727-a9ca-f8d3ce4be848",
   "metadata": {},
   "outputs": [],
   "source": []
  },
  {
   "cell_type": "markdown",
   "id": "242e10bc-3b16-4f94-9ca5-f967d81981a8",
   "metadata": {},
   "source": [
    "### Obtaining best correlations"
   ]
  },
  {
   "cell_type": "code",
   "execution_count": 11,
   "id": "434763d3-e70f-43d1-ae1c-bb9fc5ed7bcb",
   "metadata": {},
   "outputs": [],
   "source": [
    "sale_price_corr = data_dummies_highest.corr()['SalePrice']"
   ]
  },
  {
   "cell_type": "code",
   "execution_count": 12,
   "id": "08ab4794-e863-43a0-99c2-d7f61105b208",
   "metadata": {},
   "outputs": [],
   "source": [
    "# Change max number of rows (to 101, for example)\n",
    "pd.set_option(\"display.max_rows\", 150)"
   ]
  },
  {
   "cell_type": "code",
   "execution_count": 13,
   "id": "ff385a90-2a30-43cd-81d2-84aee97fe7a8",
   "metadata": {
    "tags": []
   },
   "outputs": [
    {
     "data": {
      "text/plain": [
       "SalePrice          1.000000\n",
       "Overall Qual       0.808348\n",
       "Gr Liv Area        0.708928\n",
       "Garage Cars        0.666776\n",
       "Garage Area        0.653270\n",
       "Total Bsmt SF      0.645308\n",
       "1st Flr SF         0.632111\n",
       "Year Built         0.582502\n",
       "Year Remod/Add     0.560220\n",
       "Garage Yr Blt      0.544042\n",
       "Full Bath          0.534464\n",
       "TotRms AbvGrd      0.477248\n",
       "Mas Vnr Area       0.473547\n",
       "Fireplaces         0.471560\n",
       "BsmtFin SF 1       0.423343\n",
       "Lot Frontage       0.366854\n",
       "Open Porch SF      0.349321\n",
       "Wood Deck SF       0.333227\n",
       "Lot Area           0.285845\n",
       "Garage Cond_TA     0.282256\n",
       "Half Bath          0.278031\n",
       "Bsmt Full Bath     0.276017\n",
       "2nd Flr SF         0.249148\n",
       "Bsmt Unf SF        0.186016\n",
       "Bsmt Cond_Gd       0.134182\n",
       "Bedroom AbvGr      0.125151\n",
       "Exter Cond_TA      0.123668\n",
       "Screen Porch       0.090830\n",
       "Bsmt Cond_TA       0.079392\n",
       "3Ssn Porch         0.057925\n",
       "Pool Area          0.038262\n",
       "Mo Sold            0.036366\n",
       "Garage Cond_Gd     0.023423\n",
       "BsmtFin SF 2      -0.005759\n",
       "Misc Val          -0.007232\n",
       "Bsmt Cond_Po      -0.023755\n",
       "Yr Sold           -0.025666\n",
       "Exter Cond_Po     -0.031309\n",
       "Id                -0.038676\n",
       "Low Qual Fin SF   -0.041347\n",
       "Bsmt Half Bath    -0.044954\n",
       "Garage Cond_Po    -0.063113\n",
       "Exter Cond_Gd     -0.068632\n",
       "MS SubClass       -0.081952\n",
       "Overall Cond      -0.095460\n",
       "Enclosed Porch    -0.143679\n",
       "Kitchen AbvGr     -0.146179\n",
       "Bsmt Cond_Fa      -0.150577\n",
       "Garage Cond_Fa    -0.151385\n",
       "Exter Cond_Fa     -0.153508\n",
       "PID               -0.247573\n",
       "Name: SalePrice, dtype: float64"
      ]
     },
     "execution_count": 13,
     "metadata": {},
     "output_type": "execute_result"
    }
   ],
   "source": [
    "# discover dummy correlations\n",
    "sale_price_corr.sort_values(ascending=False)"
   ]
  },
  {
   "cell_type": "markdown",
   "id": "73855e2c-50ae-4f80-9be6-5809834a9cbb",
   "metadata": {},
   "source": [
    "### Creating X and y"
   ]
  },
  {
   "cell_type": "code",
   "execution_count": 14,
   "id": "2e82aed0-e8f9-4a56-9df2-e1a496a40652",
   "metadata": {},
   "outputs": [],
   "source": [
    "X=data_dummies_highest[['Overall Qual', 'Gr Liv Area','Garage Cars', 'Garage Area','Total Bsmt SF','Garage Cond_TA','Bsmt Cond_Gd','Exter Cond_TA']]"
   ]
  },
  {
   "cell_type": "code",
   "execution_count": 15,
   "id": "f1f343c2-23a5-4620-825b-fbee799bc471",
   "metadata": {},
   "outputs": [
    {
     "data": {
      "text/plain": [
       "(2008, 8)"
      ]
     },
     "execution_count": 15,
     "metadata": {},
     "output_type": "execute_result"
    }
   ],
   "source": [
    "X.shape"
   ]
  },
  {
   "cell_type": "code",
   "execution_count": 16,
   "id": "a7f0931c-1071-485f-98bc-e1051daf05db",
   "metadata": {},
   "outputs": [],
   "source": [
    "y = data_dummies_fixable['SalePrice']"
   ]
  },
  {
   "cell_type": "code",
   "execution_count": 17,
   "id": "94ad8669-be70-4658-a203-f3d0f91da8b5",
   "metadata": {},
   "outputs": [
    {
     "data": {
      "text/plain": [
       "(2008,)"
      ]
     },
     "execution_count": 17,
     "metadata": {},
     "output_type": "execute_result"
    }
   ],
   "source": [
    "y.shape"
   ]
  },
  {
   "cell_type": "code",
   "execution_count": null,
   "id": "5e9ec7c9-7ee7-4801-90a5-e387c11e9935",
   "metadata": {},
   "outputs": [],
   "source": []
  },
  {
   "cell_type": "markdown",
   "id": "b671ea2b-ca49-4382-993b-9abc12235ad5",
   "metadata": {},
   "source": [
    "### Train-test splitting"
   ]
  },
  {
   "cell_type": "code",
   "execution_count": 18,
   "id": "ce14c189-14b3-46aa-a365-fd967d591955",
   "metadata": {},
   "outputs": [],
   "source": [
    "# X before y; train before test\n",
    "X_train, X_test, y_train, y_test = train_test_split(X, y, random_state=42)"
   ]
  },
  {
   "cell_type": "code",
   "execution_count": 19,
   "id": "3b52b3d0-6f6f-49c3-ac69-730239a9da16",
   "metadata": {},
   "outputs": [
    {
     "name": "stdout",
     "output_type": "stream",
     "text": [
      "X Shapes:\n",
      "Train: (1506, 8)\n",
      "Test: (502, 8)\n",
      " \n",
      "y Shapes:\n",
      "Train: (1506,)\n",
      "Test: (502,)\n"
     ]
    }
   ],
   "source": [
    "# Get the shapes the training and testing subsets\n",
    "print(\"X Shapes:\")\n",
    "print(f\"Train: {X_train.shape}\")\n",
    "print(f\"Test: {X_test.shape}\")\n",
    "print(\" \")\n",
    "print(\"y Shapes:\")\n",
    "print(f\"Train: {y_train.shape}\")\n",
    "print(f\"Test: {y_test.shape}\")"
   ]
  },
  {
   "cell_type": "code",
   "execution_count": null,
   "id": "a9f6f693-fbb5-4e04-b6ff-57831d89bae3",
   "metadata": {},
   "outputs": [],
   "source": []
  },
  {
   "cell_type": "markdown",
   "id": "f57242a7-9bce-4e73-a1a6-3dbae4b7e223",
   "metadata": {},
   "source": [
    "### Linear Regression model fit"
   ]
  },
  {
   "cell_type": "code",
   "execution_count": 20,
   "id": "7bf84a3b-9562-4549-bf0b-b974677de317",
   "metadata": {},
   "outputs": [
    {
     "data": {
      "text/plain": [
       "LinearRegression()"
      ]
     },
     "execution_count": 20,
     "metadata": {},
     "output_type": "execute_result"
    }
   ],
   "source": [
    "lr = LinearRegression()\n",
    "lr.fit(X_train, y_train)"
   ]
  },
  {
   "cell_type": "code",
   "execution_count": 21,
   "id": "5482b0a3-f55a-443b-b48b-380de7ac6dfe",
   "metadata": {},
   "outputs": [
    {
     "data": {
      "text/plain": [
       "(0.8129545302953611, 0.8255364061043157)"
      ]
     },
     "execution_count": 21,
     "metadata": {},
     "output_type": "execute_result"
    }
   ],
   "source": [
    "lr.score(X_train, y_train), lr.score(X_test, y_test)"
   ]
  },
  {
   "cell_type": "code",
   "execution_count": 22,
   "id": "a58fb458-4a09-4ae1-a897-71ad9e8de6ed",
   "metadata": {},
   "outputs": [],
   "source": [
    "train_pred = lr.predict(X_train)\n",
    "test_pred = lr.predict(X_test)"
   ]
  },
  {
   "cell_type": "code",
   "execution_count": 23,
   "id": "3890df70-8eb1-449c-bf56-93db32e67047",
   "metadata": {},
   "outputs": [
    {
     "data": {
      "text/plain": [
       "array([165610.56530772, 229793.2894145 , 118018.4623237 , 125364.84924193,\n",
       "       171059.763494  , 220253.64100435, 141548.96700073, 149692.23645244,\n",
       "       115364.61179564, 185837.10131675])"
      ]
     },
     "execution_count": 23,
     "metadata": {},
     "output_type": "execute_result"
    }
   ],
   "source": [
    "cross_val_predict(estimator=lr, X=X, y=y)[0:10]"
   ]
  },
  {
   "cell_type": "markdown",
   "id": "8cd0dee0-61d8-4ddd-ad81-b45e84efb389",
   "metadata": {},
   "source": [
    "### Cross Validation"
   ]
  },
  {
   "cell_type": "code",
   "execution_count": 24,
   "id": "dc16e679-8c43-40ec-80ba-23a32979e65a",
   "metadata": {},
   "outputs": [],
   "source": [
    "from sklearn.model_selection import cross_val_score, cross_val_predict"
   ]
  },
  {
   "cell_type": "code",
   "execution_count": 25,
   "id": "249d3953-443e-4abc-b4e4-bfc4cdf8a4c8",
   "metadata": {},
   "outputs": [
    {
     "data": {
      "text/plain": [
       "0.8096900356783218"
      ]
     },
     "execution_count": 25,
     "metadata": {},
     "output_type": "execute_result"
    }
   ],
   "source": [
    "lr_scores = cross_val_score(lr, X_train, y_train, cv=5)\n",
    "lr_scores.mean()"
   ]
  },
  {
   "cell_type": "code",
   "execution_count": 26,
   "id": "0aa79bff-73a2-4dde-a5e1-257c8e171b5e",
   "metadata": {},
   "outputs": [
    {
     "data": {
      "text/plain": [
       "(502, 8)"
      ]
     },
     "metadata": {},
     "output_type": "display_data"
    },
    {
     "data": {
      "text/plain": [
       "(1506, 8)"
      ]
     },
     "metadata": {},
     "output_type": "display_data"
    },
    {
     "data": {
      "text/plain": [
       "(1506,)"
      ]
     },
     "metadata": {},
     "output_type": "display_data"
    },
    {
     "data": {
      "text/plain": [
       "(502,)"
      ]
     },
     "metadata": {},
     "output_type": "display_data"
    }
   ],
   "source": [
    "display(X_test.shape, X_train.shape,y_train.shape,y_test.shape)"
   ]
  },
  {
   "cell_type": "code",
   "execution_count": 27,
   "id": "8bcf2612-6a84-4293-b843-9e50624a9635",
   "metadata": {},
   "outputs": [
    {
     "data": {
      "text/plain": [
       "array([165610.56530772, 229793.2894145 , 118018.4623237 , 125364.84924193,\n",
       "       171059.763494  , 220253.64100435, 141548.96700073, 149692.23645244,\n",
       "       115364.61179564, 185837.10131675])"
      ]
     },
     "execution_count": 27,
     "metadata": {},
     "output_type": "execute_result"
    }
   ],
   "source": [
    "cross_val_predict(estimator=lr, X=X, y=y)[0:10]"
   ]
  },
  {
   "cell_type": "code",
   "execution_count": null,
   "id": "bdb12581-810c-4f04-8620-4da6900dacd0",
   "metadata": {},
   "outputs": [],
   "source": []
  },
  {
   "cell_type": "markdown",
   "id": "317c6fbb-cbdd-4e65-9226-0db027bdddd4",
   "metadata": {},
   "source": [
    "## Interpreting Slopes for dummie variables"
   ]
  },
  {
   "cell_type": "code",
   "execution_count": 28,
   "id": "d09091eb-6f5d-45d2-b67a-d9f0d9193241",
   "metadata": {},
   "outputs": [],
   "source": [
    "features = ['Overall Qual', 'Gr Liv Area','Garage Cars', 'Garage Area','Total Bsmt SF','Garage Cond_TA','Bsmt Cond_Gd','Exter Cond_TA']"
   ]
  },
  {
   "cell_type": "code",
   "execution_count": 29,
   "id": "6ce24a28-52fb-4e97-aa17-a288b8c3988c",
   "metadata": {},
   "outputs": [
    {
     "data": {
      "text/plain": [
       "[('Overall Qual', 22220.81409721702),\n",
       " ('Gr Liv Area', 46.19185930554918),\n",
       " ('Garage Cars', 6943.4239197068455),\n",
       " ('Garage Area', 46.705384041603764),\n",
       " ('Total Bsmt SF', 36.69379693546824),\n",
       " ('Garage Cond_TA', -4911.299822331424),\n",
       " ('Bsmt Cond_Gd', 5532.293924262402),\n",
       " ('Exter Cond_TA', -2587.9909574247285)]"
      ]
     },
     "execution_count": 29,
     "metadata": {},
     "output_type": "execute_result"
    }
   ],
   "source": [
    "list(zip(features, lr.coef_))"
   ]
  },
  {
   "cell_type": "code",
   "execution_count": 30,
   "id": "78540c4b-2b2e-4f07-8626-d4821319e014",
   "metadata": {},
   "outputs": [
    {
     "data": {
      "text/html": [
       "<div>\n",
       "<style scoped>\n",
       "    .dataframe tbody tr th:only-of-type {\n",
       "        vertical-align: middle;\n",
       "    }\n",
       "\n",
       "    .dataframe tbody tr th {\n",
       "        vertical-align: top;\n",
       "    }\n",
       "\n",
       "    .dataframe thead th {\n",
       "        text-align: right;\n",
       "    }\n",
       "</style>\n",
       "<table border=\"1\" class=\"dataframe\">\n",
       "  <thead>\n",
       "    <tr style=\"text-align: right;\">\n",
       "      <th></th>\n",
       "      <th>Coefficient</th>\n",
       "    </tr>\n",
       "  </thead>\n",
       "  <tbody>\n",
       "    <tr>\n",
       "      <th>Overall Qual</th>\n",
       "      <td>22220.814097</td>\n",
       "    </tr>\n",
       "    <tr>\n",
       "      <th>Gr Liv Area</th>\n",
       "      <td>46.191859</td>\n",
       "    </tr>\n",
       "    <tr>\n",
       "      <th>Garage Cars</th>\n",
       "      <td>6943.423920</td>\n",
       "    </tr>\n",
       "    <tr>\n",
       "      <th>Garage Area</th>\n",
       "      <td>46.705384</td>\n",
       "    </tr>\n",
       "    <tr>\n",
       "      <th>Total Bsmt SF</th>\n",
       "      <td>36.693797</td>\n",
       "    </tr>\n",
       "    <tr>\n",
       "      <th>Garage Cond_TA</th>\n",
       "      <td>-4911.299822</td>\n",
       "    </tr>\n",
       "    <tr>\n",
       "      <th>Bsmt Cond_Gd</th>\n",
       "      <td>5532.293924</td>\n",
       "    </tr>\n",
       "    <tr>\n",
       "      <th>Exter Cond_TA</th>\n",
       "      <td>-2587.990957</td>\n",
       "    </tr>\n",
       "  </tbody>\n",
       "</table>\n",
       "</div>"
      ],
      "text/plain": [
       "                 Coefficient\n",
       "Overall Qual    22220.814097\n",
       "Gr Liv Area        46.191859\n",
       "Garage Cars      6943.423920\n",
       "Garage Area        46.705384\n",
       "Total Bsmt SF      36.693797\n",
       "Garage Cond_TA  -4911.299822\n",
       "Bsmt Cond_Gd     5532.293924\n",
       "Exter Cond_TA   -2587.990957"
      ]
     },
     "execution_count": 30,
     "metadata": {},
     "output_type": "execute_result"
    }
   ],
   "source": [
    "# Use a data frame\n",
    "pd.DataFrame(lr.coef_, index=features, columns=['Coefficient'])"
   ]
  },
  {
   "cell_type": "code",
   "execution_count": 31,
   "id": "31fafdc0-3be9-445f-be03-1a75f3b282b8",
   "metadata": {
    "tags": []
   },
   "outputs": [
    {
     "data": {
      "text/plain": [
       "['Overall Qual: 22220.81409721702',\n",
       " 'Gr Liv Area: 46.19185930554918',\n",
       " 'Garage Cars: 6943.4239197068455',\n",
       " 'Garage Area: 46.705384041603764',\n",
       " 'Total Bsmt SF: 36.69379693546824',\n",
       " 'Garage Cond_TA: -4911.299822331424',\n",
       " 'Bsmt Cond_Gd: 5532.293924262402',\n",
       " 'Exter Cond_TA: -2587.9909574247285']"
      ]
     },
     "execution_count": 31,
     "metadata": {},
     "output_type": "execute_result"
    }
   ],
   "source": [
    "[f'{X.columns[i]}: {lr.coef_[i]}' for i in range(len(X.columns))]"
   ]
  },
  {
   "cell_type": "markdown",
   "id": "30d78fba-c726-4e22-b51d-583c6e5be6c1",
   "metadata": {},
   "source": [
    "## Making predictions"
   ]
  },
  {
   "cell_type": "code",
   "execution_count": 33,
   "id": "21374121-cce2-494d-a40d-92d288563a77",
   "metadata": {},
   "outputs": [],
   "source": [
    "# get predictions from our X data\n",
    "predictions = lr.predict(X)"
   ]
  },
  {
   "cell_type": "code",
   "execution_count": 34,
   "id": "24093257-43f7-4fc9-80c7-55cc0904a499",
   "metadata": {},
   "outputs": [
    {
     "data": {
      "text/plain": [
       "array([165511.51193564, 228255.37764969, 120929.10788625, 125658.49420462,\n",
       "       168095.63505005])"
      ]
     },
     "execution_count": 34,
     "metadata": {},
     "output_type": "execute_result"
    }
   ],
   "source": [
    "predictions[0:5]"
   ]
  },
  {
   "cell_type": "code",
   "execution_count": 35,
   "id": "7e171a18-dd34-4cd6-8efa-c37945b73d60",
   "metadata": {},
   "outputs": [
    {
     "data": {
      "text/plain": [
       "0    130500\n",
       "1    220000\n",
       "2    109000\n",
       "3    174000\n",
       "4    138500\n",
       "Name: SalePrice, dtype: int64"
      ]
     },
     "execution_count": 35,
     "metadata": {},
     "output_type": "execute_result"
    }
   ],
   "source": [
    "#Compare to actual values\n",
    "y.head()"
   ]
  },
  {
   "cell_type": "code",
   "execution_count": null,
   "id": "6db9b8d6-2d10-4887-bbe5-e59ff3b9df02",
   "metadata": {},
   "outputs": [],
   "source": []
  },
  {
   "cell_type": "markdown",
   "id": "b0477db4-cda5-4a5f-ac71-4c828e18de32",
   "metadata": {},
   "source": [
    "### Residuals"
   ]
  },
  {
   "cell_type": "code",
   "execution_count": 36,
   "id": "00d01b5e-29f8-45c2-93c6-5ff04664d581",
   "metadata": {},
   "outputs": [
    {
     "data": {
      "text/plain": [
       "0   -35011.511936\n",
       "1    -8255.377650\n",
       "2   -11929.107886\n",
       "3    48341.505795\n",
       "4   -29595.635050\n",
       "Name: SalePrice, dtype: float64"
      ]
     },
     "execution_count": 36,
     "metadata": {},
     "output_type": "execute_result"
    }
   ],
   "source": [
    "# calculate residuals (y - yhat/predicted values)\n",
    "residuals = y - predictions\n",
    "residuals[0:5]"
   ]
  },
  {
   "cell_type": "code",
   "execution_count": 37,
   "id": "64e647b5-17f0-4b34-9abd-7252419d217d",
   "metadata": {},
   "outputs": [
    {
     "data": {
      "text/plain": [
       "233.47"
      ]
     },
     "execution_count": 37,
     "metadata": {},
     "output_type": "execute_result"
    }
   ],
   "source": [
    "round(np.mean(residuals),2)"
   ]
  },
  {
   "cell_type": "code",
   "execution_count": 38,
   "id": "9d83c9d0-660a-4050-84c5-256bae1c2c08",
   "metadata": {},
   "outputs": [
    {
     "data": {
      "text/plain": [
       "233.46654198075976"
      ]
     },
     "execution_count": 38,
     "metadata": {},
     "output_type": "execute_result"
    }
   ],
   "source": [
    "# mean of residuals\n",
    "residuals.mean()"
   ]
  },
  {
   "cell_type": "code",
   "execution_count": 39,
   "id": "90884bc9-1e80-443f-ae5f-1dd8bc257cb3",
   "metadata": {},
   "outputs": [
    {
     "data": {
      "text/plain": [
       "233.46654198075976"
      ]
     },
     "execution_count": 39,
     "metadata": {},
     "output_type": "execute_result"
    }
   ],
   "source": [
    "np.mean(residuals)"
   ]
  },
  {
   "cell_type": "code",
   "execution_count": null,
   "id": "d263a3b9-049c-44e1-a286-b43089576dff",
   "metadata": {},
   "outputs": [],
   "source": []
  },
  {
   "cell_type": "code",
   "execution_count": null,
   "id": "70339fe0-81d2-4ac9-b823-6e626d740b3f",
   "metadata": {},
   "outputs": [],
   "source": []
  },
  {
   "cell_type": "markdown",
   "id": "956ce24b-a73e-4b62-bb7a-d5cadd6f4a69",
   "metadata": {},
   "source": [
    "## LINE Assumptions \n",
    "The assumptions necessary to conduct a proper linear regression are easily remembered by the \"LINE\" acronym:\n",
    "\n",
    "* L - Linearity: there is a linear relationship between x and y (fix: apply non-linear transformation)\n",
    "* I - Independence of residuals (usually assumed)\n",
    "* N - Normality: residuals are normally distributed (fix: log y variable)\n",
    "* E - Equality of variance: residuals have constant variance (fix: check outliers, non-linear transformation)"
   ]
  },
  {
   "cell_type": "code",
   "execution_count": 40,
   "id": "3d268480-8622-473a-bbe0-1c47df0bd77a",
   "metadata": {},
   "outputs": [],
   "source": [
    "# I assumption:\n",
    "# true by assumption"
   ]
  },
  {
   "cell_type": "code",
   "execution_count": 41,
   "id": "ee26dd9e-6080-4cc4-bea0-659023ac6196",
   "metadata": {},
   "outputs": [
    {
     "data": {
      "image/png": "[encoded data removed]",
      "text/plain": [
       "<Figure size 432x288 with 1 Axes>"
      ]
     },
     "metadata": {
      "needs_background": "light"
     },
     "output_type": "display_data"
    }
   ],
   "source": [
    "# N assumption:\n",
    "#Check the normality (of residuals) assumption\n",
    "plt.hist(residuals, bins = 20);"
   ]
  },
  {
   "cell_type": "code",
   "execution_count": 42,
   "id": "cb5ae804-3c64-452d-8e2a-46c509047ff9",
   "metadata": {},
   "outputs": [
    {
     "data": {
      "image/png": "[encoded data removed]",
      "text/plain": [
       "<Figure size 432x288 with 1 Axes>"
      ]
     },
     "metadata": {
      "needs_background": "light"
     },
     "output_type": "display_data"
    }
   ],
   "source": [
    "# L and E assumption\n",
    "# our actual residuals\n",
    "plt.scatter(predictions, residuals)\n",
    "plt.axhline(0, color='orange');"
   ]
  },
  {
   "cell_type": "code",
   "execution_count": null,
   "id": "526eb4e7-b9eb-4fb4-a01c-252db1f0eb7d",
   "metadata": {},
   "outputs": [],
   "source": []
  },
  {
   "cell_type": "markdown",
   "id": "9b12b669-3e78-4728-93a5-51350381c9b8",
   "metadata": {},
   "source": [
    "### MSE and RMSE"
   ]
  },
  {
   "cell_type": "code",
   "execution_count": 43,
   "id": "f9af6b85-8ede-4a61-b6e8-d58ecb42af4b",
   "metadata": {},
   "outputs": [
    {
     "data": {
      "text/plain": [
       "947648468.7080024"
      ]
     },
     "execution_count": 43,
     "metadata": {},
     "output_type": "execute_result"
    }
   ],
   "source": [
    "# MSE for training\n",
    "mean_squared_error(y_true=y_train, y_pred=train_pred)"
   ]
  },
  {
   "cell_type": "code",
   "execution_count": 44,
   "id": "49be3350-e9bd-482f-9e8f-0f4fc9a452bb",
   "metadata": {},
   "outputs": [
    {
     "data": {
      "text/plain": [
       "1032842706.634636"
      ]
     },
     "execution_count": 44,
     "metadata": {},
     "output_type": "execute_result"
    }
   ],
   "source": [
    "# MSE for testing\n",
    "mean_squared_error(y_true=y_test, y_pred=test_pred)"
   ]
  },
  {
   "cell_type": "code",
   "execution_count": 45,
   "id": "2f4c40e8-816e-4166-ad60-74b7bfd008bd",
   "metadata": {},
   "outputs": [
    {
     "data": {
      "text/plain": [
       "30783.899504578727"
      ]
     },
     "execution_count": 45,
     "metadata": {},
     "output_type": "execute_result"
    }
   ],
   "source": [
    "# RMSE for training\n",
    "mean_squared_error(y_true=y_train, y_pred=train_pred, squared = False)"
   ]
  },
  {
   "cell_type": "code",
   "execution_count": 46,
   "id": "66678935-1afe-4f28-b0b7-c6258564174a",
   "metadata": {},
   "outputs": [
    {
     "data": {
      "text/plain": [
       "32137.870287787213"
      ]
     },
     "execution_count": 46,
     "metadata": {},
     "output_type": "execute_result"
    }
   ],
   "source": [
    "# RMSE for testing\n",
    "mean_squared_error(y_true=y_test, y_pred=test_pred, squared = False)"
   ]
  },
  {
   "cell_type": "code",
   "execution_count": null,
   "id": "72ec129e-94d5-4290-a020-340cd62c9324",
   "metadata": {},
   "outputs": [],
   "source": []
  },
  {
   "cell_type": "markdown",
   "id": "bae55e0d-6dc5-401c-8cf1-fccd3a684d51",
   "metadata": {},
   "source": [
    "## Coefficient of Determination, $R^2$"
   ]
  },
  {
   "cell_type": "code",
   "execution_count": 47,
   "id": "a6e55e4e-8341-489d-9570-043110f8d884",
   "metadata": {},
   "outputs": [],
   "source": [
    "# Null prediction\n",
    "null_prediction = y.mean()"
   ]
  },
  {
   "cell_type": "code",
   "execution_count": 48,
   "id": "48cb181b-119e-40b2-b1f2-e465145d55ab",
   "metadata": {},
   "outputs": [],
   "source": [
    "# Null residuals\n",
    "null_residuals = y - null_prediction"
   ]
  },
  {
   "cell_type": "code",
   "execution_count": 49,
   "id": "fbcf43ed-87a5-4d83-acb5-dd96634fc972",
   "metadata": {},
   "outputs": [],
   "source": [
    "# Null sum of squares\n",
    "null_ss = (null_residuals ** 2).sum()"
   ]
  },
  {
   "cell_type": "code",
   "execution_count": 50,
   "id": "f86ae080-b7e2-4c13-bace-c6cf570107cf",
   "metadata": {},
   "outputs": [
    {
     "data": {
      "text/plain": [
       "10617599577557.314"
      ]
     },
     "execution_count": 50,
     "metadata": {},
     "output_type": "execute_result"
    }
   ],
   "source": [
    "null_ss"
   ]
  },
  {
   "cell_type": "code",
   "execution_count": 51,
   "id": "7f4a1a4a-b763-4f3c-9a95-f9a64b8c3bd5",
   "metadata": {},
   "outputs": [
    {
     "data": {
      "text/plain": [
       "0.82"
      ]
     },
     "execution_count": 51,
     "metadata": {},
     "output_type": "execute_result"
    }
   ],
   "source": [
    "# R2 from model\n",
    "R2 = round(lr.score(X, y),2)\n",
    "R2"
   ]
  },
  {
   "cell_type": "code",
   "execution_count": 52,
   "id": "520bcc01-086a-41bb-9437-8627a965f676",
   "metadata": {},
   "outputs": [
    {
     "data": {
      "text/plain": [
       "0.8192796398199099"
      ]
     },
     "execution_count": 52,
     "metadata": {},
     "output_type": "execute_result"
    }
   ],
   "source": [
    "# # Adjusted R-squared: Adjusted R2 = 1 – [(1-R2)*(n-1)/(n-k-1)]\n",
    "n = len(y)\n",
    "k = len(features)\n",
    "\n",
    "1 - ((1-R2)*(n-1)/(n-k-1))"
   ]
  },
  {
   "cell_type": "markdown",
   "id": "25861cb6-a295-4874-ba06-e61183e9be17",
   "metadata": {},
   "source": [
    "### Plotting residuals"
   ]
  },
  {
   "cell_type": "code",
   "execution_count": 53,
   "id": "75a76ff9-373e-4037-80c8-e1ba9430382b",
   "metadata": {},
   "outputs": [],
   "source": [
    "train_resids = y_train - train_pred\n",
    "test_resids = y_test - test_pred"
   ]
  },
  {
   "cell_type": "code",
   "execution_count": 54,
   "id": "e2bbb78b-77d8-4af7-a21e-88c86db8aff4",
   "metadata": {},
   "outputs": [
    {
     "data": {
      "text/plain": [
       "<matplotlib.lines.Line2D at 0x27d82068bb0>"
      ]
     },
     "execution_count": 54,
     "metadata": {},
     "output_type": "execute_result"
    },
    {
     "data": {
      "image/png": "[encoded data removed]",
      "text/plain": [
       "<Figure size 432x288 with 1 Axes>"
      ]
     },
     "metadata": {
      "needs_background": "light"
     },
     "output_type": "display_data"
    }
   ],
   "source": [
    "#plt resids\n",
    "plt.scatter(y_test, test_resids)\n",
    "plt.xlabel('Actual')\n",
    "plt.ylabel('Residuals')\n",
    "plt.axhline(0, c='red', linestyle='--')"
   ]
  },
  {
   "cell_type": "markdown",
   "id": "ce882cb9-8fc2-48c1-9d2f-077f4367bcbc",
   "metadata": {},
   "source": [
    "### Plotting true vs. predicted"
   ]
  },
  {
   "cell_type": "code",
   "execution_count": 55,
   "id": "911f79e7-8999-42dd-935e-7f79dc537afc",
   "metadata": {},
   "outputs": [
    {
     "data": {
      "image/png": "[encoded data removed]",
      "text/plain": [
       "<Figure size 432x288 with 1 Axes>"
      ]
     },
     "metadata": {
      "needs_background": "light"
     },
     "output_type": "display_data"
    }
   ],
   "source": [
    "plt.scatter(y_test, test_pred)\n",
    "plt.title('True vs. predicted');"
   ]
  },
  {
   "cell_type": "code",
   "execution_count": null,
   "id": "e7b9744b-0624-4af8-ac7c-12388ae461be",
   "metadata": {},
   "outputs": [],
   "source": []
  },
  {
   "cell_type": "code",
   "execution_count": null,
   "id": "fe775d5d-6f7b-4010-800e-e9a773e5b808",
   "metadata": {},
   "outputs": [],
   "source": []
  },
  {
   "cell_type": "markdown",
   "id": "7350d8af-0096-494e-91c4-b722ddfaae80",
   "metadata": {},
   "source": [
    "### Export data"
   ]
  },
  {
   "cell_type": "code",
   "execution_count": null,
   "id": "b9fe8793-5f1b-47db-89d5-bb2788184ead",
   "metadata": {
    "tags": []
   },
   "outputs": [],
   "source": [
    "# test_subset = test[X]\n",
    "# test_preds = lr.predict(test_subset)"
   ]
  },
  {
   "cell_type": "code",
   "execution_count": null,
   "id": "be3f13ce-37d1-4838-a7af-47cb2a351743",
   "metadata": {},
   "outputs": [],
   "source": [
    "# test['SalePrice'] = test_preds"
   ]
  },
  {
   "cell_type": "code",
   "execution_count": null,
   "id": "20c16423-9766-4907-bfd2-d445baaca07f",
   "metadata": {},
   "outputs": [],
   "source": [
    "# test[['Id', 'SalePrice']].to_csv('submissions/second_model.csv', index=False)"
   ]
  },
  {
   "cell_type": "code",
   "execution_count": null,
   "id": "88b5c26f-7184-4fe8-8ba2-ba45e421ab99",
   "metadata": {},
   "outputs": [],
   "source": []
  },
  {
   "cell_type": "code",
   "execution_count": null,
   "id": "320a4a7c-d730-4dc9-905f-072a18f280a7",
   "metadata": {},
   "outputs": [],
   "source": []
  },
  {
   "cell_type": "code",
   "execution_count": null,
   "id": "af608117-2b04-4845-b717-e4deffc937e3",
   "metadata": {},
   "outputs": [],
   "source": []
  }
 ],
 "metadata": {
  "kernelspec": {
   "display_name": "Python 3",
   "language": "python",
   "name": "python3"
  },
  "language_info": {
   "codemirror_mode": {
    "name": "ipython",
    "version": 3
   },
   "file_extension": ".py",
   "mimetype": "text/x-python",
   "name": "python",
   "nbconvert_exporter": "python",
   "pygments_lexer": "ipython3",
   "version": "3.8.8"
  }
 },
 "nbformat": 4,
 "nbformat_minor": 5
}
